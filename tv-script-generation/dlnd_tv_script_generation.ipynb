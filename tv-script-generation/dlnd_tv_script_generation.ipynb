{
 "cells": [
  {
   "cell_type": "markdown",
   "metadata": {},
   "source": [
    "# TV Script Generation\n",
    "In this project, you'll generate your own [Simpsons](https://en.wikipedia.org/wiki/The_Simpsons) TV scripts using RNNs.  You'll be using part of the [Simpsons dataset](https://www.kaggle.com/wcukierski/the-simpsons-by-the-data) of scripts from 27 seasons.  The Neural Network you'll build will generate a new TV script for a scene at [Moe's Tavern](https://simpsonswiki.com/wiki/Moe's_Tavern).\n",
    "## Get the Data\n",
    "The data is already provided for you.  You'll be using a subset of the original dataset.  It consists of only the scenes in Moe's Tavern.  This doesn't include other versions of the tavern, like \"Moe's Cavern\", \"Flaming Moe's\", \"Uncle Moe's Family Feed-Bag\", etc.."
   ]
  },
  {
   "cell_type": "code",
   "execution_count": 1,
   "metadata": {},
   "outputs": [],
   "source": [
    "\"\"\"\n",
    "DON'T MODIFY ANYTHING IN THIS CELL\n",
    "\"\"\"\n",
    "import helper\n",
    "\n",
    "data_dir = './data/simpsons/moes_tavern_lines.txt'\n",
    "text = helper.load_data(data_dir)\n",
    "# Ignore notice, since we don't use it for analysing the data\n",
    "text = text[81:]"
   ]
  },
  {
   "cell_type": "markdown",
   "metadata": {},
   "source": [
    "## Explore the Data\n",
    "Play around with `view_sentence_range` to view different parts of the data."
   ]
  },
  {
   "cell_type": "code",
   "execution_count": 2,
   "metadata": {},
   "outputs": [
    {
     "name": "stdout",
     "output_type": "stream",
     "text": [
      "Dataset Stats\n",
      "Roughly the number of unique words: 11492\n",
      "Number of scenes: 262\n",
      "Average number of sentences in each scene: 15.248091603053435\n",
      "Number of lines: 4257\n",
      "Average number of words in each line: 11.50434578341555\n",
      "\n",
      "The sentences 0 to 20:\n",
      "Moe_Szyslak: (INTO PHONE) Moe's Tavern. Where the elite meet to drink.\n",
      "Bart_Simpson: Eh, yeah, hello, is Mike there? Last name, Rotch.\n",
      "Moe_Szyslak: (INTO PHONE) Hold on, I'll check. (TO BARFLIES) Mike Rotch. Mike Rotch. Hey, has anybody seen Mike Rotch, lately?\n",
      "Moe_Szyslak: (INTO PHONE) Listen you little puke. One of these days I'm gonna catch you, and I'm gonna carve my name on your back with an ice pick.\n",
      "Moe_Szyslak: What's the matter Homer? You're not your normal effervescent self.\n",
      "Homer_Simpson: I got my problems, Moe. Give me another one.\n",
      "Moe_Szyslak: Homer, hey, you should not drink to forget your problems.\n",
      "Barney_Gumble: Yeah, you should only drink to enhance your social skills.\n",
      "\n",
      "\n",
      "Moe_Szyslak: Ah, isn't that nice. Now, there is a politician who cares.\n",
      "Barney_Gumble: If I ever vote, it'll be for him. (BELCH)\n",
      "\n",
      "\n",
      "Barney_Gumble: Hey Homer, how's your neighbor's store doing?\n",
      "Homer_Simpson: Lousy. He just sits there all day. He'd have a great job if he didn't own the place. (CHUCKLES)\n",
      "Moe_Szyslak: (STRUGGLING WITH CORKSCREW) Crummy right-handed corkscrews! What does he sell?\n",
      "Homer_Simpson: Uh, well actually, Moe...\n",
      "HOMER_(CONT'D: I dunno.\n",
      "\n"
     ]
    }
   ],
   "source": [
    "view_sentence_range = (0, 20)\n",
    "\n",
    "\"\"\"\n",
    "DON'T MODIFY ANYTHING IN THIS CELL\n",
    "\"\"\"\n",
    "import numpy as np\n",
    "\n",
    "print('Dataset Stats')\n",
    "print('Roughly the number of unique words: {}'.format(len({word: None for word in text.split()})))\n",
    "scenes = text.split('\\n\\n')\n",
    "print('Number of scenes: {}'.format(len(scenes)))\n",
    "sentence_count_scene = [scene.count('\\n') for scene in scenes]\n",
    "print('Average number of sentences in each scene: {}'.format(np.average(sentence_count_scene)))\n",
    "\n",
    "sentences = [sentence for scene in scenes for sentence in scene.split('\\n')]\n",
    "print('Number of lines: {}'.format(len(sentences)))\n",
    "word_count_sentence = [len(sentence.split()) for sentence in sentences]\n",
    "print('Average number of words in each line: {}'.format(np.average(word_count_sentence)))\n",
    "\n",
    "print()\n",
    "print('The sentences {} to {}:'.format(*view_sentence_range))\n",
    "print('\\n'.join(text.split('\\n')[view_sentence_range[0]:view_sentence_range[1]]))"
   ]
  },
  {
   "cell_type": "markdown",
   "metadata": {},
   "source": [
    "## Implement Preprocessing Functions\n",
    "The first thing to do to any dataset is preprocessing.  Implement the following preprocessing functions below:\n",
    "- Lookup Table\n",
    "- Tokenize Punctuation\n",
    "\n",
    "### Lookup Table\n",
    "To create a word embedding, you first need to transform the words to ids.  In this function, create two dictionaries:\n",
    "- Dictionary to go from the words to an id, we'll call `vocab_to_int`\n",
    "- Dictionary to go from the id to word, we'll call `int_to_vocab`\n",
    "\n",
    "Return these dictionaries in the following tuple `(vocab_to_int, int_to_vocab)`"
   ]
  },
  {
   "cell_type": "code",
   "execution_count": 3,
   "metadata": {},
   "outputs": [
    {
     "name": "stdout",
     "output_type": "stream",
     "text": [
      "{'an': 0, 'and': 1, 'another': 2, 'anybody': 3, 'back': 4, 'barney_gumble': 5, 'bart_simpson': 6, 'carve': 7, 'catch': 8, 'check': 9, 'days': 10, 'drink': 11, 'effervescent': 12, 'eh': 13, 'elite': 14, 'enhance': 15, 'forget': 16, 'give': 17, 'gonna': 18, 'got': 19, 'has': 20, 'hello': 21, 'hey': 22, 'hold': 23, 'homer': 24, 'homer_simpson': 25, 'i': 26, \"i'll\": 27, \"i'm\": 28, 'ice': 29, 'is': 30, 'last': 31, 'lately': 32, 'listen': 33, 'little': 34, 'matter': 35, 'me': 36, 'meet': 37, 'mike': 38, 'moe': 39, \"moe's\": 40, 'moe_szyslak': 41, 'my': 42, 'name': 43, 'normal': 44, 'not': 45, 'of': 46, 'on': 47, 'one': 48, 'only': 49, 'pick': 50, 'problems': 51, 'puke': 52, 'rotch': 53, 'seen': 54, 'self': 55, 'should': 56, 'skills': 57, 'social': 58, 'tavern': 59, 'the': 60, 'there': 61, 'these': 62, 'to': 63, 'whats': 64, 'where': 65, 'with': 66, 'yeah': 67, 'you': 68, \"you're\": 69, 'your': 70}\n",
      "Tests Passed\n",
      "{'bar': 0, 'fo': 1}\n",
      "2\n"
     ]
    }
   ],
   "source": [
    "import numpy as np\n",
    "import problem_unittests as tests\n",
    "\n",
    "def create_lookup_tables(text):\n",
    "    \"\"\"\n",
    "    Create lookup tables for vocabulary\n",
    "    :param text: The text of tv scripts split into words\n",
    "    :return: A tuple of dicts (vocab_to_int, int_to_vocab)\n",
    "    \"\"\"\n",
    "    # TODO: Implement Function\n",
    "    vocab = sorted(set(text))\n",
    "    vocab_to_int = {c: i for i, c in enumerate(vocab)}\n",
    "    int_to_vocab = dict(enumerate(vocab))\n",
    "    print(vocab_to_int)\n",
    "    return vocab_to_int, int_to_vocab\n",
    "\n",
    "\n",
    "\"\"\"\n",
    "DON'T MODIFY ANYTHING IN THIS CELL THAT IS BELOW THIS LINE\n",
    "\"\"\"\n",
    "tests.test_create_lookup_tables(create_lookup_tables)\n",
    "\n",
    "print(len(create_lookup_tables(['fo','bar'])))"
   ]
  },
  {
   "cell_type": "markdown",
   "metadata": {},
   "source": [
    "### Tokenize Punctuation\n",
    "We'll be splitting the script into a word array using spaces as delimiters.  However, punctuations like periods and exclamation marks make it hard for the neural network to distinguish between the word \"bye\" and \"bye!\".\n",
    "\n",
    "Implement the function `token_lookup` to return a dict that will be used to tokenize symbols like \"!\" into \"||Exclamation_Mark||\".  Create a dictionary for the following symbols where the symbol is the key and value is the token:\n",
    "- Period ( . )\n",
    "- Comma ( , )\n",
    "- Quotation Mark ( \" )\n",
    "- Semicolon ( ; )\n",
    "- Exclamation mark ( ! )\n",
    "- Question mark ( ? )\n",
    "- Left Parentheses ( ( )\n",
    "- Right Parentheses ( ) )\n",
    "- Dash ( -- )\n",
    "- Return ( \\n )\n",
    "\n",
    "This dictionary will be used to token the symbols and add the delimiter (space) around it.  This separates the symbols as it's own word, making it easier for the neural network to predict on the next word. Make sure you don't use a token that could be confused as a word. Instead of using the token \"dash\", try using something like \"||dash||\"."
   ]
  },
  {
   "cell_type": "code",
   "execution_count": 4,
   "metadata": {},
   "outputs": [
    {
     "name": "stdout",
     "output_type": "stream",
     "text": [
      "{'.': '||Period||', ',': '||Comma||', '\"': '||QuotationMark||', ';': '||Semicolon||', '!': '||ExclamationMark||', '?': '||QuestionMark||', '(': '||LeftParentheses||', ')': '||RightParentheses||', '--': '||Dash||', '\\n': '||Return||'}\n",
      "Tests Passed\n"
     ]
    }
   ],
   "source": [
    "def token_lookup():\n",
    "    \"\"\"\n",
    "    Generate a dict to turn punctuation into a token.\n",
    "    :return: Tokenize dictionary where the key is the punctuation and the value is the token\n",
    "    \"\"\"\n",
    "    # TODO: Implement Function\n",
    "    d = {}\n",
    "    names = [\"Period\", \"Comma\", \"QuotationMark\", \"Semicolon\", \"ExclamationMark\",\n",
    "                \"QuestionMark\", \"LeftParentheses\", \"RightParentheses\", \"Dash\", \"Return\"]\n",
    "    symbols = [\".\", \",\", \"\\\"\", \";\", \"!\",\"?\", \"(\", \")\", \"--\", \"\\n\"]\n",
    "    for i in range (len(symbols)):\n",
    "        d[symbols[i]] = \"||%s||\"%names[i]\n",
    "    print (d)\n",
    "    return d\n",
    "\n",
    "\"\"\"\n",
    "DON'T MODIFY ANYTHING IN THIS CELL THAT IS BELOW THIS LINE\n",
    "\"\"\"\n",
    "tests.test_tokenize(token_lookup)"
   ]
  },
  {
   "cell_type": "markdown",
   "metadata": {},
   "source": [
    "## Preprocess all the data and save it\n",
    "Running the code cell below will preprocess all the data and save it to file."
   ]
  },
  {
   "cell_type": "code",
   "execution_count": 5,
   "metadata": {},
   "outputs": [
    {
     "name": "stdout",
     "output_type": "stream",
     "text": [
      "{'.': '||Period||', ',': '||Comma||', '\"': '||QuotationMark||', ';': '||Semicolon||', '!': '||ExclamationMark||', '?': '||QuestionMark||', '(': '||LeftParentheses||', ')': '||RightParentheses||', '--': '||Dash||', '\\n': '||Return||'}\n",
      "{'$42': 0, '&': 1, \"'\": 2, \"'bout\": 3, \"'cause\": 4, \"'cept\": 5, \"'ceptin'\": 6, \"'em\": 7, \"'er\": 8, \"'ere\": 9, \"'evening\": 10, \"'im\": 11, \"'kay-zugg'\": 12, \"'morning\": 13, \"'n'\": 14, \"'now\": 15, \"'pu\": 16, \"'roids\": 17, \"'round\": 18, \"'s\": 19, \"'til\": 20, \"'tis\": 21, \"'topes\": 22, \"'your\": 23, '-ry': 24, '/': 25, '/mr': 26, '1-800-555-hugs': 27, '100': 28, '10:15': 29, '14': 30, '1895': 31, '1973': 32, '1979': 33, '2': 34, '21': 35, '250': 36, '2nd_voice_on_transmitter:': 37, '3': 38, '35': 39, '3rd_voice:': 40, '4x4': 41, '50%': 42, '50-60': 43, '530': 44, '6': 45, '7-year-old_brockman:': 46, '70': 47, '7g': 48, '8': 49, '91': 50, ':': 51, '_babcock:': 52, '_burns_heads:': 53, '_eugene_blatz:': 54, '_hooper:': 55, '_julius_hibbert:': 56, '_kissingher:': 57, '_marvin_monroe:': 58, '_montgomery_burns:': 59, '_powers:': 60, '_timothy_lovejoy:': 61, '_zander:': 62, 'a': 63, 'a-a-b-b-a': 64, 'a-b-': 65, 'a-lug': 66, 'aah': 67, 'ab': 68, 'abandon': 69, 'abcs': 70, 'abe': 71, 'abercrombie': 72, 'able': 73, 'aboard': 74, 'abolish': 75, 'about': 76, 'above': 77, 'absentminded': 78, 'absentmindedly': 79, 'absolut': 80, 'absolutely': 81, 'absorbent': 82, 'abusive': 83, 'academy': 84, 'accelerating': 85, 'accent': 86, 'accept': 87, 'acceptance': 88, 'accepting': 89, 'access': 90, 'accident': 91, 'accidents': 92, 'according': 93, 'accounta': 94, 'accurate': 95, 'accusing': 96, 'achebe': 97, 'achem': 98, 'acquaintance': 99, 'acquitted': 100, 'acronyms': 101, 'across': 102, 'act': 103, 'acting': 104, 'action': 105, 'activity': 106, 'actor': 107, 'actors': 108, 'actress': 109, 'actually': 110, 'ad': 111, 'add': 112, 'addiction': 113, 'additional-seating-capacity': 114, 'address': 115, 'adeleine': 116, 'adequate': 117, 'adjourned': 118, 'adjust': 119, 'administration': 120, 'admiration': 121, 'admirer': 122, 'admiring': 123, 'admit': 124, 'admitting': 125, 'adopted': 126, 'adrift': 127, 'ads': 128, 'adult': 129, 'adult_bart:': 130, 'advance': 131, 'advantage': 132, 'adventure': 133, 'advertise': 134, 'advertising': 135, 'advice': 136, 'aer': 137, 'aerosmith': 138, 'aerospace': 139, 'affectations': 140, 'affection': 141, 'affects': 142, 'afford': 143, 'afloat': 144, 'afraid': 145, 'africa': 146, 'african': 147, 'africanized': 148, 'after': 149, 'afterglow': 150, 'afternoon': 151, 'again': 152, 'against': 153, 'age': 154, 'aged': 155, 'aged_moe:': 156, 'agency': 157, 'agent': 158, 'agent_johnson:': 159, 'agent_miller:': 160, 'agents': 161, 'aggie': 162, 'aggravated': 163, 'aggravazes': 164, 'agh': 165, 'aghast': 166, 'aging': 167, 'agnes_skinner:': 168, 'ago': 169, 'agree': 170, 'agreement': 171, 'ah': 172, 'ah-ha': 173, 'ahead': 174, 'ahem': 175, 'ahh': 176, 'ahhh': 177, 'ahhhh': 178, 'aid': 179, 'aiden': 180, 'aidens': 181, 'ails': 182, 'aims': 183, \"ain't\": 184, 'air': 185, 'airport': 186, 'aisle': 187, 'al': 188, 'al_gore:': 189, 'alarm': 190, 'albeit': 191, 'albert': 192, 'alcohol': 193, 'alcoholic': 194, 'alcoholism': 195, 'ale': 196, 'alec_baldwin:': 197, 'alfalfa': 198, 'alfred': 199, 'ali': 200, 'alibi': 201, 'alien': 202, 'alive': 203, 'alky': 204, 'all': 205, 'all-all-all': 206, 'all-american': 207, 'all-star': 208, 'all:': 209, 'allegiance': 210, 'alley': 211, 'allow': 212, 'allowance': 213, 'allowed': 214, 'alls': 215, 'alma': 216, 'almond': 217, 'almost': 218, 'alone': 219, 'along': 220, 'alpha-crow': 221, 'alphabet': 222, 'already': 223, 'alright': 224, 'also': 225, 'alter': 226, 'alternative': 227, 'although': 228, 'alva': 229, 'always': 230, 'am': 231, 'amanda': 232, 'amazed': 233, 'amazing': 234, 'amber': 235, 'amber_dempsey:': 236, 'ambrose': 237, 'ambrosia': 238, 'amends': 239, 'america': 240, \"america's\": 241, 'american': 242, 'americans': 243, 'amiable': 244, 'amid': 245, 'amnesia': 246, 'amount': 247, 'amused': 248, 'an': 249, 'anarchy': 250, 'ancestors': 251, 'ancient': 252, 'and': 253, 'and-and': 254, 'and/or': 255, 'and:': 256, 'andalay': 257, 'anderson': 258, 'andrew': 259, 'andy': 260, 'angel': 261, 'anger': 262, 'angrily': 263, 'angry': 264, 'anguished': 265, 'animals': 266, 'annie': 267, 'anniversary': 268, 'announcer:': 269, 'annoyed': 270, 'annoying': 271, 'annual': 272, 'annus': 273, 'anonymous': 274, 'another': 275, 'answer': 276, 'answered': 277, 'answering': 278, 'answers': 279, 'anthony_kiedis:': 280, 'anti-crime': 281, 'anti-intellectualism': 282, 'anti-lock': 283, 'anxious': 284, 'any': 285, 'anybody': 286, 'anyhoo': 287, 'anyhow': 288, 'anymore': 289, 'anyone': 290, 'anything': 291, 'anyway': 292, 'anywhere': 293, 'apart': 294, 'apartment': 295, 'ape-like': 296, 'apology': 297, 'app': 298, 'appalled': 299, 'appealing': 300, 'appeals': 301, 'appear': 302, 'appearance-altering': 303, 'appendectomy': 304, 'applesauce': 305, 'applicant': 306, 'application': 307, 'apply': 308, 'appointment': 309, 'appreciate': 310, 'appreciated': 311, 'appropriate': 312, 'approval': 313, 'apron': 314, 'apu': 315, 'apu_nahasapeemapetilon:': 316, 'apulina': 317, 'aquafresh': 318, 'arab_man:': 319, 'arabs': 320, 'archaeologist': 321, 'are': 322, \"aren't\": 323, \"aren'tcha\": 324, 'argue': 325, 'arguing': 326, 'arimasen': 327, 'arise': 328, \"aristotle's\": 329, 'aristotle:': 330, 'arm': 331, 'arm-pittish': 332, 'arms': 333, 'army': 334, 'around': 335, 'arrange': 336, 'arrest': 337, 'arrested:': 338, 'arrived': 339, 'arse': 340, 'art': 341, 'artie': 342, 'artie_ziff:': 343, 'artist': 344, 'arts': 345, 'as': 346, 'ashamed': 347, 'ashtray': 348, 'aside': 349, 'ask': 350, 'asked': 351, \"askin'\": 352, 'asking': 353, 'asks': 354, 'asleep': 355, 'ass': 356, 'assassination': 357, 'assent': 358, 'assert': 359, 'asses': 360, 'assistant': 361, 'associate': 362, 'assume': 363, 'assumed': 364, 'astonishment': 365, 'astrid': 366, 'astronaut': 367, 'astronauts': 368, 'at': 369, 'atari': 370, 'ate': 371, 'atlanta': 372, 'attach': 373, 'attached': 374, 'attack': 375, 'attempting': 376, 'attend': 377, 'attention': 378, 'attitude': 379, 'attracted': 380, 'attraction': 381, 'attractive': 382, 'attractive_woman_#1:': 383, 'attractive_woman_#2:': 384, 'au': 385, 'audience': 386, 'audience:': 387, 'augustus': 388, 'aunt': 389, 'authenticity': 390, 'author': 391, 'authorized': 392, 'automobiles': 393, 'available': 394, 'avalanche': 395, 'avec': 396, 'avenue': 397, 'average': 398, 'average-looking': 399, 'aw': 400, 'awake': 401, 'awareness': 402, 'away': 403, 'awe': 404, 'awed': 405, 'awesome': 406, 'awful': 407, 'awfully': 408, 'awkward': 409, 'awkwardly': 410, 'aww': 411, 'awww': 412, 'awwww': 413, 'ayyy': 414, 'aziz': 415, 'b': 416, \"b-52's:\": 417, 'b-day': 418, 'babar': 419, 'babe': 420, 'babies': 421, 'baby': 422, 'bachelor': 423, 'bachelorette': 424, 'bachelorhood': 425, 'back': 426, 'backbone': 427, 'backgammon': 428, 'background': 429, 'backing': 430, 'backward': 431, 'backwards': 432, 'bad': 433, 'bad-mouth': 434, 'badge': 435, 'badges': 436, 'badly': 437, 'badmouth': 438, 'badmouths': 439, 'bag': 440, 'bagged': 441, 'bags': 442, 'bail': 443, 'bake': 444, 'bald': 445, 'ball': 446, \"ball's\": 447, 'ball-sized': 448, 'ballclub': 449, 'balloon': 450, 'ballot': 451, 'balls': 452, 'baloney': 453, 'bam': 454, 'band': 455, 'bank': 456, 'banks': 457, 'banned': 458, 'bannister': 459, 'banquet': 460, 'banquo': 461, 'bar': 462, \"bar's\": 463, 'bar-boy': 464, 'bar:': 465, 'bar_rag:': 466, 'barbara': 467, 'barbed': 468, 'barber': 469, 'barely': 470, 'barf': 471, 'barflies': 472, 'barflies:': 473, 'baritone': 474, 'barkeep': 475, 'barkeeps': 476, 'barn': 477, 'barney': 478, \"barney's\": 479, 'barney-guarding': 480, 'barney-shaped_form:': 481, 'barney-type': 482, 'barney_gumble:': 483, 'bars': 484, 'barstools': 485, 'bart': 486, \"bart'd\": 487, \"bart's\": 488, 'bart_simpson:': 489, 'bartender': 490, \"bartender's\": 491, 'bartenders': 492, 'bartending': 493, 'barter': 494, 'bartholomé:': 495, 'baseball': 496, 'based': 497, 'basement': 498, 'bash': 499, 'bashir': 500, \"bashir's\": 501, 'bastard': 502, 'bathed': 503, 'bathing': 504, 'bathroom': 505, 'bathtub': 506, 'batmobile': 507, \"battin'\": 508, 'bauer': 509, 'be': 510, 'be-stainèd': 511, 'beach': 512, 'beached': 513, 'beady': 514, 'beam': 515, 'beanbag': 516, 'beans': 517, 'bear': 518, 'beard': 519, 'beards': 520, 'bears': 521, 'beast': 522, 'beat': 523, 'beating': 524, 'beatings': 525, 'beats': 526, 'beaumarchais': 527, 'beaumont': 528, 'beautiful': 529, 'beauty': 530, 'became': 531, 'because': 532, 'become': 533, 'bed': 534, 'bedbugs': 535, 'bedridden': 536, 'bedroom': 537, 'bedtime': 538, 'bee': 539, 'beef': 540, 'beefs': 541, 'been': 542, 'beep': 543, 'beeps': 544, 'beer': 545, \"beer's\": 546, 'beer-dorf': 547, 'beer-jerks': 548, 'beer:': 549, 'beers': 550, 'bees': 551, 'before': 552, 'befouled': 553, 'befriend': 554, 'began': 555, \"beggin'\": 556, 'begging': 557, 'begin': 558, 'beginning': 559, 'begins': 560, 'behavior': 561, 'behind': 562, \"bein'\": 563, 'being': 564, 'beings': 565, 'belch': 566, 'belches': 567, 'believe': 568, 'believer': 569, 'beligerent': 570, 'bell': 571, 'belly': 572, 'belly-aching': 573, 'bellyaching': 574, 'belong': 575, 'beloved': 576, 'belt': 577, 'belts': 578, 'bender:': 579, 'beneath': 580, 'benefits': 581, 'benjamin': 582, 'benjamin:': 583, 'besides': 584, 'best': 585, 'bet': 586, 'betcha': 587, 'betrayed': 588, 'bets': 589, \"betsy'll\": 590, 'better': 591, \"bettin'\": 592, 'betty:': 593, 'between': 594, 'beverage': 595, 'beyond': 596, 'bible': 597, 'bid': 598, 'bide': 599, 'bidet': 600, 'big': 601, 'bigger': 602, 'biggest': 603, 'bike': 604, 'bill': 605, 'bill_james:': 606, 'billboard': 607, 'billiard': 608, 'billingsley': 609, 'billion': 610, 'bills': 611, 'billy_the_kid:': 612, 'bindle': 613, 'binoculars': 614, 'bird': 615, 'birth': 616, 'birthday': 617, 'birthplace': 618, 'bit': 619, 'bite': 620, 'bites': 621, 'bits': 622, 'bitter': 623, 'bitterly': 624, 'black': 625, 'blackjack': 626, \"bladder's\": 627, 'blade': 628, 'blame': 629, 'blamed': 630, 'blank': 631, 'blaze': 632, 'bleacher': 633, 'bleak': 634, 'bleeding': 635, 'blend': 636, 'bless': 637, 'blessing': 638, 'blew': 639, 'blimp': 640, 'blind': 641, 'blinded': 642, 'blinds': 643, 'bliss': 644, 'blissful': 645, 'blob': 646, 'blobbo': 647, 'blocked': 648, 'blokes': 649, 'blood': 650, 'blood-thirsty': 651, 'bloodball': 652, 'blooded': 653, 'bloodiest': 654, 'blossoming': 655, 'blow': 656, 'blowfish': 657, \"blowin'\": 658, 'blown': 659, 'blows': 660, 'blubberino': 661, 'blue': 662, 'blues': 663, 'bluff': 664, 'blur': 665, 'blurbs': 666, \"bo's\": 667, 'boat': 668, 'bob': 669, 'bobo': 670, 'body': 671, 'boggs': 672, 'boisterous': 673, 'bold': 674, 'bolting': 675, 'bon': 676, 'bon-bons': 677, 'bonding': 678, 'boned': 679, 'boneheaded': 680, 'bones': 681, 'bonfire': 682, 'bono': 683, 'bono:': 684, 'boo': 685, 'booger': 686, 'book': 687, 'book_club_member:': 688, 'bookie': 689, 'booking': 690, 'books': 691, 'booth': 692, 'booze': 693, 'booze-bags': 694, 'boozebag': 695, 'boozehound': 696, 'boozer': 697, 'boozy': 698, 'boring': 699, 'born': 700, 'borrow': 701, 'boston': 702, 'botanical': 703, 'both': 704, 'bothered': 705, 'bottle': 706, 'bottles': 707, 'bottom': 708, 'bottomless': 709, 'bottoms': 710, 'bought': 711, 'bounced': 712, 'bouquet': 713, 'bourbon': 714, 'bow': 715, 'bowie': 716, 'bowl': 717, 'bowled': 718, 'bowling': 719, 'box': 720, 'boxcar': 721, 'boxcars': 722, 'boxer': 723, 'boxer:': 724, 'boxers': 725, 'boxing': 726, 'boxing_announcer:': 727, 'boy': 728, \"boy's\": 729, 'boyfriend': 730, 'boyhood': 731, 'boys': 732, 'brace': 733, \"brady's\": 734, 'brag': 735, 'bragging': 736, 'brain': 737, 'brain-switching': 738, 'brainheaded': 739, 'brainiac': 740, 'brains': 741, 'brakes': 742, 'branding': 743, 'brandy': 744, 'bras': 745, 'brassiest': 746, 'braun:': 747, 'brave': 748, 'brawled': 749, 'bread': 750, 'break': 751, 'break-up': 752, 'breakdown': 753, 'breakfast': 754, \"breakin'\": 755, 'breaking': 756, 'breaks': 757, 'breath': 758, 'breathalyzer': 759, 'breathless': 760, 'breathtaking': 761, 'bret': 762, 'bret:': 763, 'brewed': 764, 'brick': 765, 'bride': 766, 'bridge': 767, 'bridges': 768, 'brief': 769, 'briefly': 770, 'bright': 771, 'brightening': 772, 'brilliant': 773, 'brine': 774, 'bring': 775, \"bringin'\": 776, 'brings': 777, 'britannia': 778, 'british': 779, 'broad': 780, 'broadway': 781, 'brockelstein': 782, 'brockman': 783, \"brockman's\": 784, 'broke': 785, 'broken': 786, 'broken:': 787, 'bronco': 788, 'broncos': 789, 'brooklyn': 790, 'broom': 791, 'brother': 792, 'brother-in-law': 793, 'brotherhood': 794, 'brothers': 795, 'brought': 796, 'brow': 797, 'brown': 798, 'browns': 799, 'brunch': 800, 'brunswick': 801, 'brusque': 802, 'bubble': 803, 'bubbles': 804, 'bubbles-in-my-nose-y': 805, 'bucket': 806, 'bucks': 807, 'buddha': 808, 'buddies': 809, 'buddy': 810, 'buds': 811, 'buffalo': 812, \"buffalo's\": 813, 'buffet': 814, 'bugging': 815, 'bugs': 816, 'build': 817, 'built': 818, 'bulked': 819, 'bull': 820, 'bulldozing': 821, 'bullet-proof': 822, 'bulletin': 823, 'bully': 824, 'bum:': 825, 'bumblebee_man:': 826, 'bumbling': 827, 'bump': 828, 'bumped': 829, 'bumpy-like': 830, 'bums': 831, 'bunch': 832, 'bunion': 833, 'bupkus': 834, 'burg': 835, 'burger': 836, 'burglary': 837, 'buried': 838, 'burn': 839, \"burnin'\": 840, 'burning': 841, 'burns': 842, 'burnside': 843, 'burp': 844, 'burps': 845, 'bursts': 846, 'burt': 847, 'burt_reynolds:': 848, 'bury': 849, 'bus': 850, 'bush': 851, 'bushes': 852, 'busiest': 853, 'business': 854, 'businessman_#1:': 855, 'businessman_#2:': 856, 'bust': 857, 'busted': 858, 'busy': 859, 'but': 860, 'butt': 861, 'butter': 862, 'butterball': 863, 'buttocks': 864, 'button': 865, 'button-pusher': 866, 'buttons': 867, 'butts': 868, 'buy': 869, 'buyer': 870, \"buyin'\": 871, 'buying': 872, 'buzz': 873, 'buzziness': 874, 'by': 875, 'bye': 876, 'byrne': 877, 'c': 878, \"c'mere\": 879, \"c'mom\": 880, \"c'mon\": 881, 'cab': 882, 'cab_driver:': 883, 'cable': 884, 'cadillac': 885, 'cage': 886, 'caholic': 887, 'cajun': 888, 'cake': 889, 'cakes': 890, 'calculate': 891, 'calendars': 892, \"calf's\": 893, 'california': 894, 'call': 895, 'called': 896, \"callin'\": 897, 'calling': 898, 'calls': 899, 'calm': 900, 'calmly': 901, 'calvin': 902, 'came': 903, 'camera': 904, 'cameras': 905, 'camp': 906, 'campaign': 907, 'can': 908, \"can't\": 909, \"can't-believe-how-bald-he-is\": 910, \"can'tcha\": 911, 'candidate': 912, 'candles': 913, 'candy': 914, 'cannoli': 915, 'cannot': 916, 'canoodling': 917, 'cans': 918, 'canyoner-oooo': 919, 'canyonero': 920, 'cap': 921, 'caper': 922, 'capitalists': 923, 'capitol': 924, 'cappuccino': 925, 'captain': 926, 'captain:': 927, 'capuchin': 928, 'car': 929, \"car's\": 930, 'car:': 931, 'carb': 932, 'card': 933, 'cards': 934, 'care': 935, 'career': 936, 'careful': 937, 'carefully': 938, 'cares': 939, 'carey': 940, 'caricature': 941, 'carl': 942, \"carl's\": 943, 'carl:': 944, 'carl_carlson:': 945, 'carll': 946, 'carlotta:': 947, 'carlson': 948, 'carmichael': 949, 'carney': 950, 'carnival': 951, 'carny:': 952, 'carolina': 953, 'carpet': 954, 'cars': 955, 'cartoons': 956, 'carve': 957, 'case': 958, 'cases': 959, 'cash': 960, \"cashin'\": 961, 'casting': 962, 'castle': 963, 'casual': 964, 'cat': 965, \"cat's\": 966, 'catch': 967, 'catch-phrase': 968, 'catching': 969, 'catholic': 970, 'cats': 971, 'cattle': 972, 'catty': 973, 'caught': 974, 'cauliflower': 975, 'cause': 976, 'caused': 977, 'causes': 978, 'caveman': 979, 'cavern': 980, 'cecil': 981, 'cecil_terwilliger:': 982, 'celebrate': 983, 'celebration': 984, 'celebrities': 985, 'celebrity': 986, 'celeste': 987, 'cell': 988, 'cell-ee': 989, 'cent': 990, 'center': 991, 'cents': 992, 'century': 993, 'cerebral': 994, 'ceremony': 995, 'certain': 996, 'certainly': 997, 'certificate': 998, 'certified': 999, 'cesss': 1000, 'chain': 1001, 'chained': 1002, 'chair': 1003, 'chairman': 1004, 'challenge': 1005, \"challengin'\": 1006, 'champ': 1007, 'champignons': 1008, 'champion': 1009, 'championship': 1010, 'champs': 1011, 'chance': 1012, 'change': 1013, 'changed': 1014, 'changes': 1015, \"changin'\": 1016, 'changing': 1017, 'channel': 1018, 'chanting': 1019, 'chapel': 1020, 'chapstick': 1021, 'chapter': 1022, 'character': 1023, 'characteristic': 1024, 'charge': 1025, 'charged': 1026, 'charges': 1027, 'charity': 1028, 'charlie': 1029, 'charlie:': 1030, 'charm': 1031, 'charming': 1032, 'charter': 1033, 'chase': 1034, 'chastity': 1035, 'chateau': 1036, 'chauffeur': 1037, 'chauffeur:': 1038, 'cheap': 1039, 'cheaped': 1040, 'cheaper': 1041, 'cheapskates': 1042, 'cheat': 1043, 'cheated': 1044, 'check': 1045, 'checking': 1046, 'checks': 1047, 'cheer': 1048, 'cheered': 1049, 'cheerier': 1050, \"cheerin'\": 1051, 'cheering': 1052, 'cheerleaders:': 1053, 'cheers': 1054, 'cheery': 1055, 'cheese': 1056, 'cheesecake': 1057, 'cherry': 1058, 'cheryl': 1059, 'chest': 1060, 'chew': 1061, \"chewin'\": 1062, 'chic': 1063, 'chick': 1064, 'chicken': 1065, 'chicks': 1066, 'chief': 1067, 'chief_wiggum:': 1068, 'child': 1069, 'childless': 1070, 'children': 1071, \"children's\": 1072, 'chili': 1073, 'chill': 1074, 'chilly': 1075, 'chin': 1076, 'chinese': 1077, 'chinese_restaurateur:': 1078, 'chinua': 1079, 'chip': 1080, 'chipped': 1081, 'chipper': 1082, 'chips': 1083, 'chocolate': 1084, 'choice': 1085, 'choice:': 1086, 'choices': 1087, 'choices:': 1088, 'choke': 1089, 'choked': 1090, 'choked-up': 1091, 'choking': 1092, 'choose': 1093, \"choosin'\": 1094, 'chorus:': 1095, 'chosen': 1096, 'chow': 1097, 'christian': 1098, 'christmas': 1099, 'christopher': 1100, 'chub': 1101, 'chubby': 1102, 'chuck': 1103, 'chuckle': 1104, 'chuckles': 1105, 'chuckling': 1106, 'chug': 1107, 'chug-a-lug': 1108, 'chug-monkeys': 1109, 'chum': 1110, 'chumbawamba': 1111, 'chunk': 1112, 'chunky': 1113, 'church': 1114, 'churchill': 1115, 'churchy': 1116, 'cigarette': 1117, 'cigarettes': 1118, 'cigars': 1119, 'circus': 1120, 'citizens': 1121, 'city': 1122, \"city's\": 1123, 'civic': 1124, 'civil': 1125, 'civilization': 1126, 'clammy': 1127, 'clams': 1128, \"clancy's\": 1129, 'clandestine': 1130, 'clap': 1131, 'clapping': 1132, 'class': 1133, 'classy': 1134, 'clean': 1135, 'cleaned': 1136, 'cleaner': 1137, \"cleanin'\": 1138, 'cleaning': 1139, 'clear': 1140, 'clearing': 1141, 'clearly': 1142, 'clears': 1143, 'clench': 1144, 'clenched': 1145, 'cletus_spuckler:': 1146, 'cleveland': 1147, 'clientele': 1148, 'cliff': 1149, 'clincher': 1150, 'clinton': 1151, 'clipped': 1152, 'clips': 1153, 'clock': 1154, 'clone': 1155, 'close': 1156, 'closed': 1157, 'closer': 1158, 'closes': 1159, 'closet': 1160, 'closing': 1161, 'clothes': 1162, 'clothespins': 1163, 'clothespins:': 1164, 'cloudy': 1165, 'clown': 1166, 'clown-like': 1167, 'club': 1168, 'clubs': 1169, 'co-sign': 1170, 'coach:': 1171, 'coal': 1172, 'coast': 1173, 'coaster': 1174, \"coaster's\": 1175, 'coat': 1176, 'cobbling': 1177, 'cobra': 1178, 'cock': 1179, 'cocking': 1180, 'cockroach': 1181, 'cockroaches': 1182, 'cocks': 1183, 'cocktail': 1184, 'cocoa': 1185, 'code': 1186, 'coffee': 1187, \"coffee'll\": 1188, 'coherent': 1189, 'coin': 1190, 'coincidentally': 1191, 'coined': 1192, 'coins': 1193, 'cola': 1194, 'cold': 1195, 'collapse': 1196, 'collateral': 1197, \"collector's\": 1198, 'college': 1199, 'collette:': 1200, 'cologne': 1201, 'colonel:': 1202, 'color': 1203, 'colorado': 1204, 'colossal': 1205, 'column': 1206, 'coma': 1207, 'combination': 1208, 'combine': 1209, 'combines': 1210, 'come': 1211, 'comeback': 1212, 'comedies': 1213, 'comedy': 1214, 'comes': 1215, 'comfortable': 1216, 'comforting': 1217, 'comic': 1218, 'comic_book_guy:': 1219, \"comin'\": 1220, 'coming': 1221, 'commanding': 1222, 'comment': 1223, 'commission': 1224, 'commit': 1225, 'committee': 1226, 'committing': 1227, 'common': 1228, 'community': 1229, 'compadre': 1230, 'company': 1231, 'compare': 1232, 'compared': 1233, 'compels': 1234, 'compete': 1235, 'competing': 1236, 'competitive': 1237, 'complaining': 1238, 'complaint': 1239, 'complete': 1240, 'completely': 1241, 'completing': 1242, 'complicated': 1243, 'compliment': 1244, 'compliments': 1245, 'composer': 1246, 'composite': 1247, 'compressions': 1248, 'compromise:': 1249, 'computer': 1250, 'computer_voice_2:': 1251, 'coms': 1252, 'con': 1253, 'concentrate': 1254, 'concerned': 1255, 'conclude': 1256, 'conclusions': 1257, 'conditioner': 1258, 'conditioners': 1259, 'conditioning': 1260, 'coney': 1261, 'conference': 1262, 'confession': 1263, 'confidence': 1264, 'confident': 1265, 'confidential': 1266, 'confidentially': 1267, 'confused': 1268, 'congoleum': 1269, 'congratulations': 1270, 'connection': 1271, 'connor': 1272, 'connor-politan': 1273, 'consciousness': 1274, 'consider': 1275, 'considering': 1276, 'considering:': 1277, 'considers': 1278, 'consoling': 1279, 'conspiracy': 1280, 'conspiratorial': 1281, 'consulting': 1282, \"cont'd:\": 1283, 'contact': 1284, 'contemplated': 1285, 'contemplates': 1286, 'contemporary': 1287, 'contemptuous': 1288, 'contented': 1289, 'contest': 1290, 'continued': 1291, 'continuing': 1292, 'continuum': 1293, 'contract': 1294, 'contractors': 1295, 'control': 1296, 'convenient': 1297, 'conversation': 1298, 'conversations': 1299, 'conversion': 1300, 'convinced': 1301, 'cooker': 1302, 'cookies': 1303, 'cooking': 1304, 'cool': 1305, 'cooler': 1306, 'cop': 1307, 'cops': 1308, 'copy': 1309, 'corkscrew': 1310, 'corkscrews': 1311, 'corn': 1312, 'corner': 1313, 'corporate': 1314, 'corporation': 1315, 'corpses': 1316, 'correct': 1317, 'correcting': 1318, 'correction': 1319, 'cosmetics': 1320, 'cost': 1321, 'costume': 1322, \"costume's\": 1323, 'cotton': 1324, 'couch': 1325, 'cough': 1326, 'coughs': 1327, 'could': 1328, \"could've\": 1329, \"couldn't\": 1330, 'count': 1331, 'counter': 1332, 'counterfeit': 1333, \"countin'\": 1334, 'counting': 1335, 'country': 1336, 'country-fried': 1337, 'countryman': 1338, 'county': 1339, 'couple': 1340, 'coupon': 1341, 'courage': 1342, 'course': 1343, 'court': 1344, 'courteous': 1345, 'courthouse': 1346, 'courts': 1347, 'cousin': 1348, 'cover': 1349, 'covering': 1350, 'covers': 1351, 'cow': 1352, 'coward': 1353, 'cowardly': 1354, 'cowboy': 1355, 'cowboys': 1356, 'coy': 1357, 'coyly': 1358, 'cozies': 1359, 'cozy': 1360, 'crab': 1361, 'crack': 1362, 'cracked': 1363, 'craft': 1364, 'cranberry': 1365, 'crank': 1366, 'crap': 1367, 'craphole': 1368, 'crapmore': 1369, 'crappy': 1370, 'crawl': 1371, \"crawlin'\": 1372, 'crayola': 1373, 'crayon': 1374, 'crazy': 1375, 'cream': 1376, 'created': 1377, 'creates': 1378, 'creature': 1379, 'credit': 1380, 'creeps': 1381, 'creepy': 1382, 'creme': 1383, 'crestfallen': 1384, 'crew': 1385, 'cricket': 1386, 'cries': 1387, 'crime': 1388, 'crimes': 1389, 'criminal': 1390, 'crinkly': 1391, 'crippling': 1392, 'crisis': 1393, 'cronies': 1394, 'crony': 1395, 'crooks': 1396, 'cross-country': 1397, 'crossed': 1398, 'crotch': 1399, 'crow': 1400, 'crowbar': 1401, 'crowd': 1402, 'crowd:': 1403, 'crowded': 1404, 'crowds': 1405, 'crowned': 1406, 'cruel': 1407, 'cruise': 1408, 'cruiser': 1409, 'crumble': 1410, 'crummy': 1411, 'crunch': 1412, 'crushed': 1413, 'crying': 1414, 'crystal': 1415, \"cuckold's\": 1416, 'cuckoo': 1417, 'cuddling': 1418, 'cueball': 1419, 'cuff': 1420, 'culkin': 1421, 'cummerbund': 1422, 'cup': 1423, 'cupid': 1424, \"cupid's\": 1425, 'curds': 1426, 'cure': 1427, 'curiosity': 1428, 'curious': 1429, 'curse': 1430, 'cursed': 1431, 'cushion': 1432, 'cushions': 1433, 'customer': 1434, 'customers': 1435, 'customers-slash-only': 1436, 'cut': 1437, 'cute': 1438, 'cutest': 1439, 'cutie': 1440, 'cutting': 1441, 'cuz': 1442, 'cyrano': 1443, 'd': 1444, \"d'\": 1445, \"d'ya\": 1446, 'daaaaad': 1447, 'dad': 1448, \"dad's\": 1449, 'daddy': 1450, 'dads': 1451, 'dae': 1452, 'dallas': 1453, 'damage': 1454, 'dame': 1455, 'dames': 1456, 'dammit': 1457, 'damn': 1458, 'damned': 1459, 'dan': 1460, 'dan_gillick:': 1461, 'dana_scully:': 1462, 'dance': 1463, 'dancing': 1464, 'dang': 1465, 'dangerous': 1466, 'daniel': 1467, 'danish': 1468, 'dank': 1469, 'danny': 1470, 'darjeeling': 1471, 'dark': 1472, 'darkest': 1473, 'darkness': 1474, 'darn': 1475, 'darts': 1476, 'dash': 1477, 'dashes': 1478, 'data': 1479, 'date': 1480, 'dateline': 1481, 'dateline:': 1482, 'dating': 1483, 'daughter': 1484, \"daughter's\": 1485, 'david': 1486, 'david_byrne:': 1487, 'dawning': 1488, 'day': 1489, 'days': 1490, 'dazed': 1491, 'de': 1492, 'de-scramble': 1493, 'dea-d-d-dead': 1494, 'deacon': 1495, 'dead': 1496, 'deadly': 1497, 'deal': 1498, 'dealer': 1499, 'dealie': 1500, 'deals': 1501, 'dealt': 1502, 'dean': 1503, 'dear': 1504, 'dearest': 1505, 'death': 1506, 'debonair': 1507, 'decadent': 1508, 'decency': 1509, 'decent': 1510, 'decide': 1511, 'decide:': 1512, 'decided': 1513, 'decision': 1514, 'declan': 1515, 'declan_desmond:': 1516, 'declare': 1517, 'declared': 1518, 'dee-fense': 1519, 'deep': 1520, 'deeper': 1521, 'deeply': 1522, 'deer': 1523, 'defeated': 1524, 'defected': 1525, 'defensive': 1526, 'defiantly': 1527, 'degradation': 1528, 'dejected': 1529, 'dejected_barfly:': 1530, 'delays': 1531, 'delete': 1532, 'deli': 1533, 'deliberate': 1534, 'deliberately': 1535, 'delicate': 1536, 'delicately': 1537, 'delicious': 1538, 'delighted': 1539, 'delightful': 1540, 'delightfully': 1541, 'delivery': 1542, 'delivery_boy:': 1543, 'delivery_man:': 1544, 'delts': 1545, 'demand': 1546, 'demo': 1547, 'democracy': 1548, 'democrats': 1549, 'dennis': 1550, 'dennis_conroy:': 1551, 'dennis_kucinich:': 1552, 'denser': 1553, 'dentist': 1554, 'denver': 1555, 'deny': 1556, 'department': 1557, \"department's\": 1558, 'depending': 1559, 'depository': 1560, 'depressant': 1561, 'depressed': 1562, \"depressin'\": 1563, 'depressing': 1564, 'depression': 1565, 'der': 1566, 'derek': 1567, 'derisive': 1568, 'deserve': 1569, 'design': 1570, 'designated': 1571, 'designer': 1572, 'desire': 1573, 'desperate': 1574, 'desperately': 1575, 'despite': 1576, 'dessert': 1577, 'destroyed': 1578, 'detail': 1579, 'detecting': 1580, 'detective': 1581, 'detective_homer_simpson:': 1582, 'determined': 1583, 'devastated': 1584, 'developed': 1585, 'device': 1586, 'devils:': 1587, 'dexterous': 1588, 'diablo': 1589, 'dials': 1590, 'diamond': 1591, 'diaper': 1592, 'diapers': 1593, 'dice': 1594, 'dictating': 1595, 'dictator': 1596, 'did': 1597, 'diddilies': 1598, \"didn't\": 1599, 'die': 1600, 'die-hard': 1601, 'died': 1602, 'dies': 1603, 'diet': 1604, 'diets': 1605, 'difference': 1606, 'different': 1607, 'difficult': 1608, 'dig': 1609, 'digging': 1610, 'dignified': 1611, 'dignity': 1612, 'dilemma': 1613, 'dime': 1614, 'diminish': 1615, 'dimly': 1616, \"dimwit's\": 1617, 'ding-a-ding-ding-a-ding-ding': 1618, 'ding-a-ding-ding-ding-ding-ding-ding': 1619, 'dingy': 1620, 'dinks': 1621, 'dinner': 1622, 'dint': 1623, 'dipping': 1624, 'direction': 1625, 'directions': 1626, 'director': 1627, 'director:': 1628, 'dirge-like': 1629, 'dirt': 1630, 'dirty': 1631, 'disappear': 1632, 'disappeared': 1633, 'disappointed': 1634, 'disappointing': 1635, 'disappointment': 1636, 'disapproving': 1637, 'disaster': 1638, 'disco': 1639, 'disco_stu:': 1640, 'discriminate': 1641, 'discuss': 1642, 'discussing': 1643, 'disdainful': 1644, 'disgrace': 1645, 'disgraceful': 1646, 'disgracefully': 1647, 'disguise': 1648, 'disguised': 1649, 'disgusted': 1650, 'dishonor': 1651, 'dishrag': 1652, 'disillusioned': 1653, 'dislike': 1654, 'dismissive': 1655, 'dispenser': 1656, 'displeased': 1657, 'disposal': 1658, \"disrobin'\": 1659, 'distance': 1660, 'distaste': 1661, 'distinct': 1662, 'distract': 1663, 'distraught': 1664, 'distributor': 1665, 'disturbance': 1666, 'disturbing': 1667, 'ditched': 1668, 'dive': 1669, 'divine': 1670, 'diving': 1671, 'divorced': 1672, 'dizer': 1673, 'dizzy': 1674, 'dna': 1675, 'do': 1676, 'doctor': 1677, \"doctor's\": 1678, 'does': 1679, \"doesn't\": 1680, 'dog': 1681, \"dog's\": 1682, 'dogs': 1683, \"doin'\": 1684, 'doing': 1685, 'doll': 1686, 'doll-baby': 1687, 'dollar': 1688, 'dollars': 1689, 'dollface': 1690, \"dolph's_dad:\": 1691, 'domed': 1692, 'domestic': 1693, 'don': 1694, \"don't\": 1695, \"don'tcha\": 1696, 'donate': 1697, 'donated': 1698, \"donatin'\": 1699, 'donation': 1700, 'done': 1701, 'done:': 1702, 'donor': 1703, 'donut': 1704, 'donut-shaped': 1705, 'donuts': 1706, 'doof': 1707, 'doom': 1708, 'doooown': 1709, 'door': 1710, 'doors': 1711, 'doppler': 1712, 'doreen': 1713, 'doreen:': 1714, 'dory': 1715, 'double': 1716, 'doubt': 1717, 'doug:': 1718, 'dough': 1719, 'down': 1720, 'doy': 1721, 'dozen': 1722, 'dr': 1723, 'dracula': 1724, 'drag': 1725, 'drains': 1726, 'dramatic': 1727, 'dramatically': 1728, 'drank': 1729, 'drapes': 1730, 'draw': 1731, 'drawer': 1732, \"drawin'\": 1733, 'drawing': 1734, 'drawn': 1735, 'dreamed': 1736, 'dreamily': 1737, 'dreams': 1738, 'dreamy': 1739, 'dreary': 1740, 'drederick': 1741, 'dregs': 1742, 'dress': 1743, 'dressed': 1744, 'dressing': 1745, \"drexel's\": 1746, 'drift': 1747, 'drink': 1748, 'drinker': 1749, \"drinkin'\": 1750, 'drinking': 1751, 'drinking:': 1752, 'drinks': 1753, 'drive': 1754, 'driveability': 1755, 'driver': 1756, 'drivers': 1757, 'drives': 1758, \"drivin'\": 1759, 'driving': 1760, 'drollery': 1761, 'droning': 1762, 'drop': 1763, 'drop-off': 1764, 'dropped': 1765, 'dropping': 1766, 'drove': 1767, 'drown': 1768, 'drug': 1769, 'drummer': 1770, 'drunk': 1771, 'drunkening': 1772, 'drunkenly': 1773, 'drunks': 1774, 'dry': 1775, 'dryer': 1776, 'du': 1777, 'ducked': 1778, 'dude': 1779, 'due': 1780, 'duel': 1781, \"duelin'\": 1782, 'duff': 1783, \"duff's\": 1784, 'duff_announcer:': 1785, 'duffed': 1786, 'duffman': 1787, 'duffman:': 1788, 'duh': 1789, 'duke': 1790, 'dull': 1791, 'dum-dum': 1792, 'dumb': 1793, 'dumb-asses': 1794, 'dumbass': 1795, 'dumbbell': 1796, 'dumbest': 1797, 'dump': 1798, 'dumpster': 1799, 'dumptruck': 1800, 'dungeon': 1801, 'dunno': 1802, 'during': 1803, 'dutch': 1804, 'duty': 1805, \"dyin'\": 1806, 'dying': 1807, 'dynamite': 1808, 'dyspeptic': 1809, 'düff': 1810, 'düffenbraus': 1811, 'e': 1812, 'e-z': 1813, 'each': 1814, 'eager': 1815, 'ear': 1816, 'earlier': 1817, 'early': 1818, 'earpiece': 1819, 'earrings': 1820, 'ears': 1821, 'earth': 1822, 'ease': 1823, 'easier': 1824, 'easily': 1825, 'east': 1826, 'easter': 1827, 'easy': 1828, 'easy-going': 1829, 'easygoing': 1830, 'eat': 1831, 'eaten': 1832, 'eaters': 1833, \"eatin'\": 1834, 'eating': 1835, 'eats': 1836, 'ebullient': 1837, 'ech': 1838, 'eco-fraud': 1839, 'ecru': 1840, 'eddie': 1841, 'eddie:': 1842, 'edelbrock': 1843, 'edge': 1844, 'edgy': 1845, 'edison': 1846, 'edna': 1847, \"edna's\": 1848, 'edna-lover-one-seventy-two': 1849, 'edna_krabappel-flanders:': 1850, 'edner': 1851, 'ees': 1852, 'effect': 1853, 'effects': 1854, 'effervescence': 1855, 'effervescent': 1856, 'effigy': 1857, 'egg': 1858, 'eggs': 1859, 'eggshell': 1860, 'eh': 1861, 'ehhh': 1862, 'ehhhhhh': 1863, 'ehhhhhhhh': 1864, 'ehhhhhhhhh': 1865, 'eight': 1866, 'eight-year-old': 1867, 'eightball': 1868, 'eighteen': 1869, 'eighty-five': 1870, 'eighty-one': 1871, 'eighty-seven': 1872, 'eighty-six': 1873, 'eighty-three': 1874, 'einstein': 1875, 'either': 1876, 'el': 1877, 'elaborate': 1878, 'elder': 1879, 'elect': 1880, 'election': 1881, 'electronic': 1882, 'elephants': 1883, 'eleven': 1884, 'eliminate': 1885, 'elite': 1886, 'elizabeth': 1887, 'elmer': 1888, \"elmo's\": 1889, 'elocution': 1890, 'else': 1891, 'elves:': 1892, 'email': 1893, 'embarrassed': 1894, 'embarrassing': 1895, 'emergency': 1896, 'eminence': 1897, 'emotion': 1898, 'emotional': 1899, 'emphasis': 1900, 'employees': 1901, 'employment': 1902, 'emporium': 1903, 'empty': 1904, 'enabling': 1905, 'encore': 1906, 'encores': 1907, 'encouraged': 1908, 'encouraging': 1909, 'end': 1910, 'endorse': 1911, 'endorsed': 1912, 'endorsement': 1913, 'ends': 1914, 'enemies': 1915, 'enemy': 1916, 'energy': 1917, 'enforced': 1918, 'engine': 1919, 'england': 1920, \"england's\": 1921, 'english': 1922, 'engraved': 1923, 'enhance': 1924, 'enjoy': 1925, 'enjoyed': 1926, \"enjoyin'\": 1927, 'enjoys': 1928, 'enlightened': 1929, 'enough': 1930, 'enter': 1931, 'entering': 1932, 'enterprising': 1933, 'entertainer': 1934, 'enthused': 1935, 'enthusiasm': 1936, 'enthusiastically': 1937, 'entire': 1938, 'entirely': 1939, 'entrance': 1940, 'enveloped': 1941, 'environment': 1942, 'envy-tations': 1943, 'equal': 1944, 'equivalent': 1945, 'er': 1946, 'erasers': 1947, 'error': 1948, 'errrrrrr': 1949, 'escort': 1950, 'especially': 1951, 'espn': 1952, 'espousing': 1953, 'estranged': 1954, 'etc': 1955, 'eternity': 1956, 'eu': 1957, 'european': 1958, 'eurotrash': 1959, 'eva': 1960, 'evasive': 1961, 'eve': 1962, 'even': 1963, 'evening': 1964, 'event': 1965, 'eventually': 1966, 'ever': 1967, 'evergreen': 1968, 'every': 1969, 'everybody': 1970, 'everyday': 1971, 'everyone': 1972, \"everyone's\": 1973, 'everything': 1974, 'everywhere': 1975, 'evil': 1976, 'evils': 1977, 'ew': 1978, 'eww': 1979, 'exact': 1980, 'exactly': 1981, 'examines': 1982, 'example': 1983, 'examples': 1984, 'exasperated': 1985, 'excavating': 1986, 'excellent': 1987, 'except': 1988, 'exception:': 1989, 'exchange': 1990, 'exchanged': 1991, 'excited': 1992, 'excitement': 1993, 'exciting': 1994, 'exclusive:': 1995, 'excuse': 1996, 'excuses': 1997, 'executive': 1998, 'exhale': 1999, 'exhaust': 2000, 'exhibit': 2001, 'exit': 2002, 'exited': 2003, 'exits': 2004, 'expect': 2005, 'expecting': 2006, 'expense': 2007, 'expensive': 2008, 'experience': 2009, 'experienced': 2010, 'experiments': 2011, 'expert': 2012, 'expired': 2013, 'explain': 2014, 'explaining': 2015, 'explanation': 2016, 'exploiter': 2017, 'expose': 2018, 'express': 2019, 'expression': 2020, 'exquisite': 2021, 'extended': 2022, 'extinguishers': 2023, 'extra': 2024, 'extract': 2025, 'extreme': 2026, 'extremely': 2027, 'exultant': 2028, 'eye': 2029, 'eye-gouger': 2030, 'eyeball': 2031, 'eyeballs': 2032, 'eyed': 2033, 'eyeing': 2034, 'eyes': 2035, 'eyesore': 2036, 'f': 2037, 'f-l-a-n-r-d-s': 2038, 'fabulous': 2039, 'face': 2040, 'face-macer': 2041, 'facebook': 2042, 'faced': 2043, 'faceful': 2044, 'faces': 2045, 'fact': 2046, 'factor': 2047, 'fad': 2048, 'faded': 2049, 'fail': 2050, 'failed': 2051, 'failure': 2052, 'faint': 2053, 'fainted': 2054, 'fair': 2055, 'faith': 2056, 'faiths': 2057, 'fake': 2058, 'falcons': 2059, 'fall': 2060, \"fallin'\": 2061, 'falling': 2062, 'falsetto': 2063, 'familiar': 2064, 'family': 2065, \"family's\": 2066, 'family-owned': 2067, 'famous': 2068, 'fan': 2069, 'fanciest': 2070, 'fancy': 2071, 'fans': 2072, \"fans'll\": 2073, 'fantastic': 2074, 'fantasy': 2075, 'far': 2076, 'farewell': 2077, 'farthest': 2078, 'fast': 2079, 'fast-food': 2080, 'fast-paced': 2081, 'fastest': 2082, 'fat': 2083, 'fat-free': 2084, 'fat_in_the_hat:': 2085, 'fat_tony:': 2086, 'father': 2087, \"father's\": 2088, 'fatso': 2089, 'fatty': 2090, 'faulkner': 2091, 'fault': 2092, 'fausto': 2093, 'favor': 2094, 'favorite': 2095, 'fayed': 2096, 'fbi': 2097, 'fbi_agent:': 2098, 'fdic': 2099, 'fears': 2100, 'feast': 2101, 'feat': 2102, 'federal': 2103, 'feed': 2104, 'feedbag': 2105, 'feel': 2106, \"feelin's\": 2107, 'feeling': 2108, 'feelings': 2109, 'feels': 2110, 'feet': 2111, 'feisty': 2112, 'feld': 2113, 'fell': 2114, 'fella': 2115, 'fellas': 2116, 'fellow': 2117, 'felony': 2118, 'felt': 2119, 'female_inspector:': 2120, 'feminine': 2121, 'femininity': 2122, 'feminist': 2123, 'fence': 2124, \"fendin'\": 2125, 'ferry': 2126, 'festival': 2127, 'fever': 2128, 'fevered': 2129, 'few': 2130, 'fica': 2131, 'fiction': 2132, 'fictional': 2133, 'field': 2134, 'fierce': 2135, 'fifteen': 2136, 'fifth': 2137, 'fifty': 2138, 'fight': 2139, 'fighter': 2140, \"fightin'\": 2141, 'fighting': 2142, 'fights': 2143, 'figure': 2144, 'figured': 2145, 'figures': 2146, 'fiiiiile': 2147, 'file': 2148, 'filed': 2149, 'fill': 2150, 'filled': 2151, 'fills': 2152, 'film': 2153, 'filth': 2154, 'filthy': 2155, 'finale': 2156, 'finally': 2157, 'finance': 2158, 'find': 2159, 'finding': 2160, 'fine': 2161, \"fine-lookin'\": 2162, 'finest': 2163, 'finger': 2164, 'fingers': 2165, 'finish': 2166, 'finished': 2167, 'finishing': 2168, 'fink': 2169, 'fire': 2170, 'fire_inspector:': 2171, 'fireball': 2172, 'fired': 2173, 'fires': 2174, 'fireworks': 2175, 'firing': 2176, 'firm': 2177, 'firmly': 2178, 'first': 2179, 'fish': 2180, \"fishin'\": 2181, 'fishing': 2182, 'fist': 2183, 'fistiana': 2184, 'fit': 2185, 'five': 2186, 'five-fifteen': 2187, 'fix': 2188, 'fixed': 2189, 'fixes': 2190, 'fl': 2191, 'flack': 2192, 'flag': 2193, 'flailing': 2194, 'flaking': 2195, 'flame': 2196, 'flames': 2197, 'flaming': 2198, 'flanders': 2199, 'flanders:': 2200, 'flash': 2201, 'flash-fry': 2202, 'flashbacks': 2203, 'flashing': 2204, 'flat': 2205, 'flatly': 2206, 'flayvin': 2207, 'flea:': 2208, 'fleabag': 2209, 'fledgling': 2210, 'fletcherism': 2211, 'flew': 2212, 'flexible': 2213, 'flips': 2214, 'floated': 2215, \"floatin'\": 2216, 'floating': 2217, 'floor': 2218, 'flophouse': 2219, 'flourish': 2220, 'flower': 2221, 'flowers': 2222, 'flown': 2223, 'fluoroscope': 2224, 'flush': 2225, 'flush-town': 2226, 'flustered': 2227, 'fly': 2228, 'flying': 2229, 'flynt': 2230, 'foam': 2231, 'focus': 2232, 'focused': 2233, 'foibles': 2234, 'foil': 2235, 'fold': 2236, 'folk': 2237, 'folks': 2238, 'follow': 2239, 'followed': 2240, 'following': 2241, 'fonda': 2242, 'fondest': 2243, 'fondly': 2244, 'fontaine': 2245, 'fonzie': 2246, 'food': 2247, 'foodie': 2248, 'fool': 2249, \"foolin'\": 2250, 'fools': 2251, 'foot': 2252, 'football': 2253, \"football's\": 2254, 'football_announcer:': 2255, 'for': 2256, 'forbidden': 2257, 'forbids': 2258, 'force': 2259, 'forced': 2260, 'ford': 2261, 'forecast': 2262, 'forehead': 2263, 'forever': 2264, 'forget': 2265, 'forget-me-drinks': 2266, 'forget-me-shot': 2267, 'forgets': 2268, 'forgive': 2269, 'forgiven': 2270, 'forgot': 2271, 'forgotten': 2272, 'fork': 2273, 'form': 2274, 'formico': 2275, 'formico:': 2276, 'fortensky': 2277, 'fortress': 2278, 'fortune': 2279, 'forty': 2280, 'forty-five': 2281, 'forty-nine': 2282, 'forty-seven': 2283, 'forty-two': 2284, 'forward': 2285, 'found': 2286, 'foundation': 2287, 'founded': 2288, 'fountain': 2289, 'four': 2290, 'four-drink': 2291, 'four-star': 2292, 'fourteen:': 2293, 'fourth': 2294, 'fox': 2295, 'fox_mulder:': 2296, 'fragile': 2297, 'france': 2298, 'frankenstein': 2299, 'frankie': 2300, 'frankly': 2301, 'frat': 2302, 'fraud': 2303, 'frazier': 2304, 'freak': 2305, 'freaking': 2306, 'freaky': 2307, 'free': 2308, 'freed': 2309, 'freedom': 2310, 'freely': 2311, 'freeze': 2312, 'french': 2313, 'frenchman': 2314, 'frescas': 2315, 'fresco': 2316, 'fresh': 2317, 'freshened': 2318, 'friction': 2319, 'friday': 2320, 'fridge': 2321, 'friend': 2322, \"friend's\": 2323, 'friend:': 2324, 'friendly': 2325, 'friends': 2326, 'friendship': 2327, 'frightened': 2328, 'fringe': 2329, 'frink': 2330, 'frink-y': 2331, 'fritz': 2332, 'fritz:': 2333, 'frog': 2334, 'frogs': 2335, 'from': 2336, 'front': 2337, 'frontrunner': 2338, 'frosty': 2339, 'frozen': 2340, 'fruit': 2341, 'frustrated': 2342, 'fry': 2343, \"fryer's\": 2344, 'fudd': 2345, 'fuhgetaboutit': 2346, 'full': 2347, 'full-blooded': 2348, 'full-bodied': 2349, 'full-time': 2350, 'fulla': 2351, 'fumes': 2352, 'fumigated': 2353, 'fun': 2354, \"fun's\": 2355, 'fund': 2356, 'funds': 2357, 'funeral': 2358, 'funniest': 2359, 'funny': 2360, 'furious': 2361, 'furiously': 2362, 'furniture': 2363, 'furry': 2364, 'further': 2365, 'fury': 2366, 'fuss': 2367, 'fustigate': 2368, 'fustigation': 2369, 'future': 2370, 'fuzzlepitch': 2371, 'fwooof': 2372, \"g'ahead\": 2373, \"g'night\": 2374, \"g'on\": 2375, 'ga': 2376, 'gabriel': 2377, 'gabriel:': 2378, 'gag': 2379, 'gags': 2380, 'gal': 2381, 'gallon': 2382, 'gals': 2383, 'gamble': 2384, 'gambler': 2385, 'game': 2386, \"game's\": 2387, 'games': 2388, \"games'd\": 2389, 'gang': 2390, 'gangrene': 2391, 'garbage': 2392, 'gardens': 2393, 'gargoyle': 2394, 'gargoyles': 2395, 'gary:': 2396, 'gary_chalmers:': 2397, 'gas': 2398, 'gasoline': 2399, 'gasp': 2400, 'gasps': 2401, 'gator': 2402, 'gator:': 2403, 'gave': 2404, 'gay': 2405, 'gayer': 2406, 'gear-head': 2407, 'gee': 2408, 'gees': 2409, 'geez': 2410, 'gel': 2411, 'general': 2412, 'generally': 2413, 'generosity': 2414, 'generous': 2415, 'generously': 2416, 'genius': 2417, 'gentle': 2418, \"gentleman's\": 2419, 'gentleman:': 2420, 'gentlemen': 2421, 'gentles': 2422, 'gently': 2423, 'genuinely': 2424, 'george': 2425, 'german': 2426, 'germans': 2427, 'germany': 2428, 'germs': 2429, 'gestated': 2430, 'gesture': 2431, 'get': 2432, 'getaway': 2433, 'getcha': 2434, 'gets': 2435, \"gettin'\": 2436, 'getting': 2437, \"getting'\": 2438, 'getup': 2439, 'geyser': 2440, 'geysir': 2441, 'gheet': 2442, 'ghouls': 2443, 'giant': 2444, 'gibson': 2445, 'gift': 2446, 'gift:': 2447, 'gifts': 2448, 'gig': 2449, 'giggle': 2450, 'giggles': 2451, 'gil_gunderson:': 2452, 'gimme': 2453, 'gimmick': 2454, 'gimmicks': 2455, 'gin': 2456, 'gin-slingers': 2457, 'ginger': 2458, 'girl': 2459, 'girl-bart': 2460, 'girlfriend': 2461, 'girls': 2462, 'give': 2463, 'given': 2464, 'gives': 2465, 'giving': 2466, 'glad': 2467, 'glamour': 2468, 'glass': 2469, 'glasses': 2470, 'glee': 2471, 'glen': 2472, 'glen:': 2473, 'glitterati': 2474, 'glitz': 2475, 'gloop': 2476, 'glorious': 2477, 'glove': 2478, 'glowers': 2479, 'glum': 2480, 'glummy': 2481, 'gluten': 2482, 'glyco-load': 2483, 'go': 2484, 'go-near-': 2485, 'goal': 2486, 'goblins': 2487, 'god': 2488, 'goes': 2489, \"goin'\": 2490, 'going': 2491, 'gol-dangit': 2492, 'gold': 2493, 'goldarnit': 2494, 'golden': 2495, 'golf': 2496, 'gone': 2497, 'gonna': 2498, 'goo': 2499, 'good': 2500, 'good-looking': 2501, 'goodbye': 2502, 'goodnight': 2503, 'goods': 2504, 'goodwill': 2505, 'gordon': 2506, 'gore': 2507, 'gorgeous': 2508, 'gosh': 2509, 'gossipy': 2510, 'got': 2511, 'gotcha': 2512, 'gotta': 2513, 'gotten': 2514, 'government': 2515, 'gr-aargh': 2516, 'grab': 2517, 'grabbing': 2518, 'grabs': 2519, 'grace': 2520, 'grade': 2521, 'grain': 2522, 'grains': 2523, 'grammar': 2524, 'grammy': 2525, 'grammys': 2526, 'grampa': 2527, 'grampa_simpson:': 2528, 'grand': 2529, 'grandiose': 2530, 'grandkids': 2531, 'grandmother': 2532, \"grandmother's\": 2533, 'grandé': 2534, 'granted': 2535, 'grants': 2536, 'grateful': 2537, 'grave': 2538, 'graves': 2539, 'graveyard': 2540, 'grease': 2541, 'great': 2542, 'greatest': 2543, 'greatly': 2544, 'greedy': 2545, 'greetings': 2546, 'gregor': 2547, 'grenky': 2548, 'grey': 2549, 'greystash': 2550, 'grienke': 2551, 'grieving': 2552, 'griffith': 2553, 'grim': 2554, 'grimly': 2555, 'grin': 2556, 'grinch': 2557, 'grind': 2558, 'groan': 2559, 'groans': 2560, 'grocery': 2561, 'groin': 2562, 'grope': 2563, 'ground': 2564, 'group': 2565, 'groveling': 2566, 'grow': 2567, 'growing': 2568, 'grrrreetings': 2569, 'grub': 2570, 'grubby': 2571, 'grudgingly': 2572, 'gruesome': 2573, 'gruff': 2574, 'grumbling': 2575, 'grumpy': 2576, 'grunt': 2577, 'grunts': 2578, 'guard': 2579, 'guess': 2580, 'guessing': 2581, 'guest': 2582, 'guff': 2583, 'guide': 2584, 'guilt': 2585, 'guiltily': 2586, 'guinea': 2587, 'gulliver_dark:': 2588, 'gulps': 2589, 'gum': 2590, 'gumbel': 2591, 'gumbo': 2592, 'gums': 2593, 'gun': 2594, 'gunk': 2595, 'guns': 2596, 'gunter': 2597, 'gunter:': 2598, 'gus': 2599, 'gut': 2600, 'gutenberg': 2601, 'guts': 2602, 'guttural': 2603, 'guy': 2604, \"guy's\": 2605, 'guys': 2606, 'guzzles': 2607, 'h': 2608, 'ha': 2609, 'ha-ha': 2610, 'habit': 2611, 'habitrail': 2612, 'had': 2613, \"hadn't\": 2614, 'hafta': 2615, 'hah': 2616, 'haikus': 2617, 'hail': 2618, 'hair': 2619, 'haircuts': 2620, 'hairs': 2621, 'haiti': 2622, 'half': 2623, 'half-back': 2624, 'half-beer': 2625, 'half-day': 2626, 'halfway': 2627, 'hall': 2628, 'halloween': 2629, 'halvsies': 2630, 'hammer': 2631, 'hammock': 2632, 'hammy': 2633, 'hampstead-on-cecil-cecil': 2634, 'hand': 2635, 'handed': 2636, 'handing': 2637, 'handle': 2638, 'handler': 2639, 'handling': 2640, 'handoff': 2641, 'hands': 2642, 'handshake': 2643, 'handsome': 2644, 'handwriting': 2645, \"handwriting's\": 2646, 'hang': 2647, \"hangin'\": 2648, 'hanging': 2649, 'hangout': 2650, 'hangover': 2651, 'hangs': 2652, 'hanh': 2653, 'hank_williams_jr': 2654, 'hans:': 2655, 'haplessly': 2656, 'happen': 2657, 'happened': 2658, 'happens': 2659, 'happier': 2660, 'happily': 2661, 'happily:': 2662, 'happiness': 2663, 'happy': 2664, 'har': 2665, 'hard': 2666, 'harder': 2667, 'hardhat': 2668, 'hardwood': 2669, 'hardy': 2670, 'hare-brained': 2671, 'harm': 2672, 'harmony': 2673, 'harrowing': 2674, 'harv': 2675, 'harv:': 2676, 'harvard': 2677, 'harvesting': 2678, 'harvey': 2679, 'has': 2680, \"hasn't\": 2681, 'hat': 2682, 'hate': 2683, 'hate-hugs': 2684, 'hated': 2685, 'hateful': 2686, 'hates': 2687, 'hats': 2688, 'have': 2689, \"haven't\": 2690, \"havin'\": 2691, 'having': 2692, 'haw': 2693, 'hawaii': 2694, \"hawkin'\": 2695, 'hawking:': 2696, 'haws': 2697, 'he': 2698, \"he'd\": 2699, \"he'll\": 2700, \"he's\": 2701, 'head': 2702, 'head-gunk': 2703, 'headhunters': 2704, 'heading': 2705, 'heads': 2706, 'heals': 2707, 'health': 2708, 'health_inspector:': 2709, 'healthier': 2710, 'hear': 2711, 'heard': 2712, 'hearing': 2713, 'hears': 2714, 'hearse': 2715, 'heart': 2716, 'heart-broken': 2717, 'heartily': 2718, 'heartless': 2719, 'hearts': 2720, \"heat's\": 2721, 'heather': 2722, 'heatherton': 2723, 'heave-ho': 2724, 'heaven': 2725, 'heavens': 2726, 'heaving': 2727, 'heavyset': 2728, 'heavyweight': 2729, 'heck': 2730, 'heh': 2731, 'heh-heh': 2732, 'held': 2733, 'helen': 2734, 'helicopter': 2735, 'heliotrope': 2736, 'hell': 2737, \"hell's\": 2738, 'hellhole': 2739, 'helllp': 2740, 'hello': 2741, 'help': 2742, 'helped': 2743, 'helpful': 2744, 'helping': 2745, 'helpless': 2746, 'helps': 2747, 'hemoglobin': 2748, 'hemorrhage-amundo': 2749, 'hems': 2750, 'henry': 2751, 'her': 2752, 'here': 2753, \"here's\": 2754, 'here-here-here': 2755, 'hero': 2756, 'hero-phobia': 2757, 'heroism': 2758, 'hers': 2759, 'herself': 2760, 'hexa-': 2761, 'hey': 2762, 'hi': 2763, 'hibachi': 2764, 'hibbert': 2765, 'hidden': 2766, 'hide': 2767, 'hideous': 2768, 'hiding': 2769, 'high': 2770, 'high-definition': 2771, \"high-falutin'\": 2772, 'highball': 2773, 'higher': 2774, 'highest': 2775, 'highway': 2776, 'hike': 2777, 'hilarious': 2778, 'hillary': 2779, 'hillbillies': 2780, 'hilton': 2781, 'him': 2782, 'himself': 2783, 'hippies': 2784, 'hired': 2785, 'hiring': 2786, 'his': 2787, 'hispanic_crowd:': 2788, 'history': 2789, 'hit': 2790, 'hitchhike': 2791, 'hitler': 2792, 'hits': 2793, 'hiya': 2794, 'hm': 2795, 'hmf': 2796, 'hmm': 2797, 'hmmm': 2798, 'hmmmm': 2799, 'ho': 2800, 'ho-la': 2801, 'ho-ly': 2802, 'hoagie': 2803, 'hoax': 2804, 'hobo': 2805, \"hobo's\": 2806, 'hockey-fight': 2807, 'hold': 2808, 'holding': 2809, 'holds': 2810, 'hole': 2811, \"hole'\": 2812, 'holiday': 2813, 'holidays': 2814, 'hollowed-out': 2815, 'hollye': 2816, 'hollywood': 2817, 'holy': 2818, 'home': 2819, 'homeland': 2820, 'homeless': 2821, 'homer': 2822, \"homer'll\": 2823, \"homer's\": 2824, \"homer's_brain:\": 2825, 'homer_': 2826, 'homer_doubles:': 2827, 'homer_simpson:': 2828, 'homers': 2829, 'homesick': 2830, 'homie': 2831, 'homunculus': 2832, 'honest': 2833, 'honey': 2834, 'honeys': 2835, 'honor': 2836, 'honored': 2837, 'hoo': 2838, 'hooch': 2839, 'hook': 2840, 'hooked': 2841, 'hooky': 2842, 'hooray': 2843, 'hooters': 2844, 'hootie': 2845, 'hop': 2846, 'hope': 2847, 'hoped': 2848, 'hopeful': 2849, 'hoping': 2850, 'hops': 2851, 'horns': 2852, 'horribilis': 2853, 'horrible': 2854, 'horrified': 2855, 'horror': 2856, 'horrors': 2857, 'horses': 2858, 'hose': 2859, 'hospital': 2860, 'host': 2861, 'hostages': 2862, 'hostile': 2863, 'hosting': 2864, 'hot': 2865, 'hot-rod': 2866, 'hotel': 2867, 'hotenhoffer': 2868, 'hotline': 2869, 'hottest': 2870, 'hounds': 2871, 'hour': 2872, 'hourly': 2873, 'hours': 2874, 'house': 2875, 'housewife': 2876, 'housework': 2877, 'housing': 2878, 'how': 2879, \"how'd\": 2880, \"how're\": 2881, \"how's\": 2882, 'however': 2883, 'howya': 2884, 'hub': 2885, 'hubub': 2886, 'huddle': 2887, 'hug': 2888, 'huge': 2889, 'huggenkiss': 2890, 'hugh': 2891, 'hugh:': 2892, 'huh': 2893, 'huhza': 2894, 'human': 2895, 'humanity': 2896, 'humiliation': 2897, 'hundred': 2898, 'hundreds': 2899, 'hunger': 2900, 'hungry': 2901, 'hunka': 2902, 'hunky': 2903, 'hunter': 2904, 'hunting': 2905, 'hurry': 2906, 'hurt': 2907, 'hurting': 2908, 'hurts': 2909, 'husband': 2910, 'hushed': 2911, 'hustle': 2912, 'hyahh': 2913, 'hydrant': 2914, 'hygienically': 2915, 'hyper-credits': 2916, 'i': 2917, \"i'd\": 2918, \"i'd'a\": 2919, \"i'll\": 2920, \"i'm\": 2921, \"i'm-so-stupid\": 2922, \"i'unno\": 2923, \"i've\": 2924, 'i-i': 2925, \"i-i'll\": 2926, \"i-i'm\": 2927, 'i-i-i': 2928, 'i/you': 2929, 'ice': 2930, 'icelandic': 2931, 'icy': 2932, 'iddilies': 2933, 'idea': 2934, \"idea's\": 2935, 'ideal': 2936, 'idealistic': 2937, 'ideas': 2938, 'idioms': 2939, 'idiot': 2940, 'idiots': 2941, 'if': 2942, 'ignorance': 2943, 'ignorant': 2944, 'ignoring': 2945, 'ihop': 2946, 'illegal': 2947, 'illegally': 2948, 'illustrates': 2949, 'image': 2950, 'imaginary': 2951, 'imagine': 2952, 'imitating': 2953, 'immiggants': 2954, 'impatient': 2955, 'impeach': 2956, 'impending': 2957, 'important': 2958, 'imported-sounding': 2959, 'impress': 2960, 'impressed': 2961, 'improv': 2962, 'improved': 2963, 'in': 2964, 'in-ground': 2965, 'in-in-in': 2966, 'inanely': 2967, 'incapable': 2968, 'incarcerated': 2969, 'inches': 2970, 'inclination': 2971, 'including': 2972, 'incognito': 2973, 'increased': 2974, 'increasingly': 2975, 'incredible': 2976, 'incredulous': 2977, 'incriminating': 2978, 'indecipherable': 2979, 'indeed': 2980, 'indeedy': 2981, 'index': 2982, 'indicates': 2983, 'indifference': 2984, 'indifferent': 2985, 'indigenous': 2986, 'indignant': 2987, 'industry': 2988, \"industry's\": 2989, 'ineffective': 2990, 'inexorable': 2991, 'infatuation': 2992, 'infestation': 2993, 'infiltrate': 2994, 'inflated': 2995, 'influence': 2996, 'infor': 2997, 'informant': 2998, 'information': 2999, 'ing': 3000, 'ingested': 3001, 'ingrates': 3002, 'ingredient': 3003, 'inherent': 3004, 'initially': 3005, 'injury': 3006, 'inning': 3007, 'innocence': 3008, 'innocent': 3009, 'innocuous': 3010, 'inquiries': 3011, 'insecure': 3012, 'insensitive': 3013, 'inserted': 3014, 'inserts': 3015, 'inside': 3016, 'insightful': 3017, 'insist': 3018, 'inspection': 3019, 'inspector': 3020, 'inspire': 3021, 'inspired': 3022, 'inspiring': 3023, 'installed': 3024, 'instantly': 3025, 'instead': 3026, 'instrument': 3027, 'insulin': 3028, 'insulted': 3029, 'insults': 3030, 'insurance': 3031, 'insured': 3032, 'intakes': 3033, 'intelligent': 3034, 'intense': 3035, 'intention': 3036, 'interested': 3037, 'interesting': 3038, 'international': 3039, 'internet': 3040, 'interrupting': 3041, 'intervention': 3042, 'intimacy': 3043, 'into': 3044, 'intoxicants': 3045, 'intoxicated': 3046, 'intrigued': 3047, 'intriguing': 3048, 'introduce': 3049, 'intruding': 3050, 'invented': 3051, 'investigating': 3052, 'investment': 3053, 'investor': 3054, 'invisible': 3055, 'invite': 3056, 'invited': 3057, 'involved': 3058, 'involving': 3059, 'invulnerable': 3060, 'iran': 3061, 'iranian': 3062, 'ireland': 3063, 'irish': 3064, 'irishman': 3065, 'ironed': 3066, 'ironic': 3067, 'irrelevant': 3068, 'irs': 3069, 'is': 3070, 'is:': 3071, 'island': 3072, 'isle': 3073, \"isn't\": 3074, 'isotopes': 3075, 'issues': 3076, 'issuing': 3077, 'it': 3078, \"it'd\": 3079, \"it'll\": 3080, \"it's\": 3081, 'it:': 3082, 'italian': 3083, 'itchy': 3084, 'item': 3085, 'items': 3086, 'its': 3087, 'itself': 3088, 'ivana': 3089, 'ivanna': 3090, 'ivory': 3091, 'ivy-covered': 3092, 'j': 3093, 'jack': 3094, 'jack_larson:': 3095, 'jackass': 3096, \"jackpot's\": 3097, 'jackpot-thief': 3098, 'jacks': 3099, 'jackson': 3100, 'jacksons': 3101, 'jacques': 3102, 'jacques:': 3103, 'jaegermeister': 3104, 'jail': 3105, 'jailbird': 3106, 'jam': 3107, 'jamaican': 3108, 'james': 3109, 'jams': 3110, 'jane': 3111, 'janette': 3112, 'japanese': 3113, 'jar': 3114, 'jasper_beardly:': 3115, 'jay': 3116, 'jay:': 3117, 'jay_leno:': 3118, 'jazz': 3119, 'je': 3120, 'jebediah': 3121, 'jeers': 3122, 'jeez': 3123, 'jeff': 3124, 'jeff_gordon:': 3125, 'jelly': 3126, 'jer': 3127, 'jerk': 3128, 'jerk-ass': 3129, 'jerking': 3130, 'jerks': 3131, 'jerky': 3132, 'jernt': 3133, 'jerry': 3134, 'jesus': 3135, 'jeter': 3136, 'jets': 3137, 'jewelry': 3138, 'jewish': 3139, 'jig': 3140, 'jigger': 3141, \"jimbo's_dad:\": 3142, 'jimmy': 3143, 'job': 3144, 'jobless': 3145, 'jobs': 3146, 'jockey': 3147, 'joe': 3148, 'joey': 3149, 'joey_kramer:': 3150, 'jogging': 3151, 'john': 3152, 'johnny': 3153, 'johnny_carson:': 3154, 'join': 3155, 'joined': 3156, 'joining': 3157, 'joint': 3158, 'joke': 3159, 'jokes': 3160, 'joking': 3161, 'jolly': 3162, 'journey': 3163, 'jovial': 3164, 'joy': 3165, 'juan': 3166, 'jubilant': 3167, 'jubilation': 3168, 'judge': 3169, 'judge_snyder:': 3170, 'judges': 3171, 'judgments': 3172, 'juice': 3173, 'juke': 3174, 'jukebox': 3175, 'jukebox_record:': 3176, 'julep': 3177, 'julienne': 3178, 'jump': 3179, 'jumping': 3180, 'jumps': 3181, 'junebug': 3182, 'junior': 3183, 'junkyard': 3184, 'jury': 3185, 'just': 3186, 'justice': 3187, 'justify': 3188, 'jägermeister': 3189, 'k': 3190, 'k-zug': 3191, 'kadlubowski': 3192, 'kahlua': 3193, 'kako:': 3194, 'kang:': 3195, 'kansas': 3196, 'karaoke': 3197, 'karaoke_machine:': 3198, 'kay': 3199, 'kazoo': 3200, \"kearney's_dad:\": 3201, 'kearney_zzyzwicz:': 3202, 'keep': 3203, 'keeping': 3204, 'keeps': 3205, 'kegs': 3206, 'kemi': 3207, 'kemi:': 3208, 'ken:': 3209, 'kennedy': 3210, 'kenny': 3211, 'kent': 3212, 'kent_brockman:': 3213, 'kentucky': 3214, 'kept': 3215, 'kermit': 3216, 'key': 3217, 'keys': 3218, 'kick': 3219, 'kick-ass': 3220, 'kicked': 3221, 'kickoff': 3222, 'kicks': 3223, 'kid': 3224, \"kid's\": 3225, \"kiddin'\": 3226, 'kidding': 3227, 'kidnaps': 3228, 'kidney': 3229, 'kidneys': 3230, 'kids': 3231, \"kids'\": 3232, 'kill': 3233, 'killarney': 3234, 'killed': 3235, 'killer': 3236, 'killing': 3237, 'killjoy': 3238, 'kills': 3239, 'kim_basinger:': 3240, 'kind': 3241, 'kinda': 3242, 'kinderhook': 3243, 'kindly': 3244, 'kinds': 3245, 'king': 3246, 'kings': 3247, 'kirk': 3248, 'kirk_van_houten:': 3249, 'kirk_voice_milhouse:': 3250, 'kiss': 3251, 'kissed': 3252, 'kisser': 3253, 'kisses': 3254, 'kissing': 3255, 'kissingher': 3256, 'kitchen': 3257, 'kl5-4796': 3258, 'klingon': 3259, 'klown': 3260, 'kneeling': 3261, 'knees': 3262, 'knew': 3263, 'knife': 3264, 'knit': 3265, 'knives': 3266, 'knock': 3267, 'knock-up': 3268, 'knocked': 3269, \"knockin'\": 3270, 'knocks': 3271, 'know': 3272, 'knowing': 3273, 'knowingly': 3274, 'knowledge': 3275, 'known': 3276, 'knows': 3277, 'knuckle-dragging': 3278, 'knuckles': 3279, 'kodos:': 3280, 'koholic': 3281, 'koi': 3282, 'koji': 3283, 'kool': 3284, 'korea': 3285, 'krabappel': 3286, 'kramer': 3287, 'krusty': 3288, 'krusty_the_clown:': 3289, 'kucinich': 3290, 'kwik-e-mart': 3291, 'kyoto': 3292, 'l': 3293, 'la': 3294, 'label': 3295, 'labels': 3296, 'labor': 3297, 'lachrymose': 3298, 'ladder': 3299, 'ladies': 3300, \"ladies'\": 3301, 'lady': 3302, \"lady's\": 3303, 'lady-free': 3304, 'lady_duff:': 3305, 'lager': 3306, 'laid': 3307, 'lainie:': 3308, 'lame': 3309, 'lance': 3310, 'land': 3311, 'landfill': 3312, 'landlord': 3313, 'lanes': 3314, 'laney': 3315, 'laney_fontaine:': 3316, 'language': 3317, 'languages': 3318, 'lap': 3319, 'laramie': 3320, 'lard': 3321, 'large': 3322, 'larry': 3323, \"larry's\": 3324, 'larry:': 3325, 'larson': 3326, 'las': 3327, 'last': 3328, 'late': 3329, 'lately': 3330, 'later': 3331, 'latin': 3332, 'latour': 3333, 'laugh': 3334, 'laughing': 3335, 'laughs': 3336, 'laughter': 3337, 'launch': 3338, 'law': 3339, 'law-abiding': 3340, 'laws': 3341, 'lawyer': 3342, 'lay': 3343, 'layer': 3344, 'lazy': 3345, 'lead': 3346, 'leak': 3347, 'leans': 3348, 'lear': 3349, 'learn': 3350, 'learned': 3351, 'lease': 3352, 'least': 3353, 'leathery': 3354, 'leave': 3355, \"leavin'\": 3356, 'leaving': 3357, 'lecture': 3358, 'led': 3359, 'lee': 3360, 'left': 3361, 'leftover': 3362, \"lefty's\": 3363, 'leg': 3364, 'legal': 3365, 'legally': 3366, 'legend': 3367, 'legoland': 3368, 'legs': 3369, 'legs:': 3370, 'lemme': 3371, 'lemonade': 3372, 'len-ny': 3373, 'lend': 3374, 'lenford': 3375, 'lenny': 3376, \"lenny's\": 3377, 'lenny:': 3378, 'lenny_leonard:': 3379, 'lennyy': 3380, 'leno': 3381, 'lenses': 3382, 'leonard': 3383, 'leprechaun': 3384, 'less': 3385, 'lessee': 3386, 'lessons': 3387, 'let': 3388, \"let's\": 3389, 'letter': 3390, 'letters': 3391, 'level': 3392, 'lewis': 3393, 'liability': 3394, 'liable': 3395, 'liar': 3396, 'lib': 3397, \"liberty's\": 3398, 'libido': 3399, 'libraries': 3400, 'license': 3401, 'lie': 3402, 'lied': 3403, 'life': 3404, \"life's\": 3405, 'life-extension': 3406, 'life-partner': 3407, 'life-sized': 3408, 'life-threatening': 3409, 'life:': 3410, 'lifestyle': 3411, 'lifetime': 3412, 'lift': 3413, 'lifters': 3414, \"liftin'\": 3415, 'lifts': 3416, 'light': 3417, 'lighten': 3418, 'lighter': 3419, 'lighting': 3420, 'lights': 3421, 'like': 3422, 'likes': 3423, 'lily-pond': 3424, 'limber': 3425, 'lime': 3426, 'limericks': 3427, 'limited': 3428, 'limits': 3429, 'lincoln': 3430, 'linda': 3431, 'linda_ronstadt:': 3432, 'lindsay': 3433, 'lindsay_naegle:': 3434, 'line': 3435, 'ling': 3436, 'lingus': 3437, \"linin'\": 3438, 'links': 3439, 'lipo': 3440, 'lips': 3441, 'liquor': 3442, 'lis': 3443, 'lisa': 3444, \"lisa's\": 3445, 'lisa_simpson:': 3446, 'lise:': 3447, 'liser': 3448, 'list': 3449, 'listen': 3450, 'listened': 3451, \"listenin'\": 3452, 'listening': 3453, 'listens': 3454, 'lists': 3455, 'literary': 3456, 'literature': 3457, 'little': 3458, 'little_hibbert_girl:': 3459, 'little_man:': 3460, 'live': 3461, 'liven': 3462, 'liver': 3463, 'lives': 3464, \"livin'\": 3465, 'living': 3466, 'lizard': 3467, 'lloyd': 3468, 'lloyd:': 3469, 'load': 3470, 'loaded': 3471, 'loafers': 3472, 'loan': 3473, 'loathe': 3474, 'loboto-moth': 3475, 'lobster': 3476, 'lobster-based': 3477, 'lobster-politans': 3478, 'local': 3479, 'located': 3480, 'lock': 3481, 'locked': 3482, 'locklear': 3483, 'lodge': 3484, 'lofty': 3485, 'log': 3486, 'logos': 3487, 'lone': 3488, 'loneliness': 3489, 'lonely': 3490, 'long': 3491, 'longer': 3492, 'longest': 3493, 'look': 3494, 'lookalike': 3495, 'lookalike:': 3496, 'lookalikes': 3497, 'looked': 3498, \"lookin'\": 3499, 'looking': 3500, 'looks': 3501, 'looooooooooooooooooong': 3502, 'looser': 3503, 'looting': 3504, 'lord': 3505, 'lorre': 3506, 'los': 3507, 'lose': 3508, 'loser': 3509, 'losers': 3510, 'losing': 3511, 'loss': 3512, 'lost': 3513, 'lot': 3514, 'lots': 3515, 'lotsa': 3516, 'lotta': 3517, 'lottery': 3518, 'lou': 3519, 'lou:': 3520, 'loud': 3521, 'louder': 3522, 'loudly': 3523, 'louie:': 3524, 'louisiana': 3525, 'louse': 3526, 'lousy': 3527, 'love': 3528, 'love-matic': 3529, 'loved': 3530, 'lovejoy': 3531, 'lovelorn': 3532, 'lovely': 3533, 'lover': 3534, 'lovers': 3535, \"lovers'\": 3536, 'loves': 3537, 'low': 3538, 'low-blow': 3539, 'low-life': 3540, 'lowering': 3541, 'lowers': 3542, 'lowest': 3543, 'loyal': 3544, 'lucinda': 3545, 'lucius': 3546, 'lucius:': 3547, 'luck': 3548, 'luckiest': 3549, 'luckily': 3550, 'lucky': 3551, 'lugs': 3552, 'lump': 3553, 'lumpa': 3554, 'lungs': 3555, 'lurks': 3556, 'lurleen': 3557, 'lurleen_lumpkin:': 3558, 'lush': 3559, 'lushmore': 3560, 'luv': 3561, 'luxury': 3562, 'lying': 3563, 'm': 3564, 'ma': 3565, \"ma'am\": 3566, \"ma's\": 3567, 'mabel': 3568, 'mac-who': 3569, 'macaulay': 3570, 'macbeth': 3571, 'macgregor': 3572, 'machine': 3573, 'macho': 3574, 'mad': 3575, 'made': 3576, 'madison': 3577, 'madman': 3578, 'madonna': 3579, 'mafia': 3580, 'magazine': 3581, 'maggie': 3582, \"maggie's\": 3583, 'magic': 3584, 'magnanimous': 3585, 'mags': 3586, 'mahatma': 3587, 'maher': 3588, 'maiden': 3589, 'mail': 3590, 'mailbox': 3591, 'maintenance': 3592, 'maitre': 3593, 'majesty': 3594, 'majority': 3595, 'make': 3596, 'make:': 3597, 'makes': 3598, \"makin'\": 3599, 'making': 3600, 'malabar': 3601, 'male_inspector:': 3602, 'male_singers:': 3603, 'malfeasance': 3604, 'malibu': 3605, 'mall': 3606, 'malted': 3607, 'maman': 3608, 'mamma': 3609, 'man': 3610, \"man'd\": 3611, \"man's\": 3612, \"man's_voice:\": 3613, 'man:': 3614, 'man_at_bar:': 3615, 'man_with_crazy_beard:': 3616, 'man_with_tree_hat:': 3617, 'manage': 3618, 'managed': 3619, 'manager': 3620, 'managing': 3621, 'manatee': 3622, 'manboobs': 3623, 'manchego': 3624, 'manfred': 3625, 'manipulation': 3626, 'manjula': 3627, 'manjula_nahasapeemapetilon:': 3628, 'mansions': 3629, 'manuel': 3630, 'many': 3631, 'march': 3632, 'marched': 3633, 'margarita': 3634, 'marge': 3635, \"marge's\": 3636, 'marge_simpson:': 3637, 'marguerite:': 3638, 'mariah': 3639, 'marjorie': 3640, 'market': 3641, 'marmaduke': 3642, 'marquee': 3643, 'marriage': 3644, 'married': 3645, 'marry': 3646, 'marshmallow': 3647, 'martini': 3648, 'marvelous': 3649, 'marvin': 3650, 'mary': 3651, 'masks': 3652, 'mason': 3653, 'massachusetts': 3654, 'massage': 3655, 'massive': 3656, 'match': 3657, 'mate': 3658, 'mater': 3659, 'material': 3660, 'mathis': 3661, 'matter': 3662, 'matter-of-fact': 3663, 'maude': 3664, 'maxed': 3665, 'maximum': 3666, 'may': 3667, 'maya': 3668, 'maya:': 3669, 'mayan': 3670, 'maybe': 3671, 'mayor': 3672, 'mayor_joe_quimby:': 3673, 'mcbain': 3674, 'mccall': 3675, 'mccarthy': 3676, 'mcclure': 3677, 'mckinley': 3678, 'mcstagger': 3679, \"mcstagger's\": 3680, 'me': 3681, 'meal': 3682, 'meals': 3683, 'mean': 3684, \"meanin'\": 3685, 'meaning': 3686, 'meaningful': 3687, 'meaningfully': 3688, 'meaningless': 3689, 'means': 3690, 'meant': 3691, 'meanwhile': 3692, 'measure': 3693, 'measurements': 3694, 'meatpies': 3695, \"mecca's\": 3696, 'mechanical': 3697, 'media': 3698, 'medical': 3699, 'medicine': 3700, 'medieval': 3701, 'meditative': 3702, 'mediterranean': 3703, 'meet': 3704, 'meeting': 3705, 'mel': 3706, 'mellow': 3707, 'melodramatic': 3708, 'memories': 3709, 'memory': 3710, 'men': 3711, \"men's\": 3712, 'men:': 3713, 'menace': 3714, 'menacing': 3715, 'menlo': 3716, 'mention': 3717, 'merchants': 3718, 'mess': 3719, 'message': 3720, \"messin'\": 3721, 'met': 3722, 'metal': 3723, 'meteor': 3724, 'methinks': 3725, 'mexican': 3726, 'mexican_duffman:': 3727, 'mexicans': 3728, 'meyerhof': 3729, 'mic': 3730, 'mice': 3731, 'michael': 3732, 'michael_stipe:': 3733, 'michelin': 3734, 'mickey': 3735, 'microbrew': 3736, 'micronesian': 3737, 'microphone': 3738, 'microwave': 3739, 'mid-conversation': 3740, 'mid-seventies': 3741, 'middle': 3742, 'midge': 3743, 'midge:': 3744, 'midnight': 3745, 'might': 3746, 'mike': 3747, 'mike_mills:': 3748, 'mild': 3749, 'miles': 3750, 'milhouse': 3751, 'milhouse_van_houten:': 3752, 'milhouses': 3753, 'military': 3754, 'militia': 3755, 'milk': 3756, 'milks': 3757, 'mill': 3758, 'million': 3759, 'mimes': 3760, 'mind': 3761, 'mind-numbing': 3762, 'mindless': 3763, 'mine': 3764, 'mines': 3765, 'mini-beret': 3766, 'mini-dumpsters': 3767, 'minimum': 3768, 'minister': 3769, 'minors': 3770, 'mint': 3771, 'minus': 3772, 'minute': 3773, 'minutes': 3774, 'miracle': 3775, 'mirror': 3776, 'mirthless': 3777, 'mis-statement': 3778, 'misconstrue': 3779, 'miserable': 3780, 'misfire': 3781, 'miss': 3782, 'miss_lois_pennycandy:': 3783, 'missed': 3784, 'missing': 3785, 'mission': 3786, 'mistake': 3787, 'mistakes': 3788, 'mister': 3789, 'mistresses': 3790, 'mither': 3791, 'mitts': 3792, 'mix': 3793, 'mixed': 3794, 'mm': 3795, 'mm-hmm': 3796, 'mmm': 3797, 'mmm-hmm': 3798, 'mmmm': 3799, 'mmmmm': 3800, \"mo'\": 3801, 'moan': 3802, 'moans': 3803, 'mob': 3804, 'mobile': 3805, 'mock': 3806, 'mock-up': 3807, 'mocking': 3808, 'model': 3809, 'modern': 3810, 'modest': 3811, 'modestly': 3812, 'moe': 3813, \"moe's\": 3814, \"moe's_thoughts:\": 3815, 'moe-clone': 3816, 'moe-clone:': 3817, 'moe-heads': 3818, 'moe-lennium': 3819, 'moe-near-now': 3820, 'moe-ron': 3821, 'moe_recording:': 3822, 'moe_szyslak:': 3823, 'moesy': 3824, 'mole': 3825, 'mom': 3826, 'moment': 3827, 'moments': 3828, 'mommy': 3829, 'mona_simpson:': 3830, 'monday': 3831, 'money': 3832, \"money's\": 3833, 'monkey': 3834, 'monkeyshines': 3835, 'monorails': 3836, 'monroe': 3837, \"monroe's\": 3838, 'monster': 3839, 'month': 3840, 'months': 3841, 'montrer': 3842, 'moolah-stealing': 3843, 'moon': 3844, 'moon-bounce': 3845, 'moonlight': 3846, 'moonnnnnnnn': 3847, 'moonshine': 3848, 'mop': 3849, \"mopin'\": 3850, 'more': 3851, 'morlocks': 3852, 'morning': 3853, 'morning-after': 3854, 'moron': 3855, 'morose': 3856, 'mortal': 3857, 'mortgage': 3858, 'most': 3859, 'most:': 3860, 'mostly': 3861, 'mostrar': 3862, 'motel': 3863, 'mother': 3864, \"mother's\": 3865, 'motor': 3866, 'motorcycle': 3867, 'motto': 3868, 'mount': 3869, 'mountain': 3870, 'mouse': 3871, 'moustache': 3872, 'mouth': 3873, 'mouths': 3874, 'move': 3875, 'moved': 3876, 'movement': 3877, 'movie': 3878, 'movies': 3879, 'moving': 3880, 'moxie': 3881, 'mozzarella': 3882, 'mr': 3883, 'mrs': 3884, 'mt': 3885, \"mtv's\": 3886, 'much': 3887, 'mudflap': 3888, 'muertos': 3889, 'muffled': 3890, 'mug': 3891, 'mugs': 3892, 'muhammad': 3893, 'mulder': 3894, 'mull': 3895, 'multi-national': 3896, 'multi-purpose': 3897, 'multiple': 3898, 'mumble': 3899, 'mumbling': 3900, 'municipal': 3901, 'mural': 3902, 'murdered': 3903, 'murderously': 3904, 'murdoch': 3905, 'murmur': 3906, 'murmurs': 3907, \"murphy's\": 3908, 'muscle': 3909, 'muscles': 3910, 'museum': 3911, 'mushy': 3912, 'music': 3913, 'musical': 3914, 'musketeers': 3915, 'muslim': 3916, 'musses': 3917, 'must': 3918, \"must've\": 3919, 'musta': 3920, 'mustard': 3921, 'muttering': 3922, 'my': 3923, 'my-y-y-y-y-y': 3924, 'myself': 3925, 'mystery': 3926, 'na': 3927, 'nachos': 3928, 'naegle': 3929, 'nagurski': 3930, 'nah': 3931, 'nahasapeemapetilon': 3932, 'nail': 3933, 'nailed': 3934, 'naively': 3935, 'naked': 3936, 'name': 3937, 'name:': 3938, 'named': 3939, 'nameless': 3940, 'names': 3941, 'nantucket': 3942, 'nap': 3943, 'napkins': 3944, 'nards': 3945, \"narratin'\": 3946, 'narrator:': 3947, 'nasa': 3948, 'nascar': 3949, 'nash': 3950, 'nasty': 3951, 'nation': 3952, 'natural': 3953, 'naturally': 3954, 'nature': 3955, 'natured': 3956, 'nauseous': 3957, 'naval': 3958, 'navy': 3959, 'nbc': 3960, 'ne': 3961, 'neanderthal': 3962, 'near': 3963, 'nearly': 3964, 'neat': 3965, \"neat's-foot\": 3966, 'necessary': 3967, 'neck': 3968, 'necklace': 3969, 'nectar': 3970, 'ned': 3971, 'ned_flanders:': 3972, 'need': 3973, 'needed': 3974, 'needs': 3975, 'needy': 3976, 'negative': 3977, 'neighbor': 3978, \"neighbor's\": 3979, 'neighboreeno': 3980, 'neighborhood': 3981, 'neighbors': 3982, 'neil_gaiman:': 3983, 'nein': 3984, 'neither': 3985, 'nelson': 3986, 'nelson_muntz:': 3987, 'nemo': 3988, 'neon': 3989, 'nerd': 3990, 'nerve': 3991, 'nervous': 3992, 'nervously': 3993, 'network': 3994, 'nevada': 3995, 'never': 3996, 'new': 3997, 'new_health_inspector:': 3998, 'newest': 3999, 'newly-published': 4000, 'news': 4001, 'newsies': 4002, 'newsletter': 4003, 'newspaper': 4004, 'newsweek': 4005, 'next': 4006, 'nfl_narrator:': 4007, 'nibble': 4008, 'nice': 4009, 'nicer': 4010, 'nick': 4011, \"nick's\": 4012, 'nickel': 4013, 'nickels': 4014, 'nigel_bakerbutcher:': 4015, 'nigeria': 4016, 'nigerian': 4017, 'night': 4018, 'night-crawlers': 4019, 'nightmare': 4020, 'nightmares': 4021, 'nine': 4022, 'nineteen': 4023, 'ninety-eight': 4024, 'ninety-nine': 4025, 'ninety-seven': 4026, 'ninety-six': 4027, 'ninth': 4028, 'nitwit': 4029, \"nixon's\": 4030, 'no': 4031, 'nobel': 4032, 'noble': 4033, 'nobody': 4034, 'nods': 4035, 'noggin': 4036, 'noise': 4037, 'noises': 4038, 'nominated': 4039, 'non-american': 4040, 'non-losers': 4041, 'nonchalant': 4042, 'nonchalantly': 4043, 'none': 4044, 'nonsense': 4045, 'nooo': 4046, 'noooooooooo': 4047, 'noose': 4048, 'noosey': 4049, 'nope': 4050, 'nor': 4051, 'nordiques': 4052, 'normal': 4053, 'normals': 4054, 'north': 4055, 'norway': 4056, 'nos': 4057, 'nose': 4058, 'not': 4059, 'notably': 4060, 'notch': 4061, \"nothin'\": 4062, \"nothin's\": 4063, 'nothing': 4064, 'notice': 4065, 'notices': 4066, 'noticing': 4067, 'notorious': 4068, 'novel': 4069, 'novelty': 4070, 'november': 4071, 'now': 4072, \"now's\": 4073, 'nuclear': 4074, 'nucular': 4075, 'nudge': 4076, 'nuked': 4077, 'number': 4078, \"number's\": 4079, 'numbers': 4080, 'numeral': 4081, 'nurse': 4082, 'nursemaid': 4083, 'nuts': 4084, 'não': 4085, 'o': 4086, \"o'\": 4087, \"o'clock\": 4088, \"o'problem\": 4089, \"o'reilly\": 4090, 'oak': 4091, 'obama': 4092, 'obese': 4093, 'oblivious': 4094, 'oblongata': 4095, 'obsessive-compulsive': 4096, 'obvious': 4097, 'occasion': 4098, 'occasional': 4099, 'occupancy': 4100, 'occupation': 4101, 'occupied': 4102, 'occurred': 4103, 'occurrence': 4104, 'occurs': 4105, 'ocean': 4106, 'octa-': 4107, 'odd': 4108, 'oddest': 4109, 'odor': 4110, 'of': 4111, 'off': 4112, 'offa': 4113, 'offended': 4114, 'offense': 4115, 'offensive': 4116, 'offer': 4117, 'office': 4118, 'officer': 4119, 'official': 4120, 'officials': 4121, 'offshoot': 4122, 'often': 4123, 'oh': 4124, 'oh-ho': 4125, 'oh-so-sophisticated': 4126, 'ohh': 4127, 'ohhhh': 4128, 'ohmygod': 4129, 'oil': 4130, 'oils': 4131, 'ointment': 4132, 'okay': 4133, \"ol'\": 4134, 'old': 4135, 'old-time': 4136, 'old_jewish_man:': 4137, 'older': 4138, 'olive': 4139, 'ollie': 4140, 'omigod': 4141, 'ominous': 4142, 'omit': 4143, 'on': 4144, 'onassis': 4145, 'once': 4146, 'one': 4147, \"one's\": 4148, 'one-hour': 4149, 'ones': 4150, 'onion': 4151, 'onions': 4152, 'online': 4153, 'only': 4154, 'ons': 4155, 'onto': 4156, 'oof': 4157, 'ooh': 4158, 'ooo': 4159, 'oooh': 4160, 'oooo': 4161, 'oopsie': 4162, 'op': 4163, 'open': 4164, 'open-casket': 4165, 'opening': 4166, 'opens': 4167, 'operation': 4168, 'opportunity': 4169, 'optimistic': 4170, 'option': 4171, 'options': 4172, 'or': 4173, 'order': 4174, 'ordered': 4175, 'orders': 4176, 'ore': 4177, 'organ': 4178, 'orgasmville': 4179, 'orifice': 4180, 'original': 4181, 'orphan': 4182, 'othello': 4183, 'other': 4184, \"other's\": 4185, 'other_book_club_member:': 4186, 'other_player:': 4187, \"others'\": 4188, 'otherwise': 4189, 'ought': 4190, 'oughta': 4191, 'oughtta': 4192, 'our': 4193, 'ourselves': 4194, 'out': 4195, 'outlive': 4196, 'outlook': 4197, 'outrageous': 4198, 'outs': 4199, 'outside': 4200, 'outstanding': 4201, 'outta': 4202, 'over': 4203, 'over-pronouncing': 4204, 'overflowing': 4205, 'overhearing': 4206, 'overstressed': 4207, 'overturned': 4208, 'ow': 4209, 'owe': 4210, 'owes': 4211, 'own': 4212, 'owned': 4213, 'owner': 4214, 'owns': 4215, 'oww': 4216, 'p': 4217, 'p-k': 4218, 'pack': 4219, 'package': 4220, 'packets': 4221, 'pad': 4222, 'padre': 4223, 'padres': 4224, 'page': 4225, 'pageant': 4226, 'pages': 4227, 'paid': 4228, 'pain': 4229, 'pained': 4230, 'painless': 4231, 'paint': 4232, 'painted': 4233, 'painting': 4234, 'paintings': 4235, 'paints': 4236, 'pair': 4237, 'pajamas': 4238, 'pal': 4239, 'pall': 4240, 'palm': 4241, 'palmerston': 4242, 'pancakes': 4243, 'panicked': 4244, 'panicky': 4245, 'panties': 4246, 'pantry': 4247, 'pants': 4248, 'pantsless': 4249, 'papa': 4250, 'paparazzo': 4251, 'paper': 4252, 'para': 4253, 'paramedic:': 4254, 'parasol': 4255, 'pardon': 4256, 'parenting': 4257, 'parents': 4258, 'paris': 4259, 'park': 4260, 'parked': 4261, 'parking': 4262, 'parrot': 4263, 'part': 4264, 'part-time': 4265, 'partially': 4266, 'partly': 4267, 'partner': 4268, 'partners': 4269, 'party': 4270, 'pas': 4271, 'pass': 4272, 'passed': 4273, 'passenger': 4274, 'passes': 4275, 'passion': 4276, 'passports': 4277, 'past': 4278, 'pasta': 4279, 'paste': 4280, 'patented': 4281, 'pathetic': 4282, 'patient': 4283, \"patrick's\": 4284, 'patriotic': 4285, 'patron_#1:': 4286, 'patron_#2:': 4287, 'patrons': 4288, 'patrons:': 4289, 'pats': 4290, 'patterns': 4291, 'patting': 4292, 'patty': 4293, 'patty_bouvier:': 4294, 'pause': 4295, 'pawed': 4296, 'pay': 4297, 'payback': 4298, 'payday': 4299, \"payin'\": 4300, 'paying': 4301, 'payments': 4302, 'pays': 4303, 'peabody': 4304, 'peace': 4305, 'peach': 4306, 'peaked': 4307, 'peanut': 4308, 'peanuts': 4309, 'pee': 4310, 'peeping': 4311, 'peeved': 4312, 'pen': 4313, 'penmanship': 4314, 'pennies': 4315, 'penny': 4316, 'people': 4317, \"people's\": 4318, 'pep': 4319, 'pepper': 4320, 'peppers': 4321, 'peppy': 4322, 'pepsi': 4323, 'pepto-bismol': 4324, 'per': 4325, 'percent': 4326, 'perch': 4327, 'perfect': 4328, 'perfected': 4329, 'perfume': 4330, 'perfunctory': 4331, 'perhaps': 4332, 'period': 4333, 'perking': 4334, 'permanent': 4335, 'permitting': 4336, 'pernt': 4337, 'perplexed': 4338, 'persia': 4339, 'person': 4340, 'personal': 4341, 'perverse': 4342, 'perverted': 4343, 'perón': 4344, 'peter': 4345, 'peter_buck:': 4346, 'pets': 4347, 'pews': 4348, 'pfft': 4349, 'pharmaceutical': 4350, 'phase': 4351, 'phasing': 4352, 'philip': 4353, 'philosophic': 4354, 'philosophical': 4355, 'phlegm': 4356, 'phone': 4357, \"phone's\": 4358, 'phony': 4359, 'photo': 4360, 'photographer': 4361, 'photos': 4362, 'phrase': 4363, 'physical': 4364, 'pian-ee': 4365, 'piano': 4366, 'pick': 4367, 'picked': 4368, \"pickin'\": 4369, 'pickle': 4370, 'pickled': 4371, 'pickles': 4372, 'picky': 4373, 'picnic': 4374, 'picture': 4375, 'pictured': 4376, 'piece': 4377, 'pig': 4378, 'pigs': 4379, 'pigtown': 4380, 'pile': 4381, 'piling': 4382, 'pillows': 4383, 'pills': 4384, 'pilsner-pusher': 4385, 'pin': 4386, 'pinball': 4387, 'pinchpenny': 4388, 'pine': 4389, 'ping-pong': 4390, 'pink': 4391, 'pint': 4392, 'pip': 4393, 'pipe': 4394, 'pipes': 4395, 'pirate': 4396, 'pissed': 4397, 'pit': 4398, 'pitch': 4399, 'pitcher': 4400, 'pity': 4401, 'pizza': 4402, 'pizzicato': 4403, 'place': 4404, 'placed': 4405, 'placing': 4406, 'plain': 4407, 'plaintive': 4408, 'plan': 4409, 'plane': 4410, 'planet': 4411, \"plank's\": 4412, 'planned': 4413, 'planning': 4414, 'plans': 4415, 'plant': 4416, 'planted': 4417, 'plants': 4418, \"plaster's\": 4419, 'plastered': 4420, 'plastic': 4421, 'platinum': 4422, 'play': 4423, 'play/': 4424, 'played': 4425, 'players': 4426, 'playful': 4427, 'playhouse': 4428, \"playin'\": 4429, 'playing': 4430, 'playoff': 4431, 'pleading': 4432, 'pleasant': 4433, 'please': 4434, 'please/': 4435, 'pleased': 4436, 'pleasure': 4437, 'pledge': 4438, 'plenty': 4439, 'plotz': 4440, 'plow': 4441, 'plucked': 4442, 'plug': 4443, 'plum': 4444, 'plums': 4445, 'plus': 4446, 'plywood': 4447, 'pocket': 4448, 'pockets': 4449, 'poem': 4450, 'poet': 4451, 'poetics': 4452, 'poetry': 4453, 'poin-dexterous': 4454, 'point': 4455, 'pointed': 4456, 'pointedly': 4457, 'pointing': 4458, 'pointless': 4459, 'points': 4460, 'pointy': 4461, 'poison': 4462, \"poisonin'\": 4463, 'poisoning': 4464, 'poke': 4465, 'poker': 4466, 'poking': 4467, 'polenta': 4468, 'police': 4469, 'polish': 4470, 'polishing': 4471, 'polite': 4472, 'politician': 4473, 'politicians': 4474, 'politics': 4475, 'polls': 4476, 'polygon': 4477, 'pond': 4478, 'pontiff': 4479, 'pool': 4480, 'poor': 4481, 'poorer': 4482, 'pop': 4483, 'pope': 4484, \"pope's\": 4485, 'poplar': 4486, 'popped': 4487, 'popping': 4488, 'popular': 4489, 'population': 4490, 'porn': 4491, 'portentous': 4492, 'portfolium': 4493, 'portuguese': 4494, 'position': 4495, 'positive': 4496, 'possessions': 4497, 'possibly': 4498, 'post-suicide': 4499, 'poster': 4500, 'potato': 4501, 'potatoes': 4502, 'poulet': 4503, \"poundin'\": 4504, 'pour': 4505, 'poured': 4506, 'pouring': 4507, 'power': 4508, 'powered': 4509, 'powerful': 4510, 'powers': 4511, 'practically': 4512, 'practice': 4513, 'praise': 4514, 'prank': 4515, 'prayer': 4516, 'prayers': 4517, 'pre-columbian': 4518, 'pre-game': 4519, 'pre-recorded': 4520, 'precious': 4521, 'predecessor': 4522, 'predictable': 4523, 'prefer': 4524, 'pregnancy': 4525, 'prejudice': 4526, 'premiering': 4527, 'premise': 4528, 'prep': 4529, 'preparation': 4530, 'prepared': 4531, 'present': 4532, 'presentable': 4533, 'presently': 4534, 'presents': 4535, 'presided': 4536, 'president': 4537, \"president's\": 4538, 'presidential': 4539, 'presidents': 4540, 'press': 4541, 'presses': 4542, 'pressure': 4543, \"pressure's\": 4544, 'presto:': 4545, 'presumir': 4546, 'pretend': 4547, 'pretending': 4548, 'pretends': 4549, 'pretentious_rat_lover:': 4550, 'prettied': 4551, 'prettiest': 4552, 'pretty': 4553, 'pretzel': 4554, 'pretzels': 4555, 'price': 4556, 'priceless': 4557, 'prices': 4558, 'pride': 4559, 'pridesters:': 4560, 'priest': 4561, 'prime': 4562, 'prince': 4563, 'princess': 4564, 'princesses': 4565, 'principal': 4566, 'principles': 4567, 'prints': 4568, 'priority': 4569, 'prison': 4570, 'privacy': 4571, 'private': 4572, 'prize': 4573, 'prizefighters': 4574, 'pro': 4575, 'probably': 4576, 'problem': 4577, 'problemo': 4578, 'problems': 4579, 'procedure': 4580, 'process': 4581, 'produce': 4582, 'producers': 4583, 'product': 4584, 'products': 4585, 'professional': 4586, 'professor': 4587, \"professor's\": 4588, 'professor_jonathan_frink:': 4589, 'profiling': 4590, 'program': 4591, 'progress': 4592, 'prohibit': 4593, 'project': 4594, 'prolonged': 4595, 'promise': 4596, 'promised': 4597, 'promotion': 4598, 'prompting': 4599, 'pronounce': 4600, 'pronto': 4601, 'proof': 4602, 'proper': 4603, 'propose': 4604, 'proposing': 4605, 'proposition': 4606, 'protecting': 4607, 'protestantism': 4608, 'protesters': 4609, 'protesting': 4610, 'proud': 4611, 'proudly': 4612, 'prove': 4613, 'proves': 4614, 'provide': 4615, 'psst': 4616, 'pub': 4617, 'public': 4618, 'publish': 4619, 'published': 4620, 'publishers': 4621, 'pudgy': 4622, 'puff': 4623, 'puffy': 4624, 'pugilist': 4625, 'puke': 4626, 'puke-holes': 4627, 'puke-pail': 4628, 'pulitzer': 4629, 'pull': 4630, 'pulled': 4631, \"pullin'\": 4632, 'pulling': 4633, 'pulls': 4634, 'pumping': 4635, 'punch': 4636, 'punches': 4637, 'punching': 4638, 'punishment': 4639, 'punk': 4640, 'punkin': 4641, 'pure': 4642, 'purse': 4643, 'pursue': 4644, 'purveyor': 4645, 'pus-bucket': 4646, 'push': 4647, 'pushes': 4648, 'pushing': 4649, 'pusillanimous': 4650, 'pussycat': 4651, 'put': 4652, 'puts': 4653, \"puttin'\": 4654, 'putting': 4655, 'putty': 4656, 'puzzle': 4657, 'puzzled': 4658, 'pyramid': 4659, 'quadruple-sec': 4660, 'quality': 4661, 'quarry': 4662, 'quarter': 4663, 'quarterback': 4664, 'quebec': 4665, 'queen': 4666, \"queen's\": 4667, 'queer': 4668, 'quero': 4669, 'question': 4670, 'quick': 4671, 'quick-like': 4672, 'quickly': 4673, 'quiet': 4674, 'quietly': 4675, 'quimby': 4676, 'quimby_#2:': 4677, 'quimbys:': 4678, 'quit': 4679, 'quitcher': 4680, 'quite': 4681, 'quotes': 4682, 'r': 4683, 'rabbits': 4684, 'raccoons': 4685, 'race': 4686, 'racially-diverse': 4687, 'radiation': 4688, 'radiator': 4689, 'radical': 4690, 'radio': 4691, 'radioactive': 4692, 'radishes': 4693, 'rafter': 4694, 'rafters': 4695, 'rag': 4696, 'rage': 4697, 'raggie': 4698, \"raggin'\": 4699, \"ragin'\": 4700, 'raging': 4701, 'ragtime': 4702, 'railroad': 4703, 'railroads': 4704, 'rain': 4705, 'rainbows': 4706, 'rainforest': 4707, 'rainier': 4708, 'rainier_wolfcastle:': 4709, 'raining': 4710, 'raise': 4711, 'raises': 4712, 'raising': 4713, 'raking': 4714, 'ralph': 4715, 'ralph_wiggum:': 4716, 'ralphie': 4717, 'ram': 4718, 'ran': 4719, 'rancid': 4720, 'random': 4721, 'rap': 4722, 'rapidly': 4723, 'rascals': 4724, 'rash': 4725, 'rasputin': 4726, \"rasputin's\": 4727, 'rat': 4728, 'rat-like': 4729, 'rather': 4730, 'ratio': 4731, 'rationalizing': 4732, 'rats': 4733, 'ratted': 4734, 're-al': 4735, 're:': 4736, 'reach': 4737, 'reached': 4738, 'reaches': 4739, 'reaching': 4740, 'reaction': 4741, 'reactions': 4742, 'read': 4743, 'read:': 4744, 'reader': 4745, \"readin'\": 4746, 'reading': 4747, 'reading:': 4748, 'reads': 4749, 'ready': 4750, 'real': 4751, 'reality': 4752, 'realize': 4753, 'realized': 4754, 'realizing': 4755, 'really': 4756, 'reason': 4757, 'reasonable': 4758, 'reasons': 4759, 'rebuilt': 4760, 'rebuttal': 4761, 'recall': 4762, 'recap:': 4763, 'recent': 4764, 'recently': 4765, 'recipe': 4766, 'reciting': 4767, 'reckless': 4768, 'recommend': 4769, 'reconsidering': 4770, 'record': 4771, 'recorded': 4772, 'recorder': 4773, 'recreate': 4774, 'recruiter': 4775, 'rector': 4776, 'red': 4777, 'reed': 4778, 'reentering': 4779, 'ref': 4780, 'referee': 4781, 'refiero': 4782, 'refill': 4783, 'refinanced': 4784, 'reflected': 4785, 'refresh': 4786, 'refreshing': 4787, 'refreshingness': 4788, 'refreshment': 4789, 'refund': 4790, 'register': 4791, 'regret': 4792, 'regretful': 4793, 'regretted': 4794, 'regulars': 4795, 'regulations': 4796, 'rekindle': 4797, 'relationship': 4798, 'relative': 4799, 'relax': 4800, 'relaxed': 4801, 'relaxing': 4802, 'release': 4803, 'releases': 4804, 'releasing': 4805, 'reliable': 4806, 'relieved': 4807, 'religion': 4808, 'religious': 4809, 'reluctant': 4810, 'reluctantly': 4811, 'rem': 4812, 'remain': 4813, 'remaining': 4814, 'remains': 4815, 'remember': 4816, 'remembered': 4817, 'remembering': 4818, 'remembers': 4819, 'reminded': 4820, 'reminds': 4821, 'remodel': 4822, 'remorseful': 4823, 'remote': 4824, 'renders': 4825, 'renee': 4826, \"renee's\": 4827, 'renee:': 4828, 'renew': 4829, \"renovatin'\": 4830, 'renovations': 4831, 'rent': 4832, 'rented': 4833, \"rentin'\": 4834, 'reopen': 4835, 'repairman': 4836, 'repay': 4837, 'repeated': 4838, 'repeating': 4839, 'replace': 4840, 'replaced': 4841, 'reporter': 4842, 'reporter:': 4843, 'represent': 4844, 'represents': 4845, 'repressed': 4846, 'reptile': 4847, 'researching': 4848, 'resenting': 4849, 'reserve': 4850, 'reserved': 4851, 'resigned': 4852, 'resist': 4853, 'resolution': 4854, 'respect': 4855, 'rest': 4856, 'restaurant': 4857, 'restaurants': 4858, 'restless': 4859, 'restroom': 4860, 'result': 4861, 'results': 4862, 'retain': 4863, 'retired': 4864, 'return': 4865, 'reunion': 4866, 'rev': 4867, 'revenge': 4868, 'reviews': 4869, 'reward': 4870, 'rewound': 4871, 'reynolds': 4872, 'rhode': 4873, 'rhyme': 4874, 'ribbon': 4875, 'rice': 4876, 'rich': 4877, 'richard': 4878, 'richard:': 4879, 'richer': 4880, 'rickles': 4881, 'rid': 4882, 'ride': 4883, 'ridiculous': 4884, \"ridin'\": 4885, 'riding': 4886, 'rife': 4887, 'rig': 4888, 'righ': 4889, 'right': 4890, 'right-handed': 4891, 'rims': 4892, 'ring': 4893, 'ringing': 4894, 'rings': 4895, 'rip': 4896, 'rip-off': 4897, 'ripcord': 4898, 'ripped': 4899, 'ripper': 4900, 'ripping': 4901, 'risqué': 4902, 'rivalry': 4903, 'riveting': 4904, 'roach': 4905, 'road': 4906, 'rob': 4907, 'robbers': 4908, \"robbin'\": 4909, 'robin': 4910, 'robot': 4911, 'rock': 4912, 'rockers': 4913, 'rocks': 4914, 'rods': 4915, 'roll': 4916, 'rolled': 4917, 'roller': 4918, 'rolling': 4919, 'rolls': 4920, 'rom': 4921, 'romance': 4922, 'romantic': 4923, 'rome': 4924, 'ron': 4925, 'ron_howard:': 4926, 'ronstadt': 4927, 'roof': 4928, 'rookie': 4929, 'room': 4930, 'roomy': 4931, 'root': 4932, 'rope': 4933, 'roses': 4934, 'rosey': 4935, 'rotch': 4936, 'rotten': 4937, 'rough': 4938, 'round': 4939, \"round's\": 4940, 'rounds': 4941, 'routine': 4942, 'row': 4943, 'roy': 4944, 'royal': 4945, 'roz': 4946, 'roz:': 4947, 'rub': 4948, 'rub-a-dub': 4949, 'rubbed': 4950, 'rubs': 4951, 'ruby-studded': 4952, 'rude': 4953, 'rueful': 4954, 'rug': 4955, 'rugged': 4956, 'ruin': 4957, 'ruined': 4958, 'ruint': 4959, 'rule': 4960, 'ruled': 4961, 'rules': 4962, 'rumaki': 4963, 'rummy': 4964, 'rumor': 4965, 'rump': 4966, 'run': 4967, 'runaway': 4968, 'runners': 4969, 'running': 4970, 'runs': 4971, 'runt': 4972, 'rupert_murdoch:': 4973, 'rush': 4974, \"rustlin'\": 4975, 'rusty': 4976, 'rutabaga': 4977, 'ruuuule': 4978, 's': 4979, \"s'cuse\": 4980, \"s'okay\": 4981, \"s'pose\": 4982, 's-a-u-r-c-e': 4983, 'sabermetrics': 4984, 'sacajawea': 4985, 'sack': 4986, 'sacrifice': 4987, 'sacrilicious': 4988, 'sad': 4989, 'sadder': 4990, 'sadistic_barfly:': 4991, 'sadly': 4992, 'safe': 4993, 'safecracker': 4994, 'safely': 4995, 'safer': 4996, 'safety': 4997, 'saga': 4998, 'sagacity': 4999, 'sagely': 5000, 'saget': 5001, 'said': 5002, 'said:': 5003, 'sail': 5004, 'saint': 5005, 'salad': 5006, 'salary': 5007, 'sale': 5008, 'sales': 5009, 'salt': 5010, 'salvador': 5011, 'salvation': 5012, 'sam:': 5013, 'same': 5014, 'sampler': 5015, 'samples': 5016, 'sanctuary': 5017, 'sandwich': 5018, 'sang': 5019, 'sangre': 5020, 'sanitary': 5021, 'sanitation': 5022, 'santa': 5023, \"santa's\": 5024, 'santeria': 5025, 'sap': 5026, 'sarcastic': 5027, 'sass': 5028, 'sassy': 5029, 'sat': 5030, \"sat's\": 5031, 'sat-is-fac-tion': 5032, 'satisfaction': 5033, 'satisfied': 5034, 'saturday': 5035, 'sauce': 5036, 'saucy': 5037, 'sausage': 5038, 'savagely': 5039, 'save': 5040, 'saved': 5041, 'saving': 5042, 'savings': 5043, 'savvy': 5044, 'saw': 5045, 'say': 5046, \"sayin'\": 5047, 'saying': 5048, 'says': 5049, 'scam': 5050, \"scammin'\": 5051, 'scanning': 5052, 'scare': 5053, 'scared': 5054, 'scarf': 5055, 'scary': 5056, 'scatter': 5057, 'scene': 5058, 'scent': 5059, 'schabadoo': 5060, 'schedule': 5061, 'schemes': 5062, 'schizophrenia': 5063, 'schmoe': 5064, 'schnapps': 5065, 'school': 5066, \"school's\": 5067, 'schorr': 5068, 'science': 5069, 'scientific': 5070, 'scientists': 5071, 'scoffs': 5072, 'scooter': 5073, 'score': 5074, 'scores': 5075, 'scornful': 5076, 'scornfully': 5077, 'scotch': 5078, 'scout': 5079, 'scram': 5080, 'scrape': 5081, 'scratcher': 5082, 'scratching': 5083, 'scream': 5084, 'screams': 5085, 'screw': 5086, 'screws': 5087, 'script': 5088, 'scrubbing': 5089, 'scruffy_blogger:': 5090, 'scrutinizes': 5091, 'scrutinizing': 5092, 'scully': 5093, 'scum': 5094, 'scum-sucking': 5095, 'sea': 5096, 'sealed': 5097, 'seamstress': 5098, 'searching': 5099, 'seas': 5100, 'season': 5101, 'seat': 5102, 'seats': 5103, 'sec': 5104, 'sec_agent_#1:': 5105, 'sec_agent_#2:': 5106, 'second': 5107, 'seconds': 5108, 'secret': 5109, \"secret's\": 5110, 'secrets': 5111, 'sector': 5112, 'securities': 5113, 'sedaris': 5114, 'seductive': 5115, 'see': 5116, \"seein'\": 5117, 'seeing': 5118, 'seek': 5119, 'seem': 5120, 'seemed': 5121, 'seems': 5122, 'seen': 5123, 'sees': 5124, 'sees/': 5125, 'seething': 5126, 'selection': 5127, 'selective': 5128, 'self': 5129, 'self-centered': 5130, 'self-esteem': 5131, 'self-made': 5132, 'self-satisfied': 5133, 'selfish': 5134, 'sell': 5135, 'selling': 5136, 'sells': 5137, 'selma': 5138, 'selma_bouvier:': 5139, 'semi-imported': 5140, 'seminar': 5141, 'sen': 5142, 'senator': 5143, 'senators': 5144, 'senators:': 5145, 'send': 5146, 'sending': 5147, 'sense': 5148, 'sensible': 5149, 'sensitivity': 5150, 'sent': 5151, 'sentimonies': 5152, 'separator': 5153, 'sequel': 5154, 'series': 5155, 'serious': 5156, 'seriously': 5157, 'serum': 5158, 'serve': 5159, 'served': 5160, 'service': 5161, 'sesame': 5162, 'set': 5163, 'sets': 5164, 'settled': 5165, 'settlement': 5166, 'settles': 5167, 'seven': 5168, 'severe': 5169, 'sex': 5170, 'sexton': 5171, 'sexual': 5172, 'sexy': 5173, 'seymour': 5174, 'seymour_skinner:': 5175, 'shack': 5176, 'shades': 5177, 'shag': 5178, 'shaggy': 5179, 'shaken': 5180, 'shaker': 5181, 'shakes': 5182, 'shakespeare': 5183, 'shaking': 5184, 'shaky': 5185, 'shall': 5186, 'shame': 5187, \"shan't\": 5188, 'shape': 5189, 'shard': 5190, 'share': 5191, 'shareholder': 5192, 'shares': 5193, 'sharing': 5194, 'sharity': 5195, 'shark': 5196, 'sharps': 5197, 'shaved': 5198, 'she': 5199, \"she'd\": 5200, \"she'll\": 5201, \"she's\": 5202, 'she-pu': 5203, 'sheepish': 5204, 'sheet': 5205, 'sheets': 5206, 'shelbyville': 5207, 'shelf': 5208, 'shells': 5209, 'sheriff': 5210, 'shesh': 5211, 'shhh': 5212, 'shifty': 5213, 'shill': 5214, 'shindig': 5215, 'shipment': 5216, 'shirt': 5217, 'shock': 5218, 'shocked': 5219, 'shoe': 5220, 'shoes': 5221, 'shoo': 5222, 'shoot': 5223, \"shootin'\": 5224, 'shooting': 5225, 'shoots': 5226, 'shop': 5227, 'shopping': 5228, 'shores': 5229, 'short': 5230, 'short_man:': 5231, 'shortcomings': 5232, 'shorter': 5233, 'shot': 5234, 'shotgun': 5235, 'should': 5236, \"should've\": 5237, 'shoulda': 5238, 'shoulder': 5239, 'shoulders': 5240, \"shouldn't\": 5241, 'shout': 5242, 'shove': 5243, 'show': 5244, \"show's\": 5245, 'show-off': 5246, 'showed': 5247, 'shower': 5248, 'showered': 5249, \"showin'\": 5250, 'showing': 5251, 'shows': 5252, 'shred': 5253, 'shreda': 5254, 'shrieks': 5255, 'shriners': 5256, 'shrugging': 5257, 'shrugs': 5258, 'shtick': 5259, 'shush': 5260, 'shut': 5261, 'shuts': 5262, 'shutting': 5263, 'shutup': 5264, 'shyly': 5265, 'si-lent': 5266, 'sick': 5267, 'sickened': 5268, 'sickens': 5269, 'sickly': 5270, 'side': 5271, 'side:': 5272, 'sidekick': 5273, 'sidelines': 5274, 'sideshow': 5275, 'sideshow_bob:': 5276, 'sideshow_mel:': 5277, 'sieben-gruben': 5278, 'sigh': 5279, 'sighs': 5280, 'sight': 5281, 'sight-unseen': 5282, 'sign': 5283, 'signal': 5284, 'signed': 5285, 'silence': 5286, 'silent': 5287, 'simon': 5288, 'simp-sonnnn': 5289, 'simple': 5290, 'simplest': 5291, 'simpson': 5292, 'simpsons': 5293, 'simultaneous': 5294, 'since': 5295, 'sincere': 5296, 'sincerely': 5297, 'sing': 5298, 'sing-song': 5299, 'singer': 5300, 'singers:': 5301, \"singin'\": 5302, 'singing': 5303, 'singing/pushing': 5304, 'single': 5305, 'single-mindedness': 5306, 'sings': 5307, 'sinister': 5308, 'sink': 5309, 'sinkhole': 5310, \"sippin'\": 5311, 'sips': 5312, 'sir': 5313, 'sissy': 5314, 'sister': 5315, 'sister-in-law': 5316, 'sisters': 5317, 'sistine': 5318, 'sit': 5319, 'sitar': 5320, 'sitcom': 5321, 'site': 5322, 'sits': 5323, \"sittin'\": 5324, 'sitting': 5325, 'situation': 5326, 'six': 5327, 'six-barrel': 5328, 'sixteen': 5329, 'sixty': 5330, 'sixty-five': 5331, 'sixty-nine': 5332, 'size': 5333, 'sizes': 5334, 'skeptical': 5335, 'sketch': 5336, 'sketching': 5337, 'skills': 5338, 'skin': 5339, 'skinheads': 5340, 'skinner': 5341, 'skinny': 5342, 'skins': 5343, 'skirt': 5344, 'skoal': 5345, 'skunk': 5346, 'sky': 5347, 'skydiving': 5348, 'slab': 5349, 'slap': 5350, 'slapped': 5351, 'slaps': 5352, 'slaves': 5353, 'slays': 5354, 'sledge-hammer': 5355, 'sleep': 5356, 'sleeping': 5357, 'sleeps': 5358, 'sleigh-horses': 5359, 'slender': 5360, 'slice': 5361, 'slick': 5362, 'slight': 5363, 'slightly': 5364, 'slim': 5365, 'slip': 5366, 'slipped': 5367, 'slit': 5368, 'slobbo': 5369, 'slobs': 5370, 'sloe': 5371, 'slogan': 5372, 'slop': 5373, 'sloppy': 5374, 'slot': 5375, 'slow': 5376, 'slugger': 5377, 'slurps': 5378, 'slurred': 5379, 'sly': 5380, 'slyly': 5381, \"smackin'\": 5382, 'small': 5383, 'small_boy:': 5384, 'smallest': 5385, 'smart': 5386, 'smell': 5387, 'smelling': 5388, 'smells': 5389, 'smelly': 5390, 'smile': 5391, 'smile:': 5392, 'smiled': 5393, 'smiles': 5394, 'smiling': 5395, 'smithers': 5396, 'smitty:': 5397, 'smoke': 5398, 'smoker': 5399, 'smokes': 5400, \"smokin'\": 5401, \"smokin'_joe_frazier:\": 5402, 'smooth': 5403, 'smoothly': 5404, 'smug': 5405, 'smuggled': 5406, 'smugglers': 5407, 'smurfs': 5408, 'snackie': 5409, 'snail': 5410, 'snake': 5411, 'snake-handler': 5412, 'snake_jailbird:': 5413, 'snap': 5414, \"snappin'\": 5415, 'snapping': 5416, 'snaps': 5417, 'snatch': 5418, 'sneak': 5419, 'sneaky': 5420, 'sneering': 5421, 'sneeze': 5422, 'snide': 5423, 'sniffing': 5424, 'sniffles': 5425, 'sniffs': 5426, 'sniper': 5427, 'snitch': 5428, 'snort': 5429, 'snorts': 5430, 'snotball': 5431, 'snotty': 5432, 'snout': 5433, 'snow': 5434, 'so': 5435, 'so-called': 5436, 'so-ng': 5437, 'soaked': 5438, \"soakin's\": 5439, 'soaking': 5440, 'soap': 5441, 'soaps': 5442, 'sob': 5443, 'sobbing': 5444, 'sober': 5445, 'sobo': 5446, 'sobriety': 5447, 'sobs': 5448, 'social': 5449, 'socialize': 5450, 'society': 5451, 'society_matron:': 5452, 'socratic': 5453, 'sodas': 5454, 'soft': 5455, 'softer': 5456, 'soir': 5457, 'sold': 5458, 'solely': 5459, 'solid': 5460, 'solo': 5461, 'solved': 5462, 'solves': 5463, 'some': 5464, 'somebody': 5465, \"somebody's\": 5466, 'someday': 5467, 'somehow': 5468, 'someone': 5469, \"someone's\": 5470, 'someplace': 5471, \"somethin'\": 5472, \"somethin':\": 5473, \"somethin's\": 5474, 'something': 5475, \"something's\": 5476, 'something:': 5477, 'sometime': 5478, 'sometimes': 5479, 'somewhere': 5480, 'son': 5481, \"son's\": 5482, 'son-of-a': 5483, 'song': 5484, 'soon': 5485, 'sooner': 5486, 'sooo': 5487, 'soot': 5488, 'soothing': 5489, 'sorry': 5490, 'sorts': 5491, 'sotto': 5492, 'soul': 5493, 'soul-crushing': 5494, 'sound': 5495, 'sounded': 5496, \"soundin'\": 5497, 'sounds': 5498, 'soup': 5499, 'souped': 5500, 'sour': 5501, 'source': 5502, 'south': 5503, 'southern': 5504, 'souvenir': 5505, 'space': 5506, 'space-time': 5507, 'spacey': 5508, \"spaghetti-o's\": 5509, 'spamming': 5510, 'spanish': 5511, 'spare': 5512, 'speak': 5513, \"speakin'\": 5514, 'speaking': 5515, 'special': 5516, 'specialists': 5517, 'specializes': 5518, 'specials': 5519, 'species': 5520, 'specific': 5521, 'specified': 5522, 'spectacular': 5523, 'speech': 5524, 'speed': 5525, 'spellbinding': 5526, 'spelling': 5527, 'spend': 5528, 'spender': 5529, 'spending': 5530, 'spent': 5531, 'sperm': 5532, 'spews': 5533, 'spied': 5534, \"spiffin'\": 5535, 'spilled': 5536, 'spine': 5537, 'spinning': 5538, 'spirit': 5539, 'spiritual': 5540, 'spit': 5541, 'spit-backs': 5542, 'spite': 5543, 'spits': 5544, 'spitting': 5545, 'splash': 5546, 'splattered': 5547, 'splendid': 5548, 'spoken': 5549, 'sponge': 5550, 'sponge:': 5551, 'sponsor': 5552, 'sponsoring': 5553, 'spooky': 5554, 'spoon': 5555, 'sport': 5556, 'sports': 5557, 'sports_announcer:': 5558, 'spot': 5559, 'spotting': 5560, 'spouses': 5561, 'sprawl': 5562, 'spread': 5563, 'spreads': 5564, 'springfield': 5565, \"springfield's\": 5566, 'spy': 5567, \"spyin'\": 5568, 'squabbled': 5569, 'squad': 5570, 'squadron': 5571, 'square': 5572, 'squashing': 5573, 'squeal': 5574, 'squeals': 5575, 'squeeze': 5576, 'squeezed': 5577, \"squeezin'\": 5578, 'squirrel': 5579, 'squirrels': 5580, 'squishee': 5581, 'st': 5582, 'stab': 5583, \"stabbin'\": 5584, 'stacey': 5585, 'stadium': 5586, 'stage': 5587, 'stagehand:': 5588, 'stagey': 5589, 'stagy': 5590, 'stained-glass': 5591, 'stairs': 5592, 'stalin': 5593, 'stalking': 5594, \"stallin'\": 5595, 'stalwart': 5596, 'stamp': 5597, 'stamps': 5598, 'stan': 5599, 'stand': 5600, 'standards': 5601, 'standing': 5602, 'stands': 5603, 'star': 5604, 'stares': 5605, 'starla': 5606, \"starla's\": 5607, 'starla:': 5608, 'starlets': 5609, 'stars': 5610, 'start': 5611, 'started': 5612, 'starters': 5613, \"startin'\": 5614, 'starting': 5615, 'startled': 5616, 'starts': 5617, 'startup': 5618, 'starve': 5619, 'starving': 5620, 'state': 5621, 'states': 5622, 'statesmanlike': 5623, 'station': 5624, 'stationery': 5625, 'statistician': 5626, 'stats': 5627, 'statue': 5628, 'statues': 5629, 'stay': 5630, 'stay-puft': 5631, 'stayed': 5632, \"stayin'\": 5633, 'staying': 5634, 'stays': 5635, 'steak': 5636, 'steal': 5637, \"stealin'\": 5638, 'stealings': 5639, 'steam': 5640, 'steamed': 5641, 'steaming': 5642, 'steampunk': 5643, 'steel': 5644, 'steely-eyed': 5645, 'stein-stengel-': 5646, 'steinbrenner': 5647, 'stengel': 5648, 'step': 5649, 'stepped': 5650, 'stern': 5651, 'sternly': 5652, 'stevie': 5653, 'stewart': 5654, 'stick': 5655, 'sticker': 5656, 'stickers': 5657, 'sticking': 5658, 'sticking-place': 5659, 'stiffening': 5660, 'still': 5661, 'stillwater:': 5662, 'stinger': 5663, 'stingy': 5664, 'stink': 5665, \"stinkin'\": 5666, 'stinks': 5667, 'stinky': 5668, 'stir': 5669, 'stirrers': 5670, 'stirring': 5671, 'stock': 5672, 'stocking': 5673, 'stole': 5674, 'stolen': 5675, 'stomach': 5676, 'stones': 5677, 'stonewall': 5678, 'stood': 5679, 'stooges': 5680, 'stool': 5681, 'stools': 5682, 'stop': 5683, 'stopped': 5684, 'stops': 5685, 'store': 5686, 'store-bought': 5687, 'stored': 5688, 'stores': 5689, 'stories': 5690, 'storms': 5691, 'story': 5692, 'straight': 5693, 'straighten': 5694, 'strain': 5695, 'straining': 5696, 'strains': 5697, 'stranger:': 5698, 'strangles': 5699, 'strap': 5700, 'strategizing': 5701, 'strategy': 5702, 'strawberry': 5703, 'street': 5704, 'streetcorner': 5705, 'streetlights': 5706, 'stretch': 5707, 'stretches': 5708, 'strictly': 5709, 'string': 5710, 'stripe': 5711, 'stripes': 5712, 'strips': 5713, 'strokkur': 5714, 'strolled': 5715, 'strong': 5716, 'strongly': 5717, 'struggling': 5718, 'stu': 5719, 'stuck': 5720, 'student': 5721, 'studied': 5722, 'studio': 5723, 'stuff': 5724, 'stumble': 5725, 'stunned': 5726, 'stupid': 5727, 'stupidest': 5728, 'stupidly': 5729, 'sturdy': 5730, 'suave': 5731, 'sub-monkeys': 5732, 'subject': 5733, 'subscriptions': 5734, 'suburban': 5735, 'successful': 5736, 'such': 5737, 'suck': 5738, 'sucked': 5739, 'sucker': 5740, 'sucking': 5741, 'sucks': 5742, 'sudden': 5743, 'suddenly': 5744, 'sudoku': 5745, 'suds': 5746, 'sue': 5747, 'sued': 5748, 'suffering': 5749, 'sugar': 5750, 'sugar-free': 5751, 'sugar-me-do': 5752, 'suicide': 5753, 'suing': 5754, 'suit': 5755, 'suits': 5756, 'sumatran': 5757, 'summer': 5758, \"summer's\": 5759, 'sun': 5760, 'sunday': 5761, 'sunglasses': 5762, 'sunk': 5763, 'sunny': 5764, 'super': 5765, 'super-genius': 5766, 'super-nice': 5767, 'super-tough': 5768, 'superdad': 5769, 'superhero': 5770, 'superior': 5771, 'supermarket': 5772, 'supermodel': 5773, 'superpower': 5774, 'supervising': 5775, 'supply': 5776, 'supplying': 5777, 'support': 5778, 'supports': 5779, 'suppose': 5780, 'supposed': 5781, 'supreme': 5782, 'sure': 5783, 'surgeonnn': 5784, 'surgery': 5785, 'surprise': 5786, 'surprised': 5787, 'surprised/thrilled': 5788, 'surprising': 5789, 'suru': 5790, 'survive': 5791, 'susie-q': 5792, 'suspect': 5793, 'suspended': 5794, 'suspenders': 5795, 'suspicious': 5796, 'suspiciously': 5797, 'sustain': 5798, 'swallowed': 5799, 'swamp': 5800, 'swan': 5801, 'swatch': 5802, 'swe-ee-ee-ee-eet': 5803, 'swear': 5804, 'sweat': 5805, 'sweater': 5806, 'sweaty': 5807, 'sweden': 5808, 'sweet': 5809, 'sweeter': 5810, 'sweetest': 5811, 'sweetheart': 5812, 'sweetie': 5813, 'sweetly': 5814, 'swell': 5815, 'swelling': 5816, 'swig': 5817, 'swigmore': 5818, 'swill': 5819, 'swimmers': 5820, 'swimming': 5821, 'swine': 5822, 'swings': 5823, \"swishifyin'\": 5824, 'swishkabobs': 5825, 'switch': 5826, 'switched': 5827, 'swooning': 5828, 'sympathetic': 5829, 'sympathizer': 5830, 'sympathy': 5831, 'symphonies': 5832, 'syndicate': 5833, 'synthesize': 5834, 'syrup': 5835, 'system': 5836, 'szyslak': 5837, 't-shirt': 5838, 'tab': 5839, \"tab's\": 5840, 'table': 5841, \"table's\": 5842, 'tablecloth': 5843, 'tabooger': 5844, 'tabs': 5845, 'tactful': 5846, 'tail': 5847, 'take': 5848, 'take-back': 5849, 'takeaway': 5850, 'taken': 5851, 'takes': 5852, \"takin'\": 5853, 'taking': 5854, 'tale': 5855, 'talk': 5856, 'talk-sings': 5857, 'talkative': 5858, 'talked': 5859, 'talkers': 5860, \"talkin'\": 5861, 'talking': 5862, 'tall': 5863, 'tang': 5864, 'tank': 5865, 'tanked-up': 5866, 'tanking': 5867, 'tap': 5868, \"tap-pullin'\": 5869, 'tape': 5870, 'tapered': 5871, 'tapestry': 5872, 'tapping': 5873, 'taps': 5874, 'tar-paper': 5875, 'tasimeter': 5876, 'taste': 5877, 'tastes': 5878, 'tasty': 5879, 'tatum': 5880, \"tatum'll\": 5881, 'taught': 5882, 'taunting': 5883, 'tavern': 5884, 'tax': 5885, 'taxes': 5886, 'taxi': 5887, 'taylor': 5888, 'teach': 5889, 'teacher': 5890, 'teacup': 5891, 'team': 5892, \"team's\": 5893, 'teams': 5894, 'tear': 5895, 'tearfully': 5896, 'tears': 5897, 'tease': 5898, 'technical': 5899, 'teddy': 5900, 'tee': 5901, 'teen': 5902, 'teenage': 5903, 'teenage_barney:': 5904, 'teenage_bart:': 5905, 'teenage_homer:': 5906, 'teeth': 5907, 'telegraph': 5908, 'telemarketing': 5909, 'telephone': 5910, 'television': 5911, 'tell': 5912, \"tellin'\": 5913, 'telling': 5914, 'tells': 5915, 'temp': 5916, 'temper': 5917, 'temple': 5918, 'temples': 5919, 'temporarily': 5920, 'tempting': 5921, 'ten': 5922, 'tender': 5923, 'tenor:': 5924, 'tense': 5925, 'tentative': 5926, 'tenuous': 5927, 'teriyaki': 5928, 'term': 5929, 'terminated': 5930, 'terrace': 5931, 'terrible': 5932, 'terrific': 5933, 'terrified': 5934, 'terrifying': 5935, 'territorial': 5936, 'terror': 5937, 'terrorizing': 5938, 'test': 5939, 'test-': 5940, 'test-lady': 5941, 'tester': 5942, \"tester's\": 5943, 'testing': 5944, 'texan': 5945, 'texas': 5946, 'text': 5947, 'th': 5948, 'th-th-th-the': 5949, 'tha': 5950, 'than': 5951, 'thank': 5952, 'thankful': 5953, 'thanking': 5954, 'thanks': 5955, 'thanksgiving': 5956, 'that': 5957, \"that'd\": 5958, \"that'll\": 5959, \"that's\": 5960, 'thawing': 5961, 'the': 5962, 'the_edge:': 5963, 'the_rich_texan:': 5964, 'theatah': 5965, 'theater': 5966, 'theatrical': 5967, 'their': 5968, 'them': 5969, 'theme': 5970, 'themselves': 5971, 'then': 5972, 'then:': 5973, 'theory': 5974, 'therapist': 5975, 'therapy': 5976, 'there': 5977, \"there's\": 5978, 'therefore': 5979, 'thesaurus': 5980, 'these': 5981, 'they': 5982, \"they'd\": 5983, \"they'll\": 5984, \"they're\": 5985, \"they've\": 5986, 'thighs': 5987, 'thing': 5988, \"thing's\": 5989, 'thing:': 5990, 'things': 5991, 'think': 5992, \"thinkin'\": 5993, 'thinking': 5994, 'thinks': 5995, 'third': 5996, 'thirsty': 5997, 'thirteen': 5998, 'thirty': 5999, 'thirty-five': 6000, 'thirty-nine': 6001, 'thirty-thousand': 6002, 'thirty-three': 6003, 'this': 6004, \"this'll\": 6005, 'this:': 6006, 'thnord': 6007, 'thomas': 6008, 'thorn': 6009, 'thorough': 6010, 'those': 6011, 'though': 6012, 'though:': 6013, 'thought': 6014, 'thought_bubble_homer:': 6015, 'thought_bubble_lenny:': 6016, 'thoughtful': 6017, 'thoughtfully': 6018, 'thoughtless': 6019, 'thoughts': 6020, 'thousand': 6021, 'thousand-year': 6022, 'thousands': 6023, 'threatening': 6024, 'three': 6025, 'three-man': 6026, 'threw': 6027, 'thrilled': 6028, 'throat': 6029, 'throats': 6030, 'through': 6031, 'throw': 6032, 'throwing': 6033, 'thrown': 6034, 'throws': 6035, 'thru': 6036, 'thrust': 6037, 'thumb': 6038, 'thunder': 6039, 'tick': 6040, 'ticket': 6041, 'tickets': 6042, 'ticks': 6043, 'tidy': 6044, 'tie': 6045, 'tied': 6046, 'tiger': 6047, 'tigers': 6048, 'tight': 6049, 'till': 6050, 'timbuk-tee': 6051, 'time': 6052, \"time's\": 6053, 'times': 6054, 'tin': 6055, 'tinkle': 6056, \"tinklin'\": 6057, 'tiny': 6058, 'tip': 6059, 'tips': 6060, 'tipsy': 6061, 'tire': 6062, 'tired': 6063, 'title': 6064, 'title:': 6065, 'to': 6066, 'toasting': 6067, 'tobacky': 6068, 'today': 6069, \"today's\": 6070, 'today/': 6071, 'toe': 6072, 'tofu': 6073, 'together': 6074, 'togetherness': 6075, 'toilet': 6076, 'tokens': 6077, 'told': 6078, 'toledo': 6079, 'tolerable': 6080, 'tolerance': 6081, 'tom': 6082, 'tomahto': 6083, 'tomato': 6084, 'tomatoes': 6085, 'tommy': 6086, 'tomorrow': 6087, \"tomorrow's\": 6088, 'toms': 6089, 'ton': 6090, 'tones': 6091, 'tongue': 6092, 'tonic': 6093, 'tonight': 6094, \"tonight's\": 6095, 'tons': 6096, 'tony': 6097, \"tony's\": 6098, 'too': 6099, 'took': 6100, \"toot's\": 6101, 'tooth': 6102, \"tootin'\": 6103, 'top': 6104, 'torn': 6105, 'tornado': 6106, 'toss': 6107, 'total': 6108, 'totalitarians': 6109, 'totally': 6110, 'touch': 6111, 'touchdown': 6112, 'touched': 6113, 'touches': 6114, 'tough': 6115, 'tourist': 6116, 'tow': 6117, 'tow-joes': 6118, 'tow-talitarian': 6119, 'toward': 6120, 'towed': 6121, 'town': 6122, \"town's\": 6123, 'toxins': 6124, 'toy': 6125, 'toys': 6126, 'tracks': 6127, 'trade': 6128, 'tradition': 6129, 'traditions': 6130, 'traffic': 6131, 'tragedy': 6132, 'trail': 6133, 'train': 6134, 'trainers': 6135, 'training': 6136, 'traitor': 6137, 'traitors': 6138, \"tramp's\": 6139, 'transfer': 6140, 'transmission': 6141, 'transylvania': 6142, 'trapped': 6143, 'trapping': 6144, 'trash': 6145, 'trashed': 6146, 'travel': 6147, 'treasure': 6148, 'treat': 6149, \"treatin'\": 6150, 'treats': 6151, 'tree': 6152, \"tree's\": 6153, 'tree_hoper:': 6154, 'treehouse': 6155, 'trees': 6156, 'tremendous': 6157, 'trench': 6158, 'trenchant': 6159, 'triangle': 6160, 'tribute': 6161, 'trick': 6162, 'tried': 6163, 'tries': 6164, 'trip': 6165, 'triple-sec': 6166, 'triumphantly': 6167, 'trivia': 6168, 'troll': 6169, 'trolls': 6170, 'tropical': 6171, 'trouble': 6172, 'troubles': 6173, 'troy': 6174, 'troy:': 6175, 'troy_mcclure:': 6176, 'truck': 6177, 'truck_driver:': 6178, 'trucks': 6179, 'true': 6180, 'trunk': 6181, 'trust': 6182, 'trusted': 6183, 'trustworthy': 6184, 'truth': 6185, 'try': 6186, \"tryin'\": 6187, 'trying': 6188, 'tsk': 6189, 'tsking': 6190, 'tubman': 6191, 'tuborg': 6192, 'tummies': 6193, 'tuna': 6194, 'tune': 6195, 'turkey': 6196, 'turlet': 6197, 'turn': 6198, 'turned': 6199, 'turning': 6200, 'turns': 6201, 'tv': 6202, \"tv'll\": 6203, \"tv's\": 6204, 'tv-station_announcer:': 6205, 'tv_announcer:': 6206, 'tv_daughter:': 6207, 'tv_father:': 6208, 'tv_husband:': 6209, 'tv_wife:': 6210, 'twelve': 6211, 'twelve-step': 6212, 'twelveball': 6213, 'twentieth': 6214, 'twenty': 6215, 'twenty-five': 6216, 'twenty-four': 6217, 'twenty-nine': 6218, 'twenty-six': 6219, 'twenty-two': 6220, 'twerpy': 6221, 'twice': 6222, 'twin': 6223, 'twins': 6224, 'two': 6225, 'two-drink': 6226, 'two-thirds-empty': 6227, 'tying': 6228, 'type': 6229, 'typed': 6230, 'typing': 6231, 'tyson/secretariat': 6232, 'u': 6233, 'u2:': 6234, 'ugh': 6235, 'uglier': 6236, 'ugliest': 6237, 'ugliness': 6238, 'ugly': 6239, 'uh': 6240, 'uh-huh': 6241, 'uh-oh': 6242, 'uhhhh': 6243, 'ultimate': 6244, 'um': 6245, 'umm': 6246, 'ummmmmmmmm': 6247, 'un-sults': 6248, 'unable': 6249, 'unattended': 6250, 'unattractive': 6251, 'unavailable': 6252, 'unbelievable': 6253, 'unbelievably': 6254, 'uncle': 6255, 'uncomfortable': 6256, 'uncreeped-out': 6257, 'undated': 6258, 'under': 6259, 'underbridge': 6260, 'undermine': 6261, 'underpants': 6262, 'understand': 6263, 'understanding': 6264, 'understood': 6265, 'understood:': 6266, 'underwear': 6267, 'undies': 6268, 'unearth': 6269, 'uneasy': 6270, 'unexplained': 6271, 'unfair': 6272, 'unfamiliar': 6273, 'unforgettable': 6274, 'unfortunately': 6275, 'unfresh': 6276, 'ungrateful': 6277, 'unhappy': 6278, 'unhook': 6279, 'uniforms': 6280, 'uninhibited': 6281, 'unintelligent': 6282, 'unison': 6283, 'united': 6284, 'universe': 6285, 'unjustly': 6286, 'unkempt': 6287, 'unless': 6288, 'unlike': 6289, 'unlocked': 6290, 'unlucky': 6291, 'unrelated': 6292, 'unsafe': 6293, 'unsanitary': 6294, 'unsourced': 6295, 'until': 6296, 'unusual': 6297, 'unusually': 6298, 'up': 6299, 'up-bup-bup': 6300, 'upbeat': 6301, 'updated': 6302, 'upgrade': 6303, 'upn': 6304, 'upon': 6305, 'upset': 6306, 'upsetting': 6307, 'ura': 6308, 'urban': 6309, 'urge': 6310, 'urinal': 6311, 'urine': 6312, 'us': 6313, 'use': 6314, 'used': 6315, 'uses': 6316, \"usin'\": 6317, 'using': 6318, 'usual': 6319, 'usually': 6320, 'utensils': 6321, 'utility': 6322, 'vacation': 6323, 'vacations': 6324, 'vacuum': 6325, \"valentine's\": 6326, 'valley': 6327, 'valuable': 6328, 'value': 6329, 'vampire': 6330, 'vampires': 6331, 'van': 6332, 'vance': 6333, 'vanities': 6334, 'various': 6335, 'vegas': 6336, 'vehicle': 6337, 'vengeance': 6338, 'vengeful': 6339, 'venom': 6340, 'ventriloquism': 6341, 'venture': 6342, 'verdict': 6343, 'vermont': 6344, 'versus': 6345, 'verticality': 6346, 'very': 6347, 'vestigial': 6348, 'veteran': 6349, 'veux': 6350, 'vicious': 6351, 'victim': 6352, 'victorious': 6353, 'victory': 6354, 'video': 6355, 'videotaped': 6356, 'view': 6357, 'vigilante': 6358, 'village': 6359, 'villanova': 6360, 'vin': 6361, 'vincent': 6362, 'violations': 6363, 'violin': 6364, 'virile': 6365, 'virility': 6366, 'virtual': 6367, 'visas': 6368, 'viva': 6369, 'vodka': 6370, 'voice': 6371, 'voice:': 6372, 'voice_on_transmitter:': 6373, 'voicemail': 6374, 'volunteer': 6375, 'vomit': 6376, 'voodoo': 6377, 'vote': 6378, 'voted': 6379, 'voters': 6380, 'voyager': 6381, 'vulgar': 6382, 'vulnerable': 6383, 'w': 6384, 'w-a-3-q-i-zed': 6385, 'wa': 6386, 'wacky': 6387, 'wad': 6388, 'wade_boggs:': 6389, 'wage': 6390, 'wagering': 6391, 'waist': 6392, 'wait': 6393, \"wait'll\": 6394, \"waitin'\": 6395, 'waitress': 6396, 'wake': 6397, 'wakede': 6398, 'waking-up': 6399, 'walk': 6400, 'walked': 6401, 'walking': 6402, 'walks': 6403, 'wall': 6404, 'wallet': 6405, \"wallet's\": 6406, 'wally': 6407, 'wally:': 6408, 'walther': 6409, 'walther_hotenhoffer:': 6410, 'waltz': 6411, 'wang': 6412, 'wangs': 6413, 'wanna': 6414, 'want': 6415, 'wantcha': 6416, 'wanted': 6417, 'wants': 6418, 'war': 6419, 'warily': 6420, 'warm_female_voice:': 6421, 'warmly': 6422, 'warmth': 6423, 'warn': 6424, 'warned': 6425, 'warning': 6426, 'warranty': 6427, 'warren': 6428, 'wars': 6429, 'was': 6430, 'wash': 6431, 'washed': 6432, 'washer': 6433, \"washin'\": 6434, 'washouts': 6435, \"wasn't\": 6436, 'waste': 6437, 'wasted': 6438, 'wasting': 6439, 'watashi': 6440, 'watch': 6441, 'watched': 6442, \"watchin'\": 6443, 'watching': 6444, 'water': 6445, 'watered': 6446, 'watered-down': 6447, 'waterfront': 6448, 'waters': 6449, 'watt': 6450, 'wave': 6451, 'way': 6452, 'way:': 6453, 'waylon': 6454, 'waylon_smithers:': 6455, 'wayne': 6456, 'wayne:': 6457, 'ways': 6458, 'wazoo': 6459, 'we': 6460, \"we'd\": 6461, \"we'll\": 6462, \"we're\": 6463, \"we've\": 6464, 'we-we-we': 6465, 'weak': 6466, 'wealthy': 6467, 'weapon': 6468, 'wear': 6469, \"wearin'\": 6470, 'wearing': 6471, 'wears': 6472, 'weary': 6473, 'weather': 6474, 'website': 6475, 'wedding': 6476, 'wednesday': 6477, 'week': 6478, 'weekend': 6479, 'weekly': 6480, 'weeks': 6481, 'weep': 6482, 'weight': 6483, 'weird': 6484, 'weirded-out': 6485, 'weirder': 6486, 'welcome': 6487, 'well': 6488, 'well-wisher': 6489, 'wells': 6490, 'wenceslas': 6491, 'went': 6492, 'were': 6493, \"weren't\": 6494, 'west': 6495, 'western': 6496, 'wh': 6497, 'wha': 6498, 'whaaa': 6499, 'whaaaa': 6500, 'whaddaya': 6501, 'whaddya': 6502, 'whale': 6503, 'wham': 6504, 'what': 6505, \"what'd\": 6506, \"what'll\": 6507, \"what're\": 6508, \"what's\": 6509, \"what'sa\": 6510, 'what-for': 6511, 'whatcha': 6512, 'whatchacallit': 6513, 'whatchamacallit': 6514, 'whatever': 6515, 'whatsit': 6516, 'whee': 6517, 'wheeeee': 6518, 'wheel': 6519, 'wheels': 6520, 'when': 6521, \"when's\": 6522, 'when-i-get-a-hold-of-you': 6523, 'whenever': 6524, 'where': 6525, \"where'd\": 6526, \"where's\": 6527, 'whether': 6528, 'which': 6529, 'while': 6530, 'whim': 6531, 'whining': 6532, 'whiny': 6533, 'whip': 6534, 'whirlybird': 6535, 'whisper': 6536, 'whispered': 6537, 'whispers': 6538, 'whistles': 6539, 'whistling': 6540, 'white': 6541, 'white_rabbit:': 6542, 'who': 6543, \"who'da\": 6544, \"who'll\": 6545, \"who's\": 6546, 'who-o-oa': 6547, 'whoa': 6548, 'whoa-ho': 6549, 'whoever': 6550, 'whole': 6551, 'wholeheartedly': 6552, 'whoo': 6553, 'whoopi': 6554, 'whoops': 6555, 'whose': 6556, 'whup': 6557, 'why': 6558, 'wide': 6559, 'widow': 6560, 'wiener': 6561, 'wieners': 6562, 'wienerschnitzel': 6563, 'wife': 6564, \"wife's\": 6565, 'wife-swapping': 6566, 'wiggle': 6567, 'wiggle-frowns': 6568, 'wiggum': 6569, 'wigs': 6570, 'wikipedia': 6571, 'wild': 6572, 'wildest': 6573, 'wildfever': 6574, 'will': 6575, 'william': 6576, 'williams': 6577, 'willing': 6578, 'willy': 6579, 'win': 6580, 'winces': 6581, 'winch': 6582, 'wind': 6583, 'winded': 6584, 'windelle': 6585, 'windex': 6586, 'window': 6587, 'windowshade': 6588, 'windshield': 6589, 'wine': 6590, 'wing': 6591, 'wings': 6592, 'winks': 6593, 'winner': 6594, 'winning': 6595, 'winnings': 6596, \"wino's\": 6597, 'wins': 6598, 'winston': 6599, 'wipe': 6600, 'wipes': 6601, 'wiping': 6602, 'wire': 6603, 'wisconsin': 6604, 'wise': 6605, 'wish': 6606, 'wish-meat': 6607, 'wishes': 6608, 'wishful': 6609, 'wishing': 6610, 'wistful': 6611, 'witches': 6612, 'with': 6613, 'without': 6614, 'without:': 6615, 'wittgenstein': 6616, 'witty': 6617, 'wizard': 6618, 'wobble': 6619, 'wobbly': 6620, 'woe:': 6621, 'wok': 6622, 'wolfcastle': 6623, 'wolfe': 6624, 'wolverines': 6625, 'wolveriskey': 6626, 'woman': 6627, 'woman:': 6628, 'woman_bystander:': 6629, 'womb': 6630, 'women': 6631, 'won': 6632, \"won't\": 6633, 'wonder': 6634, 'wondered': 6635, 'wonderful': 6636, \"wonderin'\": 6637, 'wondering': 6638, 'woo': 6639, 'woo-hoo': 6640, 'wood': 6641, 'woodchucks': 6642, 'wooden': 6643, 'wooooo': 6644, 'woooooo': 6645, 'woozy': 6646, 'word': 6647, 'wordloaf': 6648, 'words': 6649, 'wore': 6650, 'work': 6651, 'worked': 6652, 'workers': 6653, \"workin'\": 6654, 'working': 6655, 'works': 6656, 'world': 6657, \"world's\": 6658, 'world-class': 6659, 'worldly': 6660, 'worldview': 6661, 'worried': 6662, 'worry': 6663, 'worse': 6664, 'worst': 6665, 'worth': 6666, 'worthless': 6667, 'would': 6668, 'woulda': 6669, \"wouldn't\": 6670, \"wouldn't-a\": 6671, 'wound': 6672, 'wounds': 6673, 'wow': 6674, 'wowww': 6675, 'wrap': 6676, 'wrapped': 6677, 'wraps': 6678, 'wreck': 6679, 'wrecking': 6680, 'wrestle': 6681, 'wrestling': 6682, 'write': 6683, 'writer:': 6684, 'writers': 6685, \"writin'\": 6686, 'writing': 6687, 'written': 6688, 'wrong': 6689, 'wrote': 6690, 'wudgy': 6691, 'wuss': 6692, 'wussy': 6693, 'x': 6694, 'x-men': 6695, 'xanders': 6696, 'xx': 6697, 'y': 6698, \"y'know\": 6699, \"y'money's\": 6700, \"y'see\": 6701, 'y-you': 6702, 'ya': 6703, \"ya'\": 6704, 'yak': 6705, 'yammering': 6706, 'yap': 6707, 'yard': 6708, 'yards': 6709, 'yawns': 6710, 'ye': 6711, 'yea': 6712, 'yeah': 6713, 'year': 6714, \"year's\": 6715, 'years': 6716, 'yee-ha': 6717, 'yee-haw': 6718, 'yell': 6719, 'yelling': 6720, 'yello': 6721, 'yellow': 6722, 'yellow-belly': 6723, 'yells': 6724, 'yelp': 6725, 'yep': 6726, 'yes': 6727, 'yesterday': 6728, \"yesterday's\": 6729, 'yet': 6730, 'yew': 6731, \"yieldin'\": 6732, 'yo': 6733, 'yogurt': 6734, 'yoink': 6735, 'yoo': 6736, 'you': 6737, \"you'd\": 6738, \"you'll\": 6739, \"you're\": 6740, \"you've\": 6741, 'you-need-man': 6742, 'young': 6743, 'young_barfly:': 6744, 'young_homer:': 6745, 'young_marge:': 6746, 'young_moe:': 6747, 'youngsters': 6748, 'your': 6749, 'yours': 6750, 'yourse': 6751, 'yourself': 6752, 'yourselves': 6753, 'youse': 6754, 'youth': 6755, 'youuu': 6756, 'yuh-huh': 6757, 'yup': 6758, 'zack': 6759, 'ze-ro': 6760, 'zeal': 6761, 'zero': 6762, 'ziff': 6763, 'ziffcorp': 6764, 'zinged': 6765, 'zone': 6766, 'zoomed': 6767, '||comma||': 6768, '||dash||': 6769, '||exclamationmark||': 6770, '||leftparentheses||': 6771, '||period||': 6772, '||questionmark||': 6773, '||quotationmark||': 6774, '||return||': 6775, '||rightparentheses||': 6776, '||semicolon||': 6777, 'à': 6778}\n"
     ]
    }
   ],
   "source": [
    "\"\"\"\n",
    "DON'T MODIFY ANYTHING IN THIS CELL\n",
    "\"\"\"\n",
    "# Preprocess Training, Validation, and Testing Data\n",
    "helper.preprocess_and_save_data(data_dir, token_lookup, create_lookup_tables)"
   ]
  },
  {
   "cell_type": "markdown",
   "metadata": {},
   "source": [
    "# Check Point\n",
    "This is your first checkpoint. If you ever decide to come back to this notebook or have to restart the notebook, you can start from here. The preprocessed data has been saved to disk."
   ]
  },
  {
   "cell_type": "code",
   "execution_count": 6,
   "metadata": {},
   "outputs": [],
   "source": [
    "\"\"\"\n",
    "DON'T MODIFY ANYTHING IN THIS CELL\n",
    "\"\"\"\n",
    "import helper\n",
    "import numpy as np\n",
    "import problem_unittests as tests\n",
    "\n",
    "int_text, vocab_to_int, int_to_vocab, token_dict = helper.load_preprocess()"
   ]
  },
  {
   "cell_type": "markdown",
   "metadata": {},
   "source": [
    "## Build the Neural Network\n",
    "You'll build the components necessary to build a RNN by implementing the following functions below:\n",
    "- get_inputs\n",
    "- get_init_cell\n",
    "- get_embed\n",
    "- build_rnn\n",
    "- build_nn\n",
    "- get_batches\n",
    "\n",
    "### Check the Version of TensorFlow and Access to GPU"
   ]
  },
  {
   "cell_type": "code",
   "execution_count": 7,
   "metadata": {},
   "outputs": [
    {
     "name": "stdout",
     "output_type": "stream",
     "text": [
      "TensorFlow Version: 1.3.0\n",
      "Default GPU Device: /gpu:0\n"
     ]
    }
   ],
   "source": [
    "\"\"\"\n",
    "DON'T MODIFY ANYTHING IN THIS CELL\n",
    "\"\"\"\n",
    "from distutils.version import LooseVersion\n",
    "import warnings\n",
    "import tensorflow as tf\n",
    "\n",
    "# Check TensorFlow Version\n",
    "assert LooseVersion(tf.__version__) >= LooseVersion('1.3'), 'Please use TensorFlow version 1.3 or newer'\n",
    "print('TensorFlow Version: {}'.format(tf.__version__))\n",
    "\n",
    "# Check for a GPU\n",
    "if not tf.test.gpu_device_name():\n",
    "    warnings.warn('No GPU found. Please use a GPU to train your neural network.')\n",
    "else:\n",
    "    print('Default GPU Device: {}'.format(tf.test.gpu_device_name()))"
   ]
  },
  {
   "cell_type": "markdown",
   "metadata": {},
   "source": [
    "### Input\n",
    "Implement the `get_inputs()` function to create TF Placeholders for the Neural Network.  It should create the following placeholders:\n",
    "- Input text placeholder named \"input\" using the [TF Placeholder](https://www.tensorflow.org/api_docs/python/tf/placeholder) `name` parameter.\n",
    "- Targets placeholder\n",
    "- Learning Rate placeholder\n",
    "\n",
    "Return the placeholders in the following tuple `(Input, Targets, LearningRate)`"
   ]
  },
  {
   "cell_type": "code",
   "execution_count": 8,
   "metadata": {},
   "outputs": [
    {
     "name": "stdout",
     "output_type": "stream",
     "text": [
      "Tests Passed\n"
     ]
    }
   ],
   "source": [
    "def get_inputs():\n",
    "    \"\"\"\n",
    "    Create TF Placeholders for input, targets, and learning rate.\n",
    "    :return: Tuple (input, targets, learning rate)\n",
    "    \"\"\"\n",
    "    # TODO: Implement Function\n",
    "    \n",
    "    inputs = tf.placeholder(tf.int32, shape=(None, None) , name=\"input\")\n",
    "    targets = tf.placeholder(tf.int32, shape=(None, None), name=\"target\")\n",
    "    learning_rate = tf.placeholder(tf.float32, name=\"learning_rate\")\n",
    "    return inputs, targets, learning_rate\n",
    "\n",
    "\n",
    "\"\"\"\n",
    "DON'T MODIFY ANYTHING IN THIS CELL THAT IS BELOW THIS LINE\n",
    "\"\"\"\n",
    "tests.test_get_inputs(get_inputs)"
   ]
  },
  {
   "cell_type": "markdown",
   "metadata": {},
   "source": [
    "### Build RNN Cell and Initialize\n",
    "Stack one or more [`BasicLSTMCells`](https://www.tensorflow.org/api_docs/python/tf/contrib/rnn/BasicLSTMCell) in a [`MultiRNNCell`](https://www.tensorflow.org/api_docs/python/tf/contrib/rnn/MultiRNNCell).\n",
    "- The Rnn size should be set using `rnn_size`\n",
    "- Initalize Cell State using the MultiRNNCell's [`zero_state()`](https://www.tensorflow.org/api_docs/python/tf/contrib/rnn/MultiRNNCell#zero_state) function\n",
    "    - Apply the name \"initial_state\" to the initial state using [`tf.identity()`](https://www.tensorflow.org/api_docs/python/tf/identity)\n",
    "\n",
    "Return the cell and initial state in the following tuple `(Cell, InitialState)`"
   ]
  },
  {
   "cell_type": "code",
   "execution_count": 9,
   "metadata": {},
   "outputs": [
    {
     "name": "stdout",
     "output_type": "stream",
     "text": [
      "Tests Passed\n"
     ]
    }
   ],
   "source": [
    "\n",
    "\n",
    "def gru_cell(size):\n",
    "    return tf.contrib.rnn.GRUCell(size)\n",
    "\n",
    "def lstm_cell(size):\n",
    "    return tf.contrib.rnn.BasicLSTMCell(size)\n",
    "\n",
    "def get_init_cell(batch_size, rnn_size):\n",
    "    \"\"\"\n",
    "    Create an RNN Cell and initialize it.\n",
    "    :param batch_size: Size of batches\n",
    "    :param rnn_size: Size of RNNs\n",
    "    :return: Tuple (cell, initialize state)\n",
    "    \"\"\"\n",
    "    \n",
    "    # Use a basic LSTM cell\n",
    "    \n",
    "    def make_cell(size):\n",
    "        cell = lstm_cell(size)\n",
    "        drop = tf.contrib.rnn.DropoutWrapper(cell, output_keep_prob=0.5)\n",
    "        return drop\n",
    "    \n",
    "\n",
    "    \n",
    "    cell = tf.contrib.rnn.MultiRNNCell([make_cell(rnn_size) for _ in range(2)])\n",
    "    #cell = tf.contrib.rnn.MultiRNNCell([gru_cell(rnn_size)])\n",
    "    initial_state = tf.identity(cell.zero_state(batch_size, tf.float32), name=\"initial_state\")\n",
    "    \n",
    "    return cell, initial_state\n",
    "\n",
    "\n",
    "\"\"\"\n",
    "DON'T MODIFY ANYTHING IN THIS CELL THAT IS BELOW THIS LINE\n",
    "\"\"\"\n",
    "tests.test_get_init_cell(get_init_cell)"
   ]
  },
  {
   "cell_type": "markdown",
   "metadata": {},
   "source": [
    "### Word Embedding\n",
    "Apply embedding to `input_data` using TensorFlow.  Return the embedded sequence."
   ]
  },
  {
   "cell_type": "code",
   "execution_count": 10,
   "metadata": {},
   "outputs": [
    {
     "name": "stdout",
     "output_type": "stream",
     "text": [
      "(50, 5, 256)\n",
      "Tests Passed\n"
     ]
    }
   ],
   "source": [
    "\n",
    "\n",
    "def get_embed(input_data, vocab_size, embed_dim):\n",
    "    \"\"\"\n",
    "    Create embedding for <input_data>.\n",
    "    :param input_data: TF placeholder for text input.\n",
    "    :param vocab_size: Number of words in vocabulary.\n",
    "    :param embed_dim: Number of embedding dimensions\n",
    "    :return: Embedded input.\n",
    "    \"\"\"\n",
    "    # TODO: Implement Function\n",
    "    \n",
    "    embedding = tf.Variable(tf.random_uniform((vocab_size, embed_dim)), name=\"embedding\")\n",
    "    embed = tf.nn.embedding_lookup(embedding, input_data)\n",
    "    \n",
    "    print(embed.get_shape())\n",
    "    \n",
    "\n",
    "    return embed\n",
    "\n",
    "\n",
    "\"\"\"\n",
    "DON'T MODIFY ANYTHING IN THIS CELL THAT IS BELOW THIS LINE\n",
    "\"\"\"\n",
    "tests.test_get_embed(get_embed)"
   ]
  },
  {
   "cell_type": "markdown",
   "metadata": {},
   "source": [
    "### Build RNN\n",
    "You created a RNN Cell in the `get_init_cell()` function.  Time to use the cell to create a RNN.\n",
    "- Build the RNN using the [`tf.nn.dynamic_rnn()`](https://www.tensorflow.org/api_docs/python/tf/nn/dynamic_rnn)\n",
    " - Apply the name \"final_state\" to the final state using [`tf.identity()`](https://www.tensorflow.org/api_docs/python/tf/identity)\n",
    "\n",
    "Return the outputs and final_state state in the following tuple `(Outputs, FinalState)` "
   ]
  },
  {
   "cell_type": "code",
   "execution_count": 11,
   "metadata": {},
   "outputs": [
    {
     "name": "stdout",
     "output_type": "stream",
     "text": [
      "Tests Passed\n"
     ]
    }
   ],
   "source": [
    "def build_rnn(cell, inputs):\n",
    "    \"\"\"\n",
    "    Create a RNN using a RNN Cell\n",
    "    :param cell: RNN Cell\n",
    "    :param inputs: Input text data\n",
    "    :return: Tuple (Outputs, Final State)\n",
    "    \"\"\"\n",
    "    \n",
    "    #print(\"Input:\", inputs)\n",
    "    #cell, initial_state = get_init_cell(batch_size, rnn_layers, rnn_size, keep_prob)\n",
    "    \n",
    "    outputs, state = tf.nn.dynamic_rnn(cell, inputs, dtype='float32')\n",
    "\n",
    "    final_state = tf.identity(state,name=\"final_state\")\n",
    "    \n",
    "    # TODO: Implement Function\n",
    "    return outputs, final_state\n",
    "\n",
    "\n",
    "\"\"\"\n",
    "DON'T MODIFY ANYTHING IN THIS CELL THAT IS BELOW THIS LINE\n",
    "\"\"\"\n",
    "tests.test_build_rnn(build_rnn)"
   ]
  },
  {
   "cell_type": "markdown",
   "metadata": {},
   "source": [
    "### Build the Neural Network\n",
    "Apply the functions you implemented above to:\n",
    "- Apply embedding to `input_data` using your `get_embed(input_data, vocab_size, embed_dim)` function.\n",
    "- Build RNN using `cell` and your `build_rnn(cell, inputs)` function.\n",
    "- Apply a fully connected layer with a linear activation and `vocab_size` as the number of outputs.\n",
    "\n",
    "Return the logits and final state in the following tuple (Logits, FinalState) "
   ]
  },
  {
   "cell_type": "code",
   "execution_count": 12,
   "metadata": {},
   "outputs": [
    {
     "name": "stdout",
     "output_type": "stream",
     "text": [
      "(128, 5, 300)\n",
      "Tests Passed\n"
     ]
    }
   ],
   "source": [
    "def build_nn(cell, rnn_size, input_data, vocab_size, embed_dim):\n",
    "    \"\"\"\n",
    "    Build part of the neural network\n",
    "    :param cell: RNN cell\n",
    "    :param rnn_size: Size of rnns\n",
    "    :param input_data: Input data\n",
    "    :param vocab_size: Vocabulary size\n",
    "    :param embed_dim: Number of embedding dimensions\n",
    "    :return: Tuple (Logits, FinalState)\n",
    "    \"\"\"\n",
    "    # TODO: Implement Function\n",
    "    \n",
    "    \n",
    "    embed = get_embed(input_data, vocab_size, embed_dim)\n",
    "    outputs, final_state = build_rnn(cell, embed)\n",
    "    \n",
    "    weights = tf.truncated_normal_initializer(stddev=0.1)\n",
    "    biases = tf.zeros_initializer()\n",
    "        \n",
    "    logits = tf.contrib.layers.fully_connected(outputs,\n",
    "                    num_outputs = vocab_size,\n",
    "                    activation_fn = None,\n",
    "                    weights_initializer = weights,\n",
    "                    biases_initializer = biases)\n",
    "            \n",
    "    \n",
    "    return logits, final_state\n",
    "\n",
    "\n",
    "\"\"\"\n",
    "DON'T MODIFY ANYTHING IN THIS CELL THAT IS BELOW THIS LINE\n",
    "\"\"\"\n",
    "tests.test_build_nn(build_nn)"
   ]
  },
  {
   "cell_type": "markdown",
   "metadata": {},
   "source": [
    "### Batches\n",
    "Implement `get_batches` to create batches of input and targets using `int_text`.  The batches should be a Numpy array with the shape `(number of batches, 2, batch size, sequence length)`. Each batch contains two elements:\n",
    "- The first element is a single batch of **input** with the shape `[batch size, sequence length]`\n",
    "- The second element is a single batch of **targets** with the shape `[batch size, sequence length]`\n",
    "\n",
    "If you can't fill the last batch with enough data, drop the last batch.\n",
    "\n",
    "For example, `get_batches([1, 2, 3, 4, 5, 6, 7, 8, 9, 10, 11, 12, 13, 14, 15, 16, 17, 18, 19, 20], 3, 2)` would return a Numpy array of the following:\n",
    "```\n",
    "[\n",
    "  # First Batch\n",
    "  [\n",
    "    # Batch of Input\n",
    "    [[ 1  2], [ 7  8], [13 14]]\n",
    "    # Batch of targets\n",
    "    [[ 2  3], [ 8  9], [14 15]]\n",
    "  ]\n",
    "\n",
    "  # Second Batch\n",
    "  [\n",
    "    # Batch of Input\n",
    "    [[ 3  4], [ 9 10], [15 16]]\n",
    "    # Batch of targets\n",
    "    [[ 4  5], [10 11], [16 17]]\n",
    "  ]\n",
    "\n",
    "  # Third Batch\n",
    "  [\n",
    "    # Batch of Input\n",
    "    [[ 5  6], [11 12], [17 18]]\n",
    "    # Batch of targets\n",
    "    [[ 6  7], [12 13], [18  1]]\n",
    "  ]\n",
    "]\n",
    "```\n",
    "\n",
    "Notice that the last target value in the last batch is the first input value of the first batch. In this case, `1`. This is a common technique used when creating sequence batches, although it is rather unintuitive."
   ]
  },
  {
   "cell_type": "code",
   "execution_count": 13,
   "metadata": {},
   "outputs": [
    {
     "name": "stdout",
     "output_type": "stream",
     "text": [
      "batch_size : 128\n",
      "seq_length : 5\n",
      "Number of batches : 7\n",
      "Tests Passed\n"
     ]
    }
   ],
   "source": [
    "def get_batches(int_text, batch_size, sequence_length):\n",
    "    chars_per_batch = batch_size * sequence_length\n",
    "    n_batches = len(int_text) // chars_per_batch\n",
    "    print('batch_size : %s' % batch_size)\n",
    "    print('seq_length : %s' % sequence_length)\n",
    "    print('Number of batches : %s' % n_batches)\n",
    "\n",
    "    #shift everything in a new data for target\n",
    "    input_data = np.array(int_text[:(n_batches * chars_per_batch)])\n",
    "    target_data = np.array(int_text[1: (n_batches * chars_per_batch) + 1])\n",
    "    target_data[-1] = input_data[0]\n",
    "\n",
    "    \n",
    "    inputs = input_data.reshape(batch_size, -1)\n",
    "    targets = target_data.reshape(batch_size, -1)\n",
    "\n",
    "    inputs = np.split(inputs, n_batches, -1)\n",
    "    #print(inputs)\n",
    "    targets = np.split(targets, n_batches, -1)\n",
    "    #print(inputs)\n",
    "    #print(targets)\n",
    "\n",
    "    batches = np.array(list(zip(inputs, targets)))\n",
    "    \n",
    "    return batches\n",
    "\n",
    "\"\"\"\n",
    "DON'T MODIFY ANYTHING IN THIS CELL THAT IS BELOW THIS LINE\n",
    "\"\"\"\n",
    "tests.test_get_batches(get_batches)"
   ]
  },
  {
   "cell_type": "markdown",
   "metadata": {},
   "source": [
    "## Neural Network Training\n",
    "### Hyperparameters\n",
    "Tune the following parameters:\n",
    "\n",
    "- Set `num_epochs` to the number of epochs.\n",
    "- Set `batch_size` to the batch size.\n",
    "- Set `rnn_size` to the size of the RNNs.\n",
    "- Set `embed_dim` to the size of the embedding.\n",
    "- Set `seq_length` to the length of sequence.\n",
    "- Set `learning_rate` to the learning rate.\n",
    "- Set `show_every_n_batches` to the number of batches the neural network should print progress."
   ]
  },
  {
   "cell_type": "code",
   "execution_count": 14,
   "metadata": {},
   "outputs": [],
   "source": [
    "# Number of Epochs\n",
    "num_epochs = 256\n",
    "# Batch Size\n",
    "batch_size = 128\n",
    "# RNN Size 32,64,128,or256\n",
    "rnn_size = 512\n",
    "# Embedding Dimension Size\n",
    "embed_dim = 256\n",
    "# Sequence Length\n",
    "seq_length = 50\n",
    "# Learning Rate\n",
    "learning_rate = 0.001\n",
    "# Show stats for every n number of batches\n",
    "show_every_n_batches = 128\n",
    "\n",
    "\"\"\"\n",
    "DON'T MODIFY ANYTHING IN THIS CELL THAT IS BELOW THIS LINE\n",
    "\"\"\"\n",
    "save_dir = './save'"
   ]
  },
  {
   "cell_type": "markdown",
   "metadata": {},
   "source": [
    "### Build the Graph\n",
    "Build the graph using the neural network you implemented."
   ]
  },
  {
   "cell_type": "code",
   "execution_count": 15,
   "metadata": {},
   "outputs": [
    {
     "name": "stdout",
     "output_type": "stream",
     "text": [
      "(?, ?, 256)\n"
     ]
    }
   ],
   "source": [
    "\"\"\"\n",
    "DON'T MODIFY ANYTHING IN THIS CELL\n",
    "\"\"\"\n",
    "from tensorflow.contrib import seq2seq\n",
    "\n",
    "train_graph = tf.Graph()\n",
    "with train_graph.as_default():\n",
    "    vocab_size = len(int_to_vocab)\n",
    "    input_text, targets, lr = get_inputs()\n",
    "    input_data_shape = tf.shape(input_text)\n",
    "    cell, initial_state = get_init_cell(input_data_shape[0], rnn_size)\n",
    "    logits, final_state = build_nn(cell, rnn_size, input_text, vocab_size, embed_dim)\n",
    "\n",
    "    # Probabilities for generating words\n",
    "    probs = tf.nn.softmax(logits, name='probs')\n",
    "\n",
    "    # Loss function\n",
    "    cost = seq2seq.sequence_loss(\n",
    "        logits,\n",
    "        targets,\n",
    "        tf.ones([input_data_shape[0], input_data_shape[1]]))\n",
    "\n",
    "    # Optimizer\n",
    "    optimizer = tf.train.AdamOptimizer(lr)\n",
    "\n",
    "    # Gradient Clipping\n",
    "    gradients = optimizer.compute_gradients(cost)\n",
    "    capped_gradients = [(tf.clip_by_value(grad, -1., 1.), var) for grad, var in gradients if grad is not None]\n",
    "    train_op = optimizer.apply_gradients(capped_gradients)"
   ]
  },
  {
   "cell_type": "markdown",
   "metadata": {},
   "source": [
    "## Train\n",
    "Train the neural network on the preprocessed data.  If you have a hard time getting a good loss, check the [forums](https://discussions.udacity.com/) to see if anyone is having the same problem."
   ]
  },
  {
   "cell_type": "code",
   "execution_count": 16,
   "metadata": {},
   "outputs": [
    {
     "name": "stdout",
     "output_type": "stream",
     "text": [
      "batch_size : 128\n",
      "seq_length : 50\n",
      "Number of batches : 10\n",
      "Epoch   0 Batch    0/10   train_loss = 8.934\n",
      "Epoch  12 Batch    8/10   train_loss = 5.215\n",
      "Epoch  25 Batch    6/10   train_loss = 4.624\n",
      "Epoch  38 Batch    4/10   train_loss = 4.054\n",
      "Epoch  51 Batch    2/10   train_loss = 3.625\n",
      "Epoch  64 Batch    0/10   train_loss = 3.191\n",
      "Epoch  76 Batch    8/10   train_loss = 2.830\n",
      "Epoch  89 Batch    6/10   train_loss = 2.509\n",
      "Epoch 102 Batch    4/10   train_loss = 2.143\n",
      "Epoch 115 Batch    2/10   train_loss = 1.935\n",
      "Epoch 128 Batch    0/10   train_loss = 1.717\n",
      "Epoch 140 Batch    8/10   train_loss = 1.520\n",
      "Epoch 153 Batch    6/10   train_loss = 1.339\n",
      "Epoch 166 Batch    4/10   train_loss = 1.276\n",
      "Epoch 179 Batch    2/10   train_loss = 1.145\n",
      "Epoch 192 Batch    0/10   train_loss = 0.949\n",
      "Epoch 204 Batch    8/10   train_loss = 0.812\n",
      "Epoch 217 Batch    6/10   train_loss = 0.773\n",
      "Epoch 230 Batch    4/10   train_loss = 0.694\n",
      "Epoch 243 Batch    2/10   train_loss = 0.625\n",
      "Model Trained and Saved\n"
     ]
    }
   ],
   "source": [
    "\"\"\"\n",
    "DON'T MODIFY ANYTHING IN THIS CELL\n",
    "\"\"\"\n",
    "batches = get_batches(int_text, batch_size, seq_length)\n",
    "\n",
    "with tf.Session(graph=train_graph) as sess:\n",
    "    sess.run(tf.global_variables_initializer())\n",
    "\n",
    "    for epoch_i in range(num_epochs):\n",
    "        state = sess.run(initial_state, {input_text: batches[0][0]})\n",
    "\n",
    "        for batch_i, (x, y) in enumerate(batches):\n",
    "            feed = {\n",
    "                input_text: x,\n",
    "                targets: y,\n",
    "                initial_state: state,\n",
    "                lr: learning_rate}\n",
    "            train_loss, state, _ = sess.run([cost, final_state, train_op], feed)\n",
    "\n",
    "            # Show every <show_every_n_batches> batches\n",
    "            if (epoch_i * len(batches) + batch_i) % show_every_n_batches == 0:\n",
    "                print('Epoch {:>3} Batch {:>4}/{}   train_loss = {:.3f}'.format(\n",
    "                    epoch_i,\n",
    "                    batch_i,\n",
    "                    len(batches),\n",
    "                    train_loss))\n",
    "\n",
    "    # Save Model\n",
    "    saver = tf.train.Saver()\n",
    "    saver.save(sess, save_dir)\n",
    "    print('Model Trained and Saved')"
   ]
  },
  {
   "cell_type": "markdown",
   "metadata": {},
   "source": [
    "## Save Parameters\n",
    "Save `seq_length` and `save_dir` for generating a new TV script."
   ]
  },
  {
   "cell_type": "code",
   "execution_count": 17,
   "metadata": {},
   "outputs": [],
   "source": [
    "\"\"\"\n",
    "DON'T MODIFY ANYTHING IN THIS CELL\n",
    "\"\"\"\n",
    "# Save parameters for checkpoint\n",
    "helper.save_params((seq_length, save_dir))"
   ]
  },
  {
   "cell_type": "markdown",
   "metadata": {},
   "source": [
    "# Checkpoint"
   ]
  },
  {
   "cell_type": "code",
   "execution_count": 18,
   "metadata": {},
   "outputs": [],
   "source": [
    "\"\"\"\n",
    "DON'T MODIFY ANYTHING IN THIS CELL\n",
    "\"\"\"\n",
    "import tensorflow as tf\n",
    "import numpy as np\n",
    "import helper\n",
    "import problem_unittests as tests\n",
    "\n",
    "_, vocab_to_int, int_to_vocab, token_dict = helper.load_preprocess()\n",
    "seq_length, load_dir = helper.load_params()"
   ]
  },
  {
   "cell_type": "markdown",
   "metadata": {},
   "source": [
    "## Implement Generate Functions\n",
    "### Get Tensors\n",
    "Get tensors from `loaded_graph` using the function [`get_tensor_by_name()`](https://www.tensorflow.org/api_docs/python/tf/Graph#get_tensor_by_name).  Get the tensors using the following names:\n",
    "- \"input:0\"\n",
    "- \"initial_state:0\"\n",
    "- \"final_state:0\"\n",
    "- \"probs:0\"\n",
    "\n",
    "Return the tensors in the following tuple `(InputTensor, InitialStateTensor, FinalStateTensor, ProbsTensor)` "
   ]
  },
  {
   "cell_type": "code",
   "execution_count": 19,
   "metadata": {},
   "outputs": [
    {
     "name": "stdout",
     "output_type": "stream",
     "text": [
      "Tests Passed\n"
     ]
    }
   ],
   "source": [
    "def get_tensors(loaded_graph):\n",
    "    \"\"\"\n",
    "    Get input, initial state, final state, and probabilities tensor from <loaded_graph>\n",
    "    :param loaded_graph: TensorFlow graph loaded from file\n",
    "    :return: Tuple (InputTensor, InitialStateTensor, FinalStateTensor, ProbsTensor)\n",
    "    \"\"\"\n",
    "    \n",
    "    #some lookups from tf\n",
    "    input = loaded_graph.get_tensor_by_name('input:0')\n",
    "    initial_state = loaded_graph.get_tensor_by_name('initial_state:0')\n",
    "    final_tensor = loaded_graph.get_tensor_by_name('final_state:0')\n",
    "    probs_tensor = loaded_graph.get_tensor_by_name('probs:0')\n",
    "\n",
    "    return input, initial_state, final_tensor, probs_tensor\n",
    "\n",
    "\n",
    "\"\"\"\n",
    "DON'T MODIFY ANYTHING IN THIS CELL THAT IS BELOW THIS LINE\n",
    "\"\"\"\n",
    "tests.test_get_tensors(get_tensors)"
   ]
  },
  {
   "cell_type": "markdown",
   "metadata": {},
   "source": [
    "### Choose Word\n",
    "Implement the `pick_word()` function to select the next word using `probabilities`."
   ]
  },
  {
   "cell_type": "code",
   "execution_count": 20,
   "metadata": {},
   "outputs": [
    {
     "name": "stdout",
     "output_type": "stream",
     "text": [
      "Tests Passed\n"
     ]
    }
   ],
   "source": [
    "def pick_word(probabilities, int_to_vocab):\n",
    "    \"\"\"\n",
    "    Pick the next word in the generated text\n",
    "    :param probabilities: Probabilites of the next word\n",
    "    :param int_to_vocab: Dictionary of word ids as the keys and words as the values\n",
    "    :return: String of the predicted word\n",
    "    \"\"\"\n",
    "    \n",
    "    #more np magic\n",
    "    #print(len(probabilities))\n",
    "    x=np.random.choice(len(probabilities), 30, p=probabilities)    \n",
    "    return int_to_vocab[x[0]]\n",
    "    return None\n",
    "\n",
    "\n",
    "\"\"\"\n",
    "DON'T MODIFY ANYTHING IN THIS CELL THAT IS BELOW THIS LINE\n",
    "\"\"\"\n",
    "tests.test_pick_word(pick_word)"
   ]
  },
  {
   "cell_type": "markdown",
   "metadata": {},
   "source": [
    "## Generate TV Script\n",
    "This will generate the TV script for you.  Set `gen_length` to the length of TV script you want to generate."
   ]
  },
  {
   "cell_type": "code",
   "execution_count": 23,
   "metadata": {},
   "outputs": [
    {
     "name": "stdout",
     "output_type": "stream",
     "text": [
      "INFO:tensorflow:Restoring parameters from ./save\n",
      "barney_gumble: hey, the back man much!\n",
      "carl_carlson: hey,, that's really i'm gonna mean?\n",
      "barney_gumble: i'm lucky line on the bar, barney) that's so they ain't party from a war bucks.\n",
      "carl_carlson: yeah, the aside is the car for from clean years.\n",
      "moe_szyslak: it's the part. i need a way i don't gone.\n",
      "homer_simpson: right!(computer noise)\n",
      "lenny_leonard: i knew it was a friend, duff.\n",
      "waylon_smithers: hi everybody.\n",
      "homer_simpson:(to self) i'm-so-stupid! i'm-so-stupid!\n",
      "krusty_the_clown:(reading sign) the glove baby... let's never remember... marge was the best isotopes...\n",
      "marge_simpson:(writing)\" barney is\" barney\" look off\" / no enough!\n",
      "\n",
      "\n",
      "barney_gumble: burns is. back our world!\n",
      "moe_szyslak: another duff! free called a computer job...\n",
      "barney_gumble: sorry your far one of the evil him truck.\n",
      "moe_szyslak: sorry all their people!(upset noise)\n",
      "moe_szyslak: ah, i've on here.\n"
     ]
    }
   ],
   "source": [
    "gen_length = 200\n",
    "# homer_simpson, moe_szyslak, or Barney_Gumble\n",
    "prime_word = 'barney_gumble'\n",
    "\n",
    "\"\"\"\n",
    "DON'T MODIFY ANYTHING IN THIS CELL THAT IS BELOW THIS LINE\n",
    "\"\"\"\n",
    "loaded_graph = tf.Graph()\n",
    "with tf.Session(graph=loaded_graph) as sess:\n",
    "    # Load saved model\n",
    "    loader = tf.train.import_meta_graph(load_dir + '.meta')\n",
    "    loader.restore(sess, load_dir)\n",
    "\n",
    "    # Get Tensors from loaded model\n",
    "    input_text, initial_state, final_state, probs = get_tensors(loaded_graph)\n",
    "\n",
    "    #loaded_graph.summary()\n",
    "    \n",
    "    # Sentences generation setup\n",
    "    gen_sentences = [prime_word + ':']\n",
    "    prev_state = sess.run(initial_state, {input_text: np.array([[1]])})\n",
    "\n",
    "    # Generate sentences\n",
    "    for n in range(gen_length):\n",
    "        # Dynamic Input\n",
    "        dyn_input = [[vocab_to_int[word] for word in gen_sentences[-seq_length:]]]\n",
    "        dyn_seq_length = len(dyn_input[0])\n",
    "\n",
    "        # Get Prediction\n",
    "        probabilities, prev_state = sess.run(\n",
    "            [probs, final_state],\n",
    "            {input_text: dyn_input, initial_state: prev_state})\n",
    "        \n",
    "        pred_word = pick_word(probabilities[0][dyn_seq_length-1], int_to_vocab)\n",
    "\n",
    "        gen_sentences.append(pred_word)\n",
    "    \n",
    "    # Remove tokens\n",
    "    tv_script = ' '.join(gen_sentences)\n",
    "    for key, token in token_dict.items():\n",
    "        ending = ' ' if key in ['\\n', '(', '\"'] else ''\n",
    "        tv_script = tv_script.replace(' ' + token.lower(), key)\n",
    "    tv_script = tv_script.replace('\\n ', '\\n')\n",
    "    tv_script = tv_script.replace('( ', '(')\n",
    "        \n",
    "    print(tv_script)"
   ]
  },
  {
   "cell_type": "markdown",
   "metadata": {},
   "source": [
    "# The TV Script is Nonsensical\n",
    "It's ok if the TV script doesn't make any sense.  We trained on less than a megabyte of text.  In order to get good results, you'll have to use a smaller vocabulary or get more data.  Luckily there's more data!  As we mentioned in the beggining of this project, this is a subset of [another dataset](https://www.kaggle.com/wcukierski/the-simpsons-by-the-data).  We didn't have you train on all the data, because that would take too long.  However, you are free to train your neural network on all the data.  After you complete the project, of course.\n",
    "# Submitting This Project\n",
    "When submitting this project, make sure to run all the cells before saving the notebook. Save the notebook file as \"dlnd_tv_script_generation.ipynb\" and save it as a HTML file under \"File\" -> \"Download as\". Include the \"helper.py\" and \"problem_unittests.py\" files in your submission."
   ]
  },
  {
   "cell_type": "code",
   "execution_count": null,
   "metadata": {},
   "outputs": [],
   "source": []
  },
  {
   "cell_type": "code",
   "execution_count": null,
   "metadata": {},
   "outputs": [],
   "source": []
  }
 ],
 "metadata": {
  "kernelspec": {
   "display_name": "Python 3",
   "language": "python",
   "name": "python3"
  },
  "language_info": {
   "codemirror_mode": {
    "name": "ipython",
    "version": 3
   },
   "file_extension": ".py",
   "mimetype": "text/x-python",
   "name": "python",
   "nbconvert_exporter": "python",
   "pygments_lexer": "ipython3",
   "version": "3.6.3"
  },
  "widgets": {
   "state": {},
   "version": "1.1.2"
  }
 },
 "nbformat": 4,
 "nbformat_minor": 1
}
